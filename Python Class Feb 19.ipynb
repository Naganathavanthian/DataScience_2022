{
 "cells": [
  {
   "cell_type": "markdown",
   "id": "e6b013a3",
   "metadata": {},
   "source": [
    "### Global Variables "
   ]
  },
  {
   "cell_type": "code",
   "execution_count": 1,
   "id": "66d22710",
   "metadata": {},
   "outputs": [
    {
     "name": "stdout",
     "output_type": "stream",
     "text": [
      "Inside the Func Global Variables\n",
      "Outside the Func Global Variables\n"
     ]
    }
   ],
   "source": [
    "c = \"Global Variables\"\n",
    "\n",
    "def function1():\n",
    "    print(\"Inside the Func\",c)\n",
    "function1()\n",
    "print(\"Outside the Func\",c)"
   ]
  },
  {
   "cell_type": "code",
   "execution_count": 4,
   "id": "6930e45e",
   "metadata": {},
   "outputs": [
    {
     "name": "stdout",
     "output_type": "stream",
     "text": [
      "local variable\n"
     ]
    },
    {
     "ename": "NameError",
     "evalue": "name 'local_var' is not defined",
     "output_type": "error",
     "traceback": [
      "\u001b[1;31m---------------------------------------------------------------------------\u001b[0m",
      "\u001b[1;31mNameError\u001b[0m                                 Traceback (most recent call last)",
      "\u001b[1;32m~\\AppData\\Local\\Temp/ipykernel_3444/939344602.py\u001b[0m in \u001b[0;36m<module>\u001b[1;34m\u001b[0m\n\u001b[0;32m      5\u001b[0m \u001b[1;33m\u001b[0m\u001b[0m\n\u001b[0;32m      6\u001b[0m \u001b[0mfunction2\u001b[0m\u001b[1;33m(\u001b[0m\u001b[1;33m)\u001b[0m\u001b[1;33m\u001b[0m\u001b[1;33m\u001b[0m\u001b[0m\n\u001b[1;32m----> 7\u001b[1;33m \u001b[0mlocal_var\u001b[0m\u001b[1;33m\u001b[0m\u001b[1;33m\u001b[0m\u001b[0m\n\u001b[0m",
      "\u001b[1;31mNameError\u001b[0m: name 'local_var' is not defined"
     ]
    }
   ],
   "source": [
    "# Example for Local Variable\n",
    "def function2():\n",
    "    local_var=\"local variable\"\n",
    "    print(local_var)\n",
    "\n",
    "function2()\n",
    "local_var\n"
   ]
  },
  {
   "cell_type": "markdown",
   "id": "f68acdba",
   "metadata": {},
   "source": [
    "### Local and Global in same code"
   ]
  },
  {
   "cell_type": "code",
   "execution_count": 11,
   "id": "3b284313",
   "metadata": {},
   "outputs": [
    {
     "name": "stdout",
     "output_type": "stream",
     "text": [
      "This is my local variable 10\n",
      "this is my global variable 30\n"
     ]
    }
   ],
   "source": [
    " # Defining global inside the funtion will allow us to modify/assign the variable defined outside the scope of function\n",
    "x = 20\n",
    "\n",
    "def global_var_ex():\n",
    "    y = 10\n",
    "    global x\n",
    "    x = x + 10\n",
    "    print(\"This is my local variable\",y)\n",
    "    print(\"this is my global variable\",x)\n",
    "\n",
    "global_var_ex()"
   ]
  },
  {
   "cell_type": "code",
   "execution_count": 16,
   "id": "8311f4fc",
   "metadata": {},
   "outputs": [
    {
     "name": "stdout",
     "output_type": "stream",
     "text": [
      "This is my local variable 10\n",
      "this is my global variable 80\n"
     ]
    },
    {
     "data": {
      "text/plain": [
       "90"
      ]
     },
     "execution_count": 16,
     "metadata": {},
     "output_type": "execute_result"
    }
   ],
   "source": [
    "z = 20\n",
    "\n",
    "def global_var_ex1():\n",
    "    y = 10\n",
    "    global x\n",
    "    x = z + 60\n",
    "    print(\"This is my local variable\",y)\n",
    "    print(\"this is my global variable\",x)\n",
    "\n",
    "global_var_ex1()\n",
    "x= x + 10\n",
    "x"
   ]
  },
  {
   "cell_type": "code",
   "execution_count": 19,
   "id": "c870e561",
   "metadata": {},
   "outputs": [
    {
     "name": "stdout",
     "output_type": "stream",
     "text": [
      "value before updating 25\n"
     ]
    },
    {
     "data": {
      "text/plain": [
       "625"
      ]
     },
     "execution_count": 19,
     "metadata": {},
     "output_type": "execute_result"
    }
   ],
   "source": [
    "ab = 25\n",
    "\n",
    "def multi():\n",
    "    global ab\n",
    "    print(\"value before updating\", ab)\n",
    "    ab = ab * ab\n",
    "    return ab\n",
    "\n",
    "multi()\n",
    "ab"
   ]
  },
  {
   "cell_type": "markdown",
   "id": "5dc872f8",
   "metadata": {},
   "source": [
    "### Nested List"
   ]
  },
  {
   "cell_type": "code",
   "execution_count": 20,
   "id": "36340259",
   "metadata": {},
   "outputs": [
    {
     "data": {
      "text/plain": [
       "[1, 2, [3, 4], ['five', 'six', 'seven']]"
      ]
     },
     "execution_count": 20,
     "metadata": {},
     "output_type": "execute_result"
    }
   ],
   "source": [
    "nested_list = [1,2,[3,4],[\"five\",\"six\",\"seven\"]]\n",
    "nested_list"
   ]
  },
  {
   "cell_type": "code",
   "execution_count": 21,
   "id": "3aa2ca13",
   "metadata": {},
   "outputs": [
    {
     "data": {
      "text/plain": [
       "4"
      ]
     },
     "execution_count": 21,
     "metadata": {},
     "output_type": "execute_result"
    }
   ],
   "source": [
    "nested_list[2][1]"
   ]
  },
  {
   "cell_type": "code",
   "execution_count": 22,
   "id": "dbdbb593",
   "metadata": {},
   "outputs": [
    {
     "data": {
      "text/plain": [
       "'seven'"
      ]
     },
     "execution_count": 22,
     "metadata": {},
     "output_type": "execute_result"
    }
   ],
   "source": [
    "nested_list[3][2]"
   ]
  },
  {
   "cell_type": "code",
   "execution_count": 23,
   "id": "07592453",
   "metadata": {},
   "outputs": [
    {
     "data": {
      "text/plain": [
       "2"
      ]
     },
     "execution_count": 23,
     "metadata": {},
     "output_type": "execute_result"
    }
   ],
   "source": [
    "nested_list[1]"
   ]
  },
  {
   "cell_type": "code",
   "execution_count": 24,
   "id": "a3aa8816",
   "metadata": {},
   "outputs": [
    {
     "data": {
      "text/plain": [
       "4"
      ]
     },
     "execution_count": 24,
     "metadata": {},
     "output_type": "execute_result"
    }
   ],
   "source": [
    "nested_list[-2][-1]"
   ]
  },
  {
   "cell_type": "code",
   "execution_count": 25,
   "id": "1b8a037c",
   "metadata": {},
   "outputs": [
    {
     "data": {
      "text/plain": [
       "['five', 'six', 'seven']"
      ]
     },
     "execution_count": 25,
     "metadata": {},
     "output_type": "execute_result"
    }
   ],
   "source": [
    "nested_list[-1]"
   ]
  },
  {
   "cell_type": "code",
   "execution_count": 26,
   "id": "b4160dfb",
   "metadata": {},
   "outputs": [
    {
     "data": {
      "text/plain": [
       "'five'"
      ]
     },
     "execution_count": 26,
     "metadata": {},
     "output_type": "execute_result"
    }
   ],
   "source": [
    "nested_list[-1][0]"
   ]
  },
  {
   "cell_type": "markdown",
   "id": "52c2d9e3",
   "metadata": {},
   "source": [
    "### Append and Extend"
   ]
  },
  {
   "cell_type": "code",
   "execution_count": 27,
   "id": "b76060e9",
   "metadata": {},
   "outputs": [
    {
     "data": {
      "text/plain": [
       "[5, 4, 3, 7]"
      ]
     },
     "execution_count": 27,
     "metadata": {},
     "output_type": "execute_result"
    }
   ],
   "source": [
    "list_1 = [5,4,3]\n",
    "list_1.append(7)\n",
    "list_1"
   ]
  },
  {
   "cell_type": "code",
   "execution_count": 28,
   "id": "6e079db5",
   "metadata": {},
   "outputs": [
    {
     "data": {
      "text/plain": [
       "[5, 4, 3, 7, 8, 5, 9]"
      ]
     },
     "execution_count": 28,
     "metadata": {},
     "output_type": "execute_result"
    }
   ],
   "source": [
    "list_1.extend([8,5,9])\n",
    "list_1"
   ]
  },
  {
   "cell_type": "code",
   "execution_count": 29,
   "id": "833887ec",
   "metadata": {},
   "outputs": [
    {
     "data": {
      "text/plain": [
       "[5, 4, 3, 7, 8, 5, 9, 10, 11]"
      ]
     },
     "execution_count": 29,
     "metadata": {},
     "output_type": "execute_result"
    }
   ],
   "source": [
    "list_1.extend(range(10,12))\n",
    "list_1"
   ]
  },
  {
   "cell_type": "code",
   "execution_count": 1,
   "id": "24a61809",
   "metadata": {},
   "outputs": [
    {
     "ename": "NameError",
     "evalue": "name 'list_1' is not defined",
     "output_type": "error",
     "traceback": [
      "\u001b[1;31m---------------------------------------------------------------------------\u001b[0m",
      "\u001b[1;31mNameError\u001b[0m                                 Traceback (most recent call last)",
      "\u001b[1;32m~\\AppData\\Local\\Temp/ipykernel_240/377366921.py\u001b[0m in \u001b[0;36m<module>\u001b[1;34m\u001b[0m\n\u001b[0;32m      2\u001b[0m \u001b[0mvar1\u001b[0m \u001b[1;33m=\u001b[0m \u001b[1;36m15\u001b[0m\u001b[1;33m\u001b[0m\u001b[1;33m\u001b[0m\u001b[0m\n\u001b[0;32m      3\u001b[0m \u001b[1;33m\u001b[0m\u001b[0m\n\u001b[1;32m----> 4\u001b[1;33m \u001b[0mlist_1\u001b[0m\u001b[1;33m.\u001b[0m\u001b[0minsert\u001b[0m\u001b[1;33m(\u001b[0m\u001b[1;36m0\u001b[0m\u001b[1;33m,\u001b[0m\u001b[0mvar1\u001b[0m\u001b[1;33m)\u001b[0m\u001b[1;33m\u001b[0m\u001b[1;33m\u001b[0m\u001b[0m\n\u001b[0m\u001b[0;32m      5\u001b[0m \u001b[0mlist_1\u001b[0m\u001b[1;33m\u001b[0m\u001b[1;33m\u001b[0m\u001b[0m\n",
      "\u001b[1;31mNameError\u001b[0m: name 'list_1' is not defined"
     ]
    }
   ],
   "source": [
    "# Insert allows to insert the values at the specified position of the list\n",
    "var1 = 15\n",
    "\n",
    "list_1.insert(0,var1)\n",
    "list_1"
   ]
  },
  {
   "cell_type": "code",
   "execution_count": 33,
   "id": "e752f105",
   "metadata": {},
   "outputs": [
    {
     "data": {
      "text/plain": [
       "[15, 15, 15, 5, [10, 20], 4, 3, 7, 8, 5, 9, 10, 11]"
      ]
     },
     "execution_count": 33,
     "metadata": {},
     "output_type": "execute_result"
    }
   ],
   "source": [
    "var2 = [10,20]\n",
    "\n",
    "list_1.insert(4,var2)\n",
    "list_1"
   ]
  },
  {
   "cell_type": "code",
   "execution_count": 36,
   "id": "d4ef153e",
   "metadata": {},
   "outputs": [
    {
     "name": "stdout",
     "output_type": "stream",
     "text": [
      "[15, 15, 5, [10, 20], 4, 3, 7, 8, 5, 9, 10, 11]\n"
     ]
    },
    {
     "data": {
      "text/plain": [
       "[15, 5, [10, 20], 4, 3, 7, 8, 5, 9, 10, 11]"
      ]
     },
     "execution_count": 36,
     "metadata": {},
     "output_type": "execute_result"
    }
   ],
   "source": [
    "# Remove will delete the first occurence of the the item from the list\n",
    "print(list_1)\n",
    "\n",
    "list_1.remove(15)\n",
    "list_1"
   ]
  },
  {
   "cell_type": "code",
   "execution_count": 37,
   "id": "c5d4e9c5",
   "metadata": {},
   "outputs": [
    {
     "data": {
      "text/plain": [
       "[15, 5, [10, 20], 4, 3, 7, 8, 5, 9, 10, 11]"
      ]
     },
     "execution_count": 37,
     "metadata": {},
     "output_type": "execute_result"
    }
   ],
   "source": [
    "list_1"
   ]
  },
  {
   "cell_type": "code",
   "execution_count": 38,
   "id": "1c957506",
   "metadata": {},
   "outputs": [
    {
     "data": {
      "text/plain": [
       "[15, 5, [10, 20], 4, 3, 7, 8, 5, 9, 10]"
      ]
     },
     "execution_count": 38,
     "metadata": {},
     "output_type": "execute_result"
    }
   ],
   "source": [
    "# del allows us to delete an element from the list based on the index\n",
    "del list_1[-1]\n",
    "list_1"
   ]
  },
  {
   "cell_type": "code",
   "execution_count": 39,
   "id": "bd712e80",
   "metadata": {},
   "outputs": [
    {
     "data": {
      "text/plain": [
       "['five', 'five', 'five', 'five', 'five']"
      ]
     },
     "execution_count": 39,
     "metadata": {},
     "output_type": "execute_result"
    }
   ],
   "source": [
    "[\"five\"] * 5"
   ]
  },
  {
   "cell_type": "code",
   "execution_count": 41,
   "id": "4c87b040",
   "metadata": {},
   "outputs": [],
   "source": [
    "### List Concatenation"
   ]
  },
  {
   "cell_type": "code",
   "execution_count": 40,
   "id": "7481abeb",
   "metadata": {},
   "outputs": [
    {
     "data": {
      "text/plain": [
       "[100, 200, 300, 400, 'five hundred']"
      ]
     },
     "execution_count": 40,
     "metadata": {},
     "output_type": "execute_result"
    }
   ],
   "source": [
    "list_3 = [100,200,300]\n",
    "list_4 = [400,\"five hundred\"]\n",
    "\n",
    "list_3 + list_4"
   ]
  },
  {
   "cell_type": "code",
   "execution_count": 43,
   "id": "ff111ff4",
   "metadata": {},
   "outputs": [
    {
     "ename": "TypeError",
     "evalue": "can't multiply sequence by non-int of type 'list'",
     "output_type": "error",
     "traceback": [
      "\u001b[1;31m---------------------------------------------------------------------------\u001b[0m",
      "\u001b[1;31mTypeError\u001b[0m                                 Traceback (most recent call last)",
      "\u001b[1;32m~\\AppData\\Local\\Temp/ipykernel_3444/3161428839.py\u001b[0m in \u001b[0;36m<module>\u001b[1;34m\u001b[0m\n\u001b[1;32m----> 1\u001b[1;33m \u001b[0mlist_3\u001b[0m \u001b[1;33m*\u001b[0m \u001b[0mlist_4\u001b[0m\u001b[1;33m\u001b[0m\u001b[1;33m\u001b[0m\u001b[0m\n\u001b[0m",
      "\u001b[1;31mTypeError\u001b[0m: can't multiply sequence by non-int of type 'list'"
     ]
    }
   ],
   "source": [
    "list_3 * list_4"
   ]
  },
  {
   "cell_type": "code",
   "execution_count": 45,
   "id": "ef001df4",
   "metadata": {},
   "outputs": [],
   "source": [
    "s= \"Data Science\"\n",
    "a=list(s)"
   ]
  },
  {
   "cell_type": "code",
   "execution_count": 46,
   "id": "38e294f4",
   "metadata": {},
   "outputs": [
    {
     "data": {
      "text/plain": [
       "['D', 'a', 't', 'a', ' ', 'S', 'c', 'i', 'e', 'n', 'c', 'e']"
      ]
     },
     "execution_count": 46,
     "metadata": {},
     "output_type": "execute_result"
    }
   ],
   "source": [
    "a"
   ]
  },
  {
   "cell_type": "markdown",
   "id": "8b990c16",
   "metadata": {},
   "source": [
    "### pop "
   ]
  },
  {
   "cell_type": "code",
   "execution_count": 49,
   "id": "c0f3165c",
   "metadata": {},
   "outputs": [
    {
     "data": {
      "text/plain": [
       "['D', 'a', 't', 'a', ' ', 'S', 'c', 'i', 'e', 'n']"
      ]
     },
     "execution_count": 49,
     "metadata": {},
     "output_type": "execute_result"
    }
   ],
   "source": [
    "# Pop will delete the last element in the list by default\n",
    "a.pop()\n",
    "a"
   ]
  },
  {
   "cell_type": "code",
   "execution_count": 50,
   "id": "e0cb1c79",
   "metadata": {},
   "outputs": [
    {
     "data": {
      "text/plain": [
       "'D'"
      ]
     },
     "execution_count": 50,
     "metadata": {},
     "output_type": "execute_result"
    }
   ],
   "source": [
    "# we can delete the position items using pop\n",
    "a.pop(0)"
   ]
  },
  {
   "cell_type": "code",
   "execution_count": 51,
   "id": "d9a5109e",
   "metadata": {},
   "outputs": [
    {
     "data": {
      "text/plain": [
       "['a', 't', 'a', ' ', 'S', 'c', 'i', 'e', 'n']"
      ]
     },
     "execution_count": 51,
     "metadata": {},
     "output_type": "execute_result"
    }
   ],
   "source": [
    "a"
   ]
  },
  {
   "cell_type": "code",
   "execution_count": 54,
   "id": "d1146b74",
   "metadata": {},
   "outputs": [
    {
     "data": {
      "text/plain": [
       "4"
      ]
     },
     "execution_count": 54,
     "metadata": {},
     "output_type": "execute_result"
    }
   ],
   "source": [
    "# Use Index to find out the first occurence of the value in the list\n",
    "a.index('S')"
   ]
  },
  {
   "cell_type": "code",
   "execution_count": 56,
   "id": "5553552d",
   "metadata": {},
   "outputs": [
    {
     "data": {
      "text/plain": [
       "2"
      ]
     },
     "execution_count": 56,
     "metadata": {},
     "output_type": "execute_result"
    }
   ],
   "source": [
    "# To count the number of items in a list\n",
    "a.count('a')"
   ]
  },
  {
   "cell_type": "code",
   "execution_count": 62,
   "id": "895ac35e",
   "metadata": {},
   "outputs": [
    {
     "data": {
      "text/plain": [
       "[0, 1, 4, 9, 16, 25, 36, 49, 64, 81]"
      ]
     },
     "execution_count": 62,
     "metadata": {},
     "output_type": "execute_result"
    }
   ],
   "source": [
    "b = []\n",
    "\n",
    "for i in range(10):\n",
    "    b.append(i**2)\n",
    "b"
   ]
  },
  {
   "cell_type": "code",
   "execution_count": 65,
   "id": "8a0ac7ae",
   "metadata": {},
   "outputs": [
    {
     "data": {
      "text/plain": [
       "[0, 1, 4, 9, 16, 25, 36, 49, 64, 81]"
      ]
     },
     "execution_count": 65,
     "metadata": {},
     "output_type": "execute_result"
    }
   ],
   "source": [
    "\n",
    "[a**2 for a in range(10) ]"
   ]
  },
  {
   "cell_type": "code",
   "execution_count": 66,
   "id": "af7639e0",
   "metadata": {},
   "outputs": [
    {
     "data": {
      "text/plain": [
       "[0, 10, 20, 30, 40, 50, 60, 70, 80, 90]"
      ]
     },
     "execution_count": 66,
     "metadata": {},
     "output_type": "execute_result"
    }
   ],
   "source": [
    "[a for a in range(100) if((a%2==0) and (a%5==0))]"
   ]
  },
  {
   "cell_type": "code",
   "execution_count": 67,
   "id": "071f6b58",
   "metadata": {},
   "outputs": [
    {
     "data": {
      "text/plain": [
       "[0, 2, 4, 6, 8]"
      ]
     },
     "execution_count": 67,
     "metadata": {},
     "output_type": "execute_result"
    }
   ],
   "source": [
    "[a for a in range(10) if a%2==0]"
   ]
  },
  {
   "cell_type": "code",
   "execution_count": 68,
   "id": "4cdc76c5",
   "metadata": {},
   "outputs": [
    {
     "data": {
      "text/plain": [
       "[1, 3, 5, 7, 9]"
      ]
     },
     "execution_count": 68,
     "metadata": {},
     "output_type": "execute_result"
    }
   ],
   "source": [
    "[a for a in range(10) if a%2!=0]"
   ]
  },
  {
   "cell_type": "code",
   "execution_count": 70,
   "id": "81abb7d4",
   "metadata": {},
   "outputs": [
    {
     "data": {
      "text/plain": [
       "['even', 'odd', 'even', 'odd', 'even', 'odd', 'even', 'odd', 'even', 'odd']"
      ]
     },
     "execution_count": 70,
     "metadata": {},
     "output_type": "execute_result"
    }
   ],
   "source": [
    "['even' if a%2==0 else 'odd' for a in range(10) ]"
   ]
  },
  {
   "cell_type": "markdown",
   "id": "38045c55",
   "metadata": {},
   "source": [
    "### Enumerate "
   ]
  },
  {
   "cell_type": "code",
   "execution_count": 74,
   "id": "63fed557",
   "metadata": {},
   "outputs": [
    {
     "data": {
      "text/plain": [
       "['data', 'hello', 'world']"
      ]
     },
     "execution_count": 74,
     "metadata": {},
     "output_type": "execute_result"
    }
   ],
   "source": [
    "x1 = [\"data\",\"hello\",\"world\"]\n",
    "\n",
    "x1"
   ]
  },
  {
   "cell_type": "code",
   "execution_count": 75,
   "id": "5f08d420",
   "metadata": {},
   "outputs": [
    {
     "data": {
      "text/plain": [
       "[(0, 'data'), (1, 'hello'), (2, 'world')]"
      ]
     },
     "execution_count": 75,
     "metadata": {},
     "output_type": "execute_result"
    }
   ],
   "source": [
    "list(enumerate(x1))"
   ]
  },
  {
   "cell_type": "code",
   "execution_count": 76,
   "id": "7a348593",
   "metadata": {},
   "outputs": [
    {
     "data": {
      "text/plain": [
       "[(200, 'data'), (201, 'hello'), (202, 'world')]"
      ]
     },
     "execution_count": 76,
     "metadata": {},
     "output_type": "execute_result"
    }
   ],
   "source": [
    "# we can specify the index from which it has to start as an optional argument\n",
    "list(enumerate(x1,200))"
   ]
  },
  {
   "cell_type": "markdown",
   "id": "b546e7dd",
   "metadata": {},
   "source": [
    "### Tuple Operations "
   ]
  },
  {
   "cell_type": "code",
   "execution_count": 79,
   "id": "cb5bfbc2",
   "metadata": {},
   "outputs": [
    {
     "name": "stdout",
     "output_type": "stream",
     "text": [
      "(3, 5.5, 'nine')\n"
     ]
    },
    {
     "data": {
      "text/plain": [
       "tuple"
      ]
     },
     "execution_count": 79,
     "metadata": {},
     "output_type": "execute_result"
    }
   ],
   "source": [
    "# Tuple can be defined without the parenthesis\n",
    "tuple1 = 3,5.5,\"nine\"\n",
    "print(tuple1)\n",
    "type(tuple1)"
   ]
  },
  {
   "cell_type": "markdown",
   "id": "f51a286a",
   "metadata": {},
   "source": [
    "#### Tuple unpacking"
   ]
  },
  {
   "cell_type": "code",
   "execution_count": 80,
   "id": "b269d852",
   "metadata": {},
   "outputs": [
    {
     "name": "stdout",
     "output_type": "stream",
     "text": [
      "3\n",
      "5.5\n",
      "nine\n"
     ]
    }
   ],
   "source": [
    "a ,b , c = tuple1\n",
    "print(a)\n",
    "print(b)\n",
    "print(c)"
   ]
  },
  {
   "cell_type": "code",
   "execution_count": 81,
   "id": "d89273af",
   "metadata": {},
   "outputs": [
    {
     "data": {
      "text/plain": [
       "str"
      ]
     },
     "execution_count": 81,
     "metadata": {},
     "output_type": "execute_result"
    }
   ],
   "source": [
    "tuple2 = ('tuple')\n",
    "type(tuple2)"
   ]
  },
  {
   "cell_type": "code",
   "execution_count": 82,
   "id": "18dc184d",
   "metadata": {},
   "outputs": [
    {
     "data": {
      "text/plain": [
       "tuple"
      ]
     },
     "execution_count": 82,
     "metadata": {},
     "output_type": "execute_result"
    }
   ],
   "source": [
    "tuple3 = \"one\",\n",
    "type(tuple3)"
   ]
  },
  {
   "cell_type": "code",
   "execution_count": 83,
   "id": "9e774efc",
   "metadata": {},
   "outputs": [
    {
     "data": {
      "text/plain": [
       "tuple"
      ]
     },
     "execution_count": 83,
     "metadata": {},
     "output_type": "execute_result"
    }
   ],
   "source": [
    "tuple4 = (\"two\",)\n",
    "type(tuple4)"
   ]
  },
  {
   "cell_type": "markdown",
   "id": "521a0a80",
   "metadata": {},
   "source": [
    "### Changing a tuple"
   ]
  },
  {
   "cell_type": "code",
   "execution_count": 84,
   "id": "472fe81f",
   "metadata": {},
   "outputs": [
    {
     "data": {
      "text/plain": [
       "('a', ['b', 'c'], 'd')"
      ]
     },
     "execution_count": 84,
     "metadata": {},
     "output_type": "execute_result"
    }
   ],
   "source": [
    "tuple5=(\"a\",[\"b\",\"c\"],\"d\")\n",
    "tuple5"
   ]
  },
  {
   "cell_type": "code",
   "execution_count": 87,
   "id": "be1216b1",
   "metadata": {},
   "outputs": [],
   "source": [
    "tuple5[1].append('c')"
   ]
  },
  {
   "cell_type": "code",
   "execution_count": 88,
   "id": "4d4106e2",
   "metadata": {},
   "outputs": [
    {
     "data": {
      "text/plain": [
       "('a', ['b', 'c', 'c'], 'd')"
      ]
     },
     "execution_count": 88,
     "metadata": {},
     "output_type": "execute_result"
    }
   ],
   "source": [
    "tuple5"
   ]
  },
  {
   "cell_type": "code",
   "execution_count": 89,
   "id": "6118e1f1",
   "metadata": {},
   "outputs": [
    {
     "data": {
      "text/plain": [
       "('a', ['b', 'c', 'd'], 'd')"
      ]
     },
     "execution_count": 89,
     "metadata": {},
     "output_type": "execute_result"
    }
   ],
   "source": [
    "tuple5[1][2]='d'\n",
    "tuple5"
   ]
  },
  {
   "cell_type": "code",
   "execution_count": 91,
   "id": "2ccdaff6",
   "metadata": {},
   "outputs": [
    {
     "ename": "AttributeError",
     "evalue": "'tuple' object has no attribute 'insert'",
     "output_type": "error",
     "traceback": [
      "\u001b[1;31m---------------------------------------------------------------------------\u001b[0m",
      "\u001b[1;31mAttributeError\u001b[0m                            Traceback (most recent call last)",
      "\u001b[1;32m~\\AppData\\Local\\Temp/ipykernel_3444/553845097.py\u001b[0m in \u001b[0;36m<module>\u001b[1;34m\u001b[0m\n\u001b[1;32m----> 1\u001b[1;33m \u001b[0mtuple5\u001b[0m\u001b[1;33m.\u001b[0m\u001b[0minsert\u001b[0m\u001b[1;33m(\u001b[0m\u001b[1;34m\"e\"\u001b[0m\u001b[1;33m)\u001b[0m\u001b[1;33m\u001b[0m\u001b[1;33m\u001b[0m\u001b[0m\n\u001b[0m",
      "\u001b[1;31mAttributeError\u001b[0m: 'tuple' object has no attribute 'insert'"
     ]
    }
   ],
   "source": [
    "tuple5.insert(\"e\")"
   ]
  },
  {
   "cell_type": "markdown",
   "id": "07aadbb4",
   "metadata": {},
   "source": [
    "#### A \"set\" of mixed data types"
   ]
  },
  {
   "cell_type": "code",
   "execution_count": 94,
   "id": "97e5324e",
   "metadata": {},
   "outputs": [
    {
     "name": "stdout",
     "output_type": "stream",
     "text": [
      "{1.0, (2, 5, 8), 'Hey'}\n"
     ]
    }
   ],
   "source": [
    "my_set1= {1.0,\"Hey\",(2,5,8)}\n",
    "print(my_set1)"
   ]
  },
  {
   "cell_type": "code",
   "execution_count": 95,
   "id": "fdf7415a",
   "metadata": {},
   "outputs": [
    {
     "ename": "TypeError",
     "evalue": "unhashable type: 'list'",
     "output_type": "error",
     "traceback": [
      "\u001b[1;31m---------------------------------------------------------------------------\u001b[0m",
      "\u001b[1;31mTypeError\u001b[0m                                 Traceback (most recent call last)",
      "\u001b[1;32m~\\AppData\\Local\\Temp/ipykernel_3444/2957727401.py\u001b[0m in \u001b[0;36m<module>\u001b[1;34m\u001b[0m\n\u001b[0;32m      1\u001b[0m \u001b[1;31m#  A set cannot contain dulicates, when we add List to a set then it can be modified and it can change the values, so it is not allowed\u001b[0m\u001b[1;33m\u001b[0m\u001b[1;33m\u001b[0m\u001b[0m\n\u001b[1;32m----> 2\u001b[1;33m \u001b[0mmy_set2\u001b[0m\u001b[1;33m=\u001b[0m \u001b[1;33m{\u001b[0m\u001b[1;36m1.0\u001b[0m\u001b[1;33m,\u001b[0m\u001b[1;34m\"Hey\"\u001b[0m\u001b[1;33m,\u001b[0m\u001b[1;33m[\u001b[0m\u001b[1;36m2\u001b[0m\u001b[1;33m,\u001b[0m\u001b[1;36m5\u001b[0m\u001b[1;33m,\u001b[0m\u001b[1;36m8\u001b[0m\u001b[1;33m]\u001b[0m\u001b[1;33m}\u001b[0m\u001b[1;33m\u001b[0m\u001b[1;33m\u001b[0m\u001b[0m\n\u001b[0m\u001b[0;32m      3\u001b[0m \u001b[0mmy_set2\u001b[0m\u001b[1;33m\u001b[0m\u001b[1;33m\u001b[0m\u001b[0m\n",
      "\u001b[1;31mTypeError\u001b[0m: unhashable type: 'list'"
     ]
    }
   ],
   "source": [
    "#  A set cannot contain dulicates, when we add List to a set then it can be modified and it can change the values, so it is not allowed\n",
    "my_set2= {1.0,\"Hey\",[2,5,8]}\n",
    "my_set2"
   ]
  },
  {
   "cell_type": "markdown",
   "id": "60318876",
   "metadata": {},
   "source": [
    "#### discard "
   ]
  },
  {
   "cell_type": "code",
   "execution_count": 96,
   "id": "b6897853",
   "metadata": {},
   "outputs": [
    {
     "name": "stdout",
     "output_type": "stream",
     "text": [
      "{0, 1, 4, 8, 9, 10}\n",
      "{0, 1, 4, 8, 10}\n",
      "{0, 1, 8, 10}\n"
     ]
    }
   ],
   "source": [
    "my_set = {1,8,9,4,0,10}\n",
    "print(my_set)\n",
    "\n",
    "my_set.discard(9)\n",
    "print(my_set)\n",
    "\n",
    "my_set.remove(4)\n",
    "print(my_set)\n"
   ]
  },
  {
   "cell_type": "code",
   "execution_count": 98,
   "id": "3c8e5462",
   "metadata": {},
   "outputs": [
    {
     "name": "stdout",
     "output_type": "stream",
     "text": [
      "{0, 1, 4, 8, 9, 10}\n",
      "{0, 1, 4, 8, 9, 10}\n"
     ]
    },
    {
     "ename": "KeyError",
     "evalue": "3",
     "output_type": "error",
     "traceback": [
      "\u001b[1;31m---------------------------------------------------------------------------\u001b[0m",
      "\u001b[1;31mKeyError\u001b[0m                                  Traceback (most recent call last)",
      "\u001b[1;32m~\\AppData\\Local\\Temp/ipykernel_3444/3903227197.py\u001b[0m in \u001b[0;36m<module>\u001b[1;34m\u001b[0m\n\u001b[0;32m      6\u001b[0m \u001b[0mprint\u001b[0m\u001b[1;33m(\u001b[0m\u001b[0mmy_set\u001b[0m\u001b[1;33m)\u001b[0m\u001b[1;33m\u001b[0m\u001b[1;33m\u001b[0m\u001b[0m\n\u001b[0;32m      7\u001b[0m \u001b[1;33m\u001b[0m\u001b[0m\n\u001b[1;32m----> 8\u001b[1;33m \u001b[0mmy_set\u001b[0m\u001b[1;33m.\u001b[0m\u001b[0mremove\u001b[0m\u001b[1;33m(\u001b[0m\u001b[1;36m3\u001b[0m\u001b[1;33m)\u001b[0m\u001b[1;33m\u001b[0m\u001b[1;33m\u001b[0m\u001b[0m\n\u001b[0m\u001b[0;32m      9\u001b[0m \u001b[0mprint\u001b[0m\u001b[1;33m(\u001b[0m\u001b[0mmy_set\u001b[0m\u001b[1;33m)\u001b[0m\u001b[1;33m\u001b[0m\u001b[1;33m\u001b[0m\u001b[0m\n",
      "\u001b[1;31mKeyError\u001b[0m: 3"
     ]
    }
   ],
   "source": [
    "## discard will continue if the value doesnt exists, however remove will throw error , if the item doesnt exists\n",
    "my_set = {1,8,9,4,0,10}\n",
    "print(my_set)\n",
    "\n",
    "my_set.discard(3)\n",
    "print(my_set)\n",
    "\n",
    "my_set.remove(3)\n",
    "print(my_set)\n"
   ]
  },
  {
   "cell_type": "markdown",
   "id": "39cecb4c",
   "metadata": {},
   "source": [
    "### Iterators "
   ]
  },
  {
   "cell_type": "code",
   "execution_count": 100,
   "id": "59e9e7d2",
   "metadata": {},
   "outputs": [
    {
     "name": "stdout",
     "output_type": "stream",
     "text": [
      "2\n"
     ]
    }
   ],
   "source": [
    "my_list5 = [2,9,8,3]\n",
    "\n",
    "my_iter = iter(my_list5)\n",
    "\n",
    "print(next(my_iter))"
   ]
  },
  {
   "cell_type": "code",
   "execution_count": 101,
   "id": "511c8c79",
   "metadata": {},
   "outputs": [
    {
     "name": "stdout",
     "output_type": "stream",
     "text": [
      "9\n"
     ]
    }
   ],
   "source": [
    "print(next(my_iter))"
   ]
  },
  {
   "cell_type": "code",
   "execution_count": 102,
   "id": "b0143fe6",
   "metadata": {},
   "outputs": [
    {
     "name": "stdout",
     "output_type": "stream",
     "text": [
      "8\n"
     ]
    }
   ],
   "source": [
    "print(next(my_iter))"
   ]
  },
  {
   "cell_type": "code",
   "execution_count": 103,
   "id": "94dd9d3e",
   "metadata": {},
   "outputs": [
    {
     "data": {
      "text/plain": [
       "list_iterator"
      ]
     },
     "execution_count": 103,
     "metadata": {},
     "output_type": "execute_result"
    }
   ],
   "source": [
    "type(my_iter)"
   ]
  },
  {
   "cell_type": "code",
   "execution_count": 104,
   "id": "ae3dca34",
   "metadata": {},
   "outputs": [
    {
     "name": "stdout",
     "output_type": "stream",
     "text": [
      "<list_iterator object at 0x00000276621A5640>\n"
     ]
    }
   ],
   "source": [
    "print(my_iter)"
   ]
  },
  {
   "cell_type": "code",
   "execution_count": 105,
   "id": "dd5476b0",
   "metadata": {},
   "outputs": [
    {
     "name": "stdout",
     "output_type": "stream",
     "text": [
      "3\n"
     ]
    }
   ],
   "source": [
    "print(next(my_iter))"
   ]
  },
  {
   "cell_type": "code",
   "execution_count": 106,
   "id": "0cb1e32d",
   "metadata": {},
   "outputs": [
    {
     "ename": "StopIteration",
     "evalue": "",
     "output_type": "error",
     "traceback": [
      "\u001b[1;31m---------------------------------------------------------------------------\u001b[0m",
      "\u001b[1;31mStopIteration\u001b[0m                             Traceback (most recent call last)",
      "\u001b[1;32m~\\AppData\\Local\\Temp/ipykernel_3444/1757294138.py\u001b[0m in \u001b[0;36m<module>\u001b[1;34m\u001b[0m\n\u001b[1;32m----> 1\u001b[1;33m \u001b[0mprint\u001b[0m\u001b[1;33m(\u001b[0m\u001b[0mnext\u001b[0m\u001b[1;33m(\u001b[0m\u001b[0mmy_iter\u001b[0m\u001b[1;33m)\u001b[0m\u001b[1;33m)\u001b[0m\u001b[1;33m\u001b[0m\u001b[1;33m\u001b[0m\u001b[0m\n\u001b[0m",
      "\u001b[1;31mStopIteration\u001b[0m: "
     ]
    }
   ],
   "source": [
    "print(next(my_iter))"
   ]
  },
  {
   "cell_type": "code",
   "execution_count": 107,
   "id": "42b11d4d",
   "metadata": {},
   "outputs": [],
   "source": [
    "my_tup = (2,3,\"five\")\n",
    "\n",
    "iter1 = iter(my_tup)"
   ]
  },
  {
   "cell_type": "code",
   "execution_count": 108,
   "id": "ae22f609",
   "metadata": {},
   "outputs": [
    {
     "name": "stdout",
     "output_type": "stream",
     "text": [
      "2\n"
     ]
    }
   ],
   "source": [
    "print(next(iter1))"
   ]
  },
  {
   "cell_type": "code",
   "execution_count": 109,
   "id": "86b54445",
   "metadata": {},
   "outputs": [
    {
     "name": "stdout",
     "output_type": "stream",
     "text": [
      "3\n"
     ]
    }
   ],
   "source": [
    "print(next(iter1))"
   ]
  },
  {
   "cell_type": "code",
   "execution_count": 110,
   "id": "33c33b8b",
   "metadata": {},
   "outputs": [
    {
     "name": "stdout",
     "output_type": "stream",
     "text": [
      "five\n"
     ]
    }
   ],
   "source": [
    "print(next(iter1))"
   ]
  },
  {
   "cell_type": "code",
   "execution_count": 111,
   "id": "aced9330",
   "metadata": {},
   "outputs": [
    {
     "data": {
      "text/plain": [
       "tuple_iterator"
      ]
     },
     "execution_count": 111,
     "metadata": {},
     "output_type": "execute_result"
    }
   ],
   "source": [
    "type(iter1)"
   ]
  },
  {
   "cell_type": "markdown",
   "id": "1b9de4d0",
   "metadata": {},
   "source": [
    "### Generators"
   ]
  },
  {
   "cell_type": "code",
   "execution_count": null,
   "id": "9d6381ef",
   "metadata": {},
   "outputs": [],
   "source": [
    "##Generator is an implemenation of Iterator, it helps to iterate from one location to other\n"
   ]
  },
  {
   "cell_type": "code",
   "execution_count": 5,
   "id": "f329adf5",
   "metadata": {},
   "outputs": [],
   "source": [
    "def generator_fun():\n",
    "    num = 1\n",
    "    print (\"The first num :\")\n",
    "    yield num\n",
    "    num +=1\n",
    "    print(\"The second number:\")\n",
    "    yield num\n",
    "    num +=1\n",
    "    print (\"the third numer :\")\n",
    "    yield num\n",
    "    "
   ]
  },
  {
   "cell_type": "code",
   "execution_count": 2,
   "id": "c6ef89ee",
   "metadata": {},
   "outputs": [
    {
     "data": {
      "text/plain": [
       "<generator object generator_fun at 0x000001B3D642DE40>"
      ]
     },
     "execution_count": 2,
     "metadata": {},
     "output_type": "execute_result"
    }
   ],
   "source": [
    "generator_fun()"
   ]
  },
  {
   "cell_type": "code",
   "execution_count": 6,
   "id": "c500d0f7",
   "metadata": {},
   "outputs": [],
   "source": [
    "var10 = generator_fun()"
   ]
  },
  {
   "cell_type": "code",
   "execution_count": 7,
   "id": "ea8477f0",
   "metadata": {},
   "outputs": [
    {
     "name": "stdout",
     "output_type": "stream",
     "text": [
      "The first num :\n"
     ]
    },
    {
     "data": {
      "text/plain": [
       "1"
      ]
     },
     "execution_count": 7,
     "metadata": {},
     "output_type": "execute_result"
    }
   ],
   "source": [
    "next(var10)"
   ]
  },
  {
   "cell_type": "code",
   "execution_count": 8,
   "id": "1866fbe9",
   "metadata": {},
   "outputs": [
    {
     "name": "stdout",
     "output_type": "stream",
     "text": [
      "The second number:\n"
     ]
    },
    {
     "data": {
      "text/plain": [
       "2"
      ]
     },
     "execution_count": 8,
     "metadata": {},
     "output_type": "execute_result"
    }
   ],
   "source": [
    "next(var10)"
   ]
  },
  {
   "cell_type": "code",
   "execution_count": 9,
   "id": "17f94912",
   "metadata": {},
   "outputs": [
    {
     "name": "stdout",
     "output_type": "stream",
     "text": [
      "the third numer :\n"
     ]
    },
    {
     "data": {
      "text/plain": [
       "3"
      ]
     },
     "execution_count": 9,
     "metadata": {},
     "output_type": "execute_result"
    }
   ],
   "source": [
    "next(var10)"
   ]
  },
  {
   "cell_type": "code",
   "execution_count": 10,
   "id": "d0cff81c",
   "metadata": {},
   "outputs": [
    {
     "ename": "StopIteration",
     "evalue": "",
     "output_type": "error",
     "traceback": [
      "\u001b[1;31m---------------------------------------------------------------------------\u001b[0m",
      "\u001b[1;31mStopIteration\u001b[0m                             Traceback (most recent call last)",
      "\u001b[1;32m~\\AppData\\Local\\Temp/ipykernel_5532/4000255119.py\u001b[0m in \u001b[0;36m<module>\u001b[1;34m\u001b[0m\n\u001b[1;32m----> 1\u001b[1;33m \u001b[0mnext\u001b[0m\u001b[1;33m(\u001b[0m\u001b[0mvar10\u001b[0m\u001b[1;33m)\u001b[0m\u001b[1;33m\u001b[0m\u001b[1;33m\u001b[0m\u001b[0m\n\u001b[0m",
      "\u001b[1;31mStopIteration\u001b[0m: "
     ]
    }
   ],
   "source": [
    "next(var10)"
   ]
  },
  {
   "cell_type": "markdown",
   "id": "286b0b9a",
   "metadata": {},
   "source": [
    "#### Range (start,stop,step)"
   ]
  },
  {
   "cell_type": "code",
   "execution_count": 85,
   "id": "f8ded26d",
   "metadata": {},
   "outputs": [],
   "source": [
    "# the range starts from 11,0,-1 with a setp of -1\n",
    "str1=\"Data Science\"\n",
    "def generator1(var1):\n",
    "    for i in range(len(var1)-1,0,-1):\n",
    "        str12=var1[i]\n",
    "        print(\"the letter in iteration is\", var1[i])\n",
    "        yield str12\n",
    " \n"
   ]
  },
  {
   "cell_type": "code",
   "execution_count": 86,
   "id": "a2913ccb",
   "metadata": {},
   "outputs": [],
   "source": [
    "b = generator1(str1)\n"
   ]
  },
  {
   "cell_type": "code",
   "execution_count": 87,
   "id": "3b623c7d",
   "metadata": {},
   "outputs": [
    {
     "name": "stdout",
     "output_type": "stream",
     "text": [
      "the letter in iteration is e\n"
     ]
    },
    {
     "data": {
      "text/plain": [
       "'e'"
      ]
     },
     "execution_count": 87,
     "metadata": {},
     "output_type": "execute_result"
    }
   ],
   "source": [
    "next(b)"
   ]
  },
  {
   "cell_type": "code",
   "execution_count": 94,
   "id": "ff9868f0",
   "metadata": {},
   "outputs": [
    {
     "name": "stdout",
     "output_type": "stream",
     "text": [
      "-1\n",
      "-2\n",
      "-3\n",
      "-4\n",
      "-5\n",
      "-6\n",
      "-7\n",
      "-8\n",
      "-9\n",
      "-10\n",
      "-11\n"
     ]
    }
   ],
   "source": [
    "str1=\"Data Science\"\n",
    "len(str1)\n",
    "b3 = range(-1,-(len(str1)-1),1) \n",
    "\n",
    "for i in range(-1,-(len(str1)),-1):\n",
    "    print(i)\n"
   ]
  },
  {
   "cell_type": "code",
   "execution_count": 99,
   "id": "882cd468",
   "metadata": {},
   "outputs": [],
   "source": [
    "str1=\"Data Science\"\n",
    "def generator2(var1):\n",
    "    for i in range(-1,-(len(str1)),-1):\n",
    "        str12=var1[i]\n",
    "        print(\"the letter in iteration is\", var1[i])\n",
    "        yield str12\n",
    " "
   ]
  },
  {
   "cell_type": "code",
   "execution_count": 100,
   "id": "6fbae5d1",
   "metadata": {},
   "outputs": [],
   "source": [
    "c = generator2(str1)"
   ]
  },
  {
   "cell_type": "code",
   "execution_count": 101,
   "id": "a0667614",
   "metadata": {},
   "outputs": [
    {
     "name": "stdout",
     "output_type": "stream",
     "text": [
      "the letter in iteration is e\n",
      "the letter in iteration is c\n",
      "the letter in iteration is n\n",
      "the letter in iteration is e\n",
      "the letter in iteration is i\n",
      "the letter in iteration is c\n",
      "the letter in iteration is S\n",
      "the letter in iteration is  \n",
      "the letter in iteration is a\n",
      "the letter in iteration is t\n",
      "the letter in iteration is a\n"
     ]
    },
    {
     "data": {
      "text/plain": [
       "'a'"
      ]
     },
     "execution_count": 101,
     "metadata": {},
     "output_type": "execute_result"
    }
   ],
   "source": [
    "\n",
    "next(c)\n",
    "next(c)\n",
    "next(c)\n",
    "next(c)\n",
    "next(c)\n",
    "next(c)\n",
    "next(c)\n",
    "next(c)\n",
    "next(c)\n",
    "next(c)\n",
    "next(c)"
   ]
  },
  {
   "cell_type": "code",
   "execution_count": 102,
   "id": "9d27c0bc",
   "metadata": {},
   "outputs": [],
   "source": [
    "list1 = [2,4,5,10]"
   ]
  },
  {
   "cell_type": "code",
   "execution_count": 103,
   "id": "04c24f54",
   "metadata": {},
   "outputs": [
    {
     "data": {
      "text/plain": [
       "[4, 16, 25, 100]"
      ]
     },
     "execution_count": 103,
     "metadata": {},
     "output_type": "execute_result"
    }
   ],
   "source": [
    "[i**2  for i in list1]"
   ]
  },
  {
   "cell_type": "markdown",
   "id": "d297d080",
   "metadata": {},
   "source": [
    "### Generator Expression"
   ]
  },
  {
   "cell_type": "code",
   "execution_count": 104,
   "id": "11827fbc",
   "metadata": {},
   "outputs": [
    {
     "data": {
      "text/plain": [
       "<generator object <genexpr> at 0x000001B3D65F0B30>"
      ]
     },
     "execution_count": 104,
     "metadata": {},
     "output_type": "execute_result"
    }
   ],
   "source": [
    "# in a list comprehension syntax , if we change it to () then it becomes Generator expression\n",
    "(i**2  for i in list1)"
   ]
  },
  {
   "cell_type": "code",
   "execution_count": 107,
   "id": "30f81bc9",
   "metadata": {},
   "outputs": [],
   "source": [
    "gen_var = (i**2  for i in list1)"
   ]
  },
  {
   "cell_type": "code",
   "execution_count": 108,
   "id": "29fb6886",
   "metadata": {},
   "outputs": [
    {
     "name": "stdout",
     "output_type": "stream",
     "text": [
      "4\n",
      "16\n",
      "25\n",
      "100\n"
     ]
    }
   ],
   "source": [
    "print(next(gen_var))\n",
    "print(next(gen_var))\n",
    "print(next(gen_var))\n",
    "print(next(gen_var))"
   ]
  },
  {
   "cell_type": "code",
   "execution_count": 112,
   "id": "e0badef2",
   "metadata": {},
   "outputs": [
    {
     "data": {
      "text/plain": [
       "100"
      ]
     },
     "execution_count": 112,
     "metadata": {},
     "output_type": "execute_result"
    }
   ],
   "source": [
    "max(i**2  for i in list1)"
   ]
  },
  {
   "cell_type": "code",
   "execution_count": 114,
   "id": "662c4b60",
   "metadata": {},
   "outputs": [
    {
     "name": "stdout",
     "output_type": "stream",
     "text": [
      "0\n",
      "1\n",
      "2\n",
      "3\n",
      "4\n",
      "5\n",
      "6\n",
      "7\n",
      "8\n",
      "9\n"
     ]
    }
   ],
   "source": [
    "for i in range(10):\n",
    "    print (i)"
   ]
  },
  {
   "cell_type": "markdown",
   "id": "fd9393be",
   "metadata": {},
   "source": [
    "### Nested Functions"
   ]
  },
  {
   "cell_type": "code",
   "execution_count": 2,
   "id": "1dbb4a7a",
   "metadata": {},
   "outputs": [],
   "source": [
    "def outer_func(arg1):\n",
    "    var3=3\n",
    "    def inner_func():\n",
    "        var1 = arg1 * 5 + var3\n",
    "        print(var1)\n",
    "        \n",
    "    inner_func()\n",
    "    "
   ]
  },
  {
   "cell_type": "code",
   "execution_count": 3,
   "id": "8aa6e015",
   "metadata": {},
   "outputs": [
    {
     "name": "stdout",
     "output_type": "stream",
     "text": [
      "103\n"
     ]
    }
   ],
   "source": [
    "outer_func(20)"
   ]
  },
  {
   "cell_type": "markdown",
   "id": "acc8b787",
   "metadata": {},
   "source": [
    "### Closures "
   ]
  },
  {
   "cell_type": "code",
   "execution_count": 140,
   "id": "b20dea0b",
   "metadata": {},
   "outputs": [],
   "source": [
    "### Please note that we are not calling inner() instead we are only calling inner\n",
    "def outer1(arg2):\n",
    "    var22 = 25\n",
    "    def inner1():\n",
    "        var23 = arg2 + 8\n",
    "        print(\"the value is \",var23)\n",
    "        return var23\n",
    "    return inner1\n",
    "        "
   ]
  },
  {
   "cell_type": "code",
   "execution_count": 141,
   "id": "968f657c",
   "metadata": {},
   "outputs": [],
   "source": [
    "func_ret =outer1(20)"
   ]
  },
  {
   "cell_type": "code",
   "execution_count": 142,
   "id": "0887186b",
   "metadata": {},
   "outputs": [
    {
     "name": "stdout",
     "output_type": "stream",
     "text": [
      "the value is  28\n"
     ]
    },
    {
     "data": {
      "text/plain": [
       "28"
      ]
     },
     "execution_count": 142,
     "metadata": {},
     "output_type": "execute_result"
    }
   ],
   "source": [
    "func_ret()"
   ]
  },
  {
   "cell_type": "markdown",
   "id": "7ad3d62a",
   "metadata": {},
   "source": [
    "### Decorators"
   ]
  },
  {
   "cell_type": "code",
   "execution_count": 4,
   "id": "f8e2822a",
   "metadata": {},
   "outputs": [
    {
     "name": "stdout",
     "output_type": "stream",
     "text": [
      "Print Funct1\n"
     ]
    }
   ],
   "source": [
    "def funct1():\n",
    "    print(\"Print Funct1\")\n",
    "funct1()"
   ]
  },
  {
   "cell_type": "code",
   "execution_count": 5,
   "id": "cda571cf",
   "metadata": {},
   "outputs": [],
   "source": [
    "funct2 = funct1"
   ]
  },
  {
   "cell_type": "code",
   "execution_count": 6,
   "id": "303aae4a",
   "metadata": {},
   "outputs": [
    {
     "name": "stdout",
     "output_type": "stream",
     "text": [
      "Print Funct1\n"
     ]
    }
   ],
   "source": [
    "funct2()"
   ]
  },
  {
   "cell_type": "code",
   "execution_count": 13,
   "id": "f71fcf40",
   "metadata": {},
   "outputs": [
    {
     "data": {
      "text/plain": [
       "25"
      ]
     },
     "execution_count": 13,
     "metadata": {},
     "output_type": "execute_result"
    }
   ],
   "source": [
    "def func_sq(a):\n",
    "    return a**2\n",
    "\n",
    "def func_cube(a):\n",
    "    return a**3\n",
    "\n",
    "def func_three(func,arg):\n",
    "    res=func(arg)\n",
    "    return res\n",
    "\n",
    "func_three(func_sq,5)"
   ]
  },
  {
   "cell_type": "code",
   "execution_count": 14,
   "id": "38196086",
   "metadata": {},
   "outputs": [
    {
     "data": {
      "text/plain": [
       "125"
      ]
     },
     "execution_count": 14,
     "metadata": {},
     "output_type": "execute_result"
    }
   ],
   "source": [
    "func_three(func_cube,5)"
   ]
  },
  {
   "cell_type": "code",
   "execution_count": 15,
   "id": "f4a5bdda",
   "metadata": {},
   "outputs": [],
   "source": [
    "def is_called():\n",
    "    def is_returned():\n",
    "        print(\"Nested Function is returned\")\n",
    "    return is_returned"
   ]
  },
  {
   "cell_type": "code",
   "execution_count": 16,
   "id": "b3bc7882",
   "metadata": {},
   "outputs": [],
   "source": [
    "fn = is_called()"
   ]
  },
  {
   "cell_type": "code",
   "execution_count": 17,
   "id": "756f6281",
   "metadata": {},
   "outputs": [
    {
     "name": "stdout",
     "output_type": "stream",
     "text": [
      "Nested Function is returned\n"
     ]
    }
   ],
   "source": [
    "fn()"
   ]
  },
  {
   "cell_type": "code",
   "execution_count": 20,
   "id": "5c85c067",
   "metadata": {},
   "outputs": [
    {
     "name": "stdout",
     "output_type": "stream",
     "text": [
      "this is ordinary func\n",
      "This is decorator funct\n"
     ]
    }
   ],
   "source": [
    "def decorating_func(fn):\n",
    "    def nested_fn():\n",
    "        fn()\n",
    "        print(\"This is decorator funct\")\n",
    "    return nested_fn\n",
    "\n",
    "def ord_fun():\n",
    "    print(\"this is ordinary func\")\n",
    "    \n",
    "deco = decorating_func(ord_fun)\n",
    "deco()"
   ]
  },
  {
   "cell_type": "code",
   "execution_count": 22,
   "id": "66abaced",
   "metadata": {},
   "outputs": [],
   "source": [
    "@decorating_func\n",
    "def ord_fun():\n",
    "    print(\"This is ord func\")"
   ]
  },
  {
   "cell_type": "code",
   "execution_count": 23,
   "id": "5d488d20",
   "metadata": {},
   "outputs": [],
   "source": [
    "### The above funct is equal to the below func"
   ]
  },
  {
   "cell_type": "code",
   "execution_count": 24,
   "id": "73c68532",
   "metadata": {},
   "outputs": [],
   "source": [
    "def ord_fun():\n",
    "    print(\"This is ord func\")\n",
    "    \n",
    "ord_fun=decorating_func(ord_fun)"
   ]
  },
  {
   "cell_type": "code",
   "execution_count": 28,
   "id": "9cd232df",
   "metadata": {},
   "outputs": [],
   "source": [
    "#This is an intersting concept where we are trying to extend the original functionality by creating a new function\n",
    "def decor_func(func):\n",
    "    def nested_func(a,b): # decorating function\n",
    "        print(f\" Dividing {a} and {b}\")\n",
    "        if b == 0:\n",
    "            print(\"Cannot Divide\")\n",
    "            return\n",
    "        return func(a,b)\n",
    "    return nested_func"
   ]
  },
  {
   "cell_type": "code",
   "execution_count": 30,
   "id": "6414f9d6",
   "metadata": {},
   "outputs": [
    {
     "name": "stdout",
     "output_type": "stream",
     "text": [
      " Dividing 64 and 10\n"
     ]
    },
    {
     "data": {
      "text/plain": [
       "6.4"
      ]
     },
     "execution_count": 30,
     "metadata": {},
     "output_type": "execute_result"
    }
   ],
   "source": [
    "@decor_func\n",
    "def ordinary_func(a,b):\n",
    "    return a/b\n",
    "\n",
    "ordinary_func(64,10)"
   ]
  },
  {
   "cell_type": "code",
   "execution_count": 23,
   "id": "12be20b5",
   "metadata": {},
   "outputs": [],
   "source": [
    "def decorting_fn(func):\n",
    "    def nested_fn(a, b):\n",
    "        print('Dividing', a, 'and', b)\n",
    "        if b == 0:\n",
    "            print('Can NOT divide')\n",
    "            return\n",
    "        return func(a, b)\n",
    "#     print('The decoration done')\n",
    "    return nested_fn"
   ]
  },
  {
   "cell_type": "code",
   "execution_count": 24,
   "id": "e3d107b6",
   "metadata": {},
   "outputs": [],
   "source": [
    "@decorting_fn #Place the decorating function on top of the function that needs to be decorated\n",
    "def ordinary_fn(c, d):\n",
    "    return c/d"
   ]
  },
  {
   "cell_type": "code",
   "execution_count": 25,
   "id": "0dd7124f",
   "metadata": {},
   "outputs": [
    {
     "name": "stdout",
     "output_type": "stream",
     "text": [
      "Dividing 64 and 8\n"
     ]
    },
    {
     "data": {
      "text/plain": [
       "8.0"
      ]
     },
     "execution_count": 25,
     "metadata": {},
     "output_type": "execute_result"
    }
   ],
   "source": [
    "ordinary_fn(64, 8)"
   ]
  },
  {
   "cell_type": "code",
   "execution_count": null,
   "id": "58b79790",
   "metadata": {},
   "outputs": [],
   "source": []
  }
 ],
 "metadata": {
  "kernelspec": {
   "display_name": "Python 3 (ipykernel)",
   "language": "python",
   "name": "python3"
  },
  "language_info": {
   "codemirror_mode": {
    "name": "ipython",
    "version": 3
   },
   "file_extension": ".py",
   "mimetype": "text/x-python",
   "name": "python",
   "nbconvert_exporter": "python",
   "pygments_lexer": "ipython3",
   "version": "3.9.7"
  }
 },
 "nbformat": 4,
 "nbformat_minor": 5
}
