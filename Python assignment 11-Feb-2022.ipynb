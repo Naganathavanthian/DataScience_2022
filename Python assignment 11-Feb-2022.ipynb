{
 "cells": [
  {
   "cell_type": "markdown",
   "id": "a842a9e1",
   "metadata": {},
   "source": [
    "1.Import the necessary package to\n",
    "   a.Set the current working directory\n",
    "   b.Change the working directory \"\"\"\n"
   ]
  },
  {
   "cell_type": "code",
   "execution_count": 5,
   "id": "97fe43e0",
   "metadata": {},
   "outputs": [
    {
     "data": {
      "text/plain": [
       "'C:\\\\Users\\\\ADMIN\\\\Desktop\\\\Datascience Class\\\\Notebook'"
      ]
     },
     "execution_count": 5,
     "metadata": {},
     "output_type": "execute_result"
    }
   ],
   "source": [
    "import os\n",
    "# to get the Current Working Directory\n",
    "os.getcwd()"
   ]
  },
  {
   "cell_type": "code",
   "execution_count": 9,
   "id": "f2cd1db3",
   "metadata": {},
   "outputs": [
    {
     "data": {
      "text/plain": [
       "'C:\\\\tmp'"
      ]
     },
     "execution_count": 9,
     "metadata": {},
     "output_type": "execute_result"
    }
   ],
   "source": [
    "# to chnage the Working Directory\n",
    "os.chdir(\"C:\\\\tmp\\\\\")\n",
    "os.getcwd()"
   ]
  },
  {
   "cell_type": "code",
   "execution_count": 11,
   "id": "86c0a487",
   "metadata": {},
   "outputs": [
    {
     "data": {
      "text/plain": [
       "'C:\\\\Users\\\\ADMIN\\\\Desktop\\\\Datascience Class\\\\Notebook'"
      ]
     },
     "execution_count": 11,
     "metadata": {},
     "output_type": "execute_result"
    }
   ],
   "source": [
    "# To again change back to the original Directory\n",
    "os.chdir(\"C:\\\\Users\\\\ADMIN\\\\Desktop\\\\Datascience Class\\\\Notebook\")\n",
    "os.getcwd()"
   ]
  },
  {
   "cell_type": "markdown",
   "id": "bd771359",
   "metadata": {},
   "source": [
    "2.\tCreate the string, int and float variable and delete them all in the next cell"
   ]
  },
  {
   "cell_type": "code",
   "execution_count": 12,
   "id": "c9d7a7da",
   "metadata": {},
   "outputs": [],
   "source": [
    "a = \"String\"\n",
    "b = 10\n",
    "c = 5.5"
   ]
  },
  {
   "cell_type": "code",
   "execution_count": 16,
   "id": "ca3c36e7",
   "metadata": {},
   "outputs": [],
   "source": [
    "del a,b,c"
   ]
  },
  {
   "cell_type": "markdown",
   "id": "01e65891",
   "metadata": {},
   "source": [
    "3.\tWhat’s the result of assigning a value to a ‘keyword’?\n",
    "    a.Please highlight the error\n"
   ]
  },
  {
   "cell_type": "code",
   "execution_count": 26,
   "id": "e14820c0",
   "metadata": {},
   "outputs": [
    {
     "ename": "SyntaxError",
     "evalue": "cannot assign to True (Temp/ipykernel_16432/2227483689.py, line 1)",
     "output_type": "error",
     "traceback": [
      "\u001b[1;36m  File \u001b[1;32m\"C:\\Users\\ADMIN\\AppData\\Local\\Temp/ipykernel_16432/2227483689.py\"\u001b[1;36m, line \u001b[1;32m1\u001b[0m\n\u001b[1;33m    True = 10\u001b[0m\n\u001b[1;37m    ^\u001b[0m\n\u001b[1;31mSyntaxError\u001b[0m\u001b[1;31m:\u001b[0m cannot assign to True\n"
     ]
    }
   ],
   "source": [
    "True = 10"
   ]
  },
  {
   "cell_type": "markdown",
   "id": "1cba5a34",
   "metadata": {},
   "source": [
    "4.\tHow to write a multi-line statement and assign it to a variable (Note: Without using a backslash “\\” at the end of each line)"
   ]
  },
  {
   "cell_type": "code",
   "execution_count": 28,
   "id": "6f605819",
   "metadata": {},
   "outputs": [],
   "source": [
    "abc = ( 5 + 5 + \n",
    "      +1+8+10+12+15)"
   ]
  },
  {
   "cell_type": "code",
   "execution_count": 29,
   "id": "76ff3bd2",
   "metadata": {},
   "outputs": [
    {
     "data": {
      "text/plain": [
       "56"
      ]
     },
     "execution_count": 29,
     "metadata": {},
     "output_type": "execute_result"
    }
   ],
   "source": [
    "abc"
   ]
  },
  {
   "cell_type": "markdown",
   "id": "acdd3610",
   "metadata": {},
   "source": [
    "5.\tPrint the list of numbers from 100 to 999 with an interval (step size) of 8 between the numbers"
   ]
  },
  {
   "cell_type": "code",
   "execution_count": 39,
   "id": "e5119c04",
   "metadata": {},
   "outputs": [],
   "source": [
    "bcd = list(range(100,999,8))"
   ]
  },
  {
   "cell_type": "code",
   "execution_count": 40,
   "id": "096fd0b9",
   "metadata": {},
   "outputs": [
    {
     "data": {
      "text/plain": [
       "[100,\n",
       " 108,\n",
       " 116,\n",
       " 124,\n",
       " 132,\n",
       " 140,\n",
       " 148,\n",
       " 156,\n",
       " 164,\n",
       " 172,\n",
       " 180,\n",
       " 188,\n",
       " 196,\n",
       " 204,\n",
       " 212,\n",
       " 220,\n",
       " 228,\n",
       " 236,\n",
       " 244,\n",
       " 252,\n",
       " 260,\n",
       " 268,\n",
       " 276,\n",
       " 284,\n",
       " 292,\n",
       " 300,\n",
       " 308,\n",
       " 316,\n",
       " 324,\n",
       " 332,\n",
       " 340,\n",
       " 348,\n",
       " 356,\n",
       " 364,\n",
       " 372,\n",
       " 380,\n",
       " 388,\n",
       " 396,\n",
       " 404,\n",
       " 412,\n",
       " 420,\n",
       " 428,\n",
       " 436,\n",
       " 444,\n",
       " 452,\n",
       " 460,\n",
       " 468,\n",
       " 476,\n",
       " 484,\n",
       " 492,\n",
       " 500,\n",
       " 508,\n",
       " 516,\n",
       " 524,\n",
       " 532,\n",
       " 540,\n",
       " 548,\n",
       " 556,\n",
       " 564,\n",
       " 572,\n",
       " 580,\n",
       " 588,\n",
       " 596,\n",
       " 604,\n",
       " 612,\n",
       " 620,\n",
       " 628,\n",
       " 636,\n",
       " 644,\n",
       " 652,\n",
       " 660,\n",
       " 668,\n",
       " 676,\n",
       " 684,\n",
       " 692,\n",
       " 700,\n",
       " 708,\n",
       " 716,\n",
       " 724,\n",
       " 732,\n",
       " 740,\n",
       " 748,\n",
       " 756,\n",
       " 764,\n",
       " 772,\n",
       " 780,\n",
       " 788,\n",
       " 796,\n",
       " 804,\n",
       " 812,\n",
       " 820,\n",
       " 828,\n",
       " 836,\n",
       " 844,\n",
       " 852,\n",
       " 860,\n",
       " 868,\n",
       " 876,\n",
       " 884,\n",
       " 892,\n",
       " 900,\n",
       " 908,\n",
       " 916,\n",
       " 924,\n",
       " 932,\n",
       " 940,\n",
       " 948,\n",
       " 956,\n",
       " 964,\n",
       " 972,\n",
       " 980,\n",
       " 988,\n",
       " 996]"
      ]
     },
     "execution_count": 40,
     "metadata": {},
     "output_type": "execute_result"
    }
   ],
   "source": [
    "bcd"
   ]
  },
  {
   "cell_type": "markdown",
   "id": "3bd745e7",
   "metadata": {},
   "source": [
    "6.\tWrite a “for” loop to print out the ‘n’ values and break out of the statement if the value is ‘n/2’\n",
    "Enhaned it by using the continue statement to print out the even numbers between 1 & 50"
   ]
  },
  {
   "cell_type": "code",
   "execution_count": 49,
   "id": "c3d35ffb",
   "metadata": {
    "scrolled": true
   },
   "outputs": [
    {
     "name": "stdout",
     "output_type": "stream",
     "text": [
      "The number divisible by 2 between 1 & 50  is 2\n",
      "The number divisible by 2 between 1 & 50  is 4\n",
      "The number divisible by 2 between 1 & 50  is 6\n",
      "The number divisible by 2 between 1 & 50  is 8\n",
      "The number divisible by 2 between 1 & 50  is 10\n",
      "The number divisible by 2 between 1 & 50  is 12\n",
      "The number divisible by 2 between 1 & 50  is 14\n",
      "The number divisible by 2 between 1 & 50  is 16\n",
      "The number divisible by 2 between 1 & 50  is 18\n",
      "The number divisible by 2 between 1 & 50  is 20\n",
      "The number divisible by 2 between 1 & 50  is 22\n",
      "The number divisible by 2 between 1 & 50  is 24\n",
      "The number divisible by 2 between 1 & 50  is 26\n",
      "The number divisible by 2 between 1 & 50  is 28\n",
      "The number divisible by 2 between 1 & 50  is 30\n",
      "The number divisible by 2 between 1 & 50  is 32\n",
      "The number divisible by 2 between 1 & 50  is 34\n",
      "The number divisible by 2 between 1 & 50  is 36\n",
      "The number divisible by 2 between 1 & 50  is 38\n",
      "The number divisible by 2 between 1 & 50  is 40\n",
      "The number divisible by 2 between 1 & 50  is 42\n",
      "The number divisible by 2 between 1 & 50  is 44\n",
      "The number divisible by 2 between 1 & 50  is 46\n",
      "The number divisible by 2 between 1 & 50  is 48\n"
     ]
    }
   ],
   "source": [
    "for i in range (1,100):\n",
    "    if (i <50):\n",
    "        if (i%2==0):\n",
    "            print(\"The number divisible by 2 between 1 & 50  is\" ,i)\n",
    "            continue\n",
    "        \n",
    "        "
   ]
  },
  {
   "cell_type": "markdown",
   "id": "031ab96e",
   "metadata": {},
   "source": [
    "7.\tWrite a simple function and call the docstring from outside the function"
   ]
  },
  {
   "cell_type": "code",
   "execution_count": 50,
   "id": "c51acdf5",
   "metadata": {},
   "outputs": [],
   "source": [
    "def test_funcadd(a,b):\n",
    "    \"\"\"This is the doc string test\"\"\"\n",
    "    return a+b\n",
    "    \n"
   ]
  },
  {
   "cell_type": "code",
   "execution_count": 51,
   "id": "82966227",
   "metadata": {},
   "outputs": [
    {
     "data": {
      "text/plain": [
       "30"
      ]
     },
     "execution_count": 51,
     "metadata": {},
     "output_type": "execute_result"
    }
   ],
   "source": [
    "test_funcadd(5,25)"
   ]
  },
  {
   "cell_type": "code",
   "execution_count": 52,
   "id": "9d27bc52",
   "metadata": {},
   "outputs": [
    {
     "name": "stdout",
     "output_type": "stream",
     "text": [
      "This is the doc string test\n"
     ]
    }
   ],
   "source": [
    "print(test_funcadd.__doc__)"
   ]
  },
  {
   "cell_type": "markdown",
   "id": "d55de239",
   "metadata": {},
   "source": [
    "8.\tCreate a user-defined package in ‘site-packages’ with below 3 variables a, b and c. Import these variables and write a function to calculate the area of triangle for below 3 sides (a, b, c). Calculate the semi-perimeter (s) first, to calculate the area of triangle (area) at last\n",
    "<< Formula to calculate semi-perimeter: s = (a+b+c )/2\n",
    "<< Formula to calculate area = (s*(s-a) * (s-b) * (s-c)) ** 0.5 >>\n",
    "a.\t15\n",
    "b.\t51\n",
    "c.\t17\n"
   ]
  },
  {
   "cell_type": "code",
   "execution_count": 53,
   "id": "822edd0d",
   "metadata": {},
   "outputs": [],
   "source": [
    "from my_package import assign1\n"
   ]
  },
  {
   "cell_type": "code",
   "execution_count": 56,
   "id": "20fd27ea",
   "metadata": {},
   "outputs": [],
   "source": [
    "var1=assign1.a\n",
    "var2=assign1.b\n",
    "var3=assign1.c"
   ]
  },
  {
   "cell_type": "code",
   "execution_count": 57,
   "id": "eb76804e",
   "metadata": {},
   "outputs": [],
   "source": [
    "def tri_area_semiperimeter(a,b,c):\n",
    "    # First let us calculate the Semi-Perimeter\n",
    "    s=(a+b+c)/2\n",
    "    # Now let us calculate the Area of Triangle\n",
    "    area = (s*(s-a) * (s-b) * (s-c)) ** 0.5\n",
    "    return area\n",
    "    "
   ]
  },
  {
   "cell_type": "code",
   "execution_count": 58,
   "id": "cca726c3",
   "metadata": {},
   "outputs": [
    {
     "data": {
      "text/plain": [
       "(3.097937745838546e-14+505.93162828587816j)"
      ]
     },
     "execution_count": 58,
     "metadata": {},
     "output_type": "execute_result"
    }
   ],
   "source": [
    "tri_area_semiperimeter(var1,var2,var3)"
   ]
  },
  {
   "cell_type": "markdown",
   "id": "321f74fe",
   "metadata": {},
   "source": [
    "9.\tWrite a list comprehension to print the odd numbers from 0 to 100"
   ]
  },
  {
   "cell_type": "code",
   "execution_count": 71,
   "id": "d9b4c204",
   "metadata": {},
   "outputs": [],
   "source": [
    "odd_num=[i for i in range(0,100) if i%2!=0]"
   ]
  },
  {
   "cell_type": "code",
   "execution_count": 72,
   "id": "5a14f7b5",
   "metadata": {},
   "outputs": [
    {
     "data": {
      "text/plain": [
       "[1,\n",
       " 3,\n",
       " 5,\n",
       " 7,\n",
       " 9,\n",
       " 11,\n",
       " 13,\n",
       " 15,\n",
       " 17,\n",
       " 19,\n",
       " 21,\n",
       " 23,\n",
       " 25,\n",
       " 27,\n",
       " 29,\n",
       " 31,\n",
       " 33,\n",
       " 35,\n",
       " 37,\n",
       " 39,\n",
       " 41,\n",
       " 43,\n",
       " 45,\n",
       " 47,\n",
       " 49,\n",
       " 51,\n",
       " 53,\n",
       " 55,\n",
       " 57,\n",
       " 59,\n",
       " 61,\n",
       " 63,\n",
       " 65,\n",
       " 67,\n",
       " 69,\n",
       " 71,\n",
       " 73,\n",
       " 75,\n",
       " 77,\n",
       " 79,\n",
       " 81,\n",
       " 83,\n",
       " 85,\n",
       " 87,\n",
       " 89,\n",
       " 91,\n",
       " 93,\n",
       " 95,\n",
       " 97,\n",
       " 99]"
      ]
     },
     "execution_count": 72,
     "metadata": {},
     "output_type": "execute_result"
    }
   ],
   "source": [
    "odd_num"
   ]
  },
  {
   "cell_type": "markdown",
   "id": "b4fc9513",
   "metadata": {},
   "source": [
    "Create a variable (ex: name) and store your full name in it. Then write a list comprehension to print your name excluding vowels (a, e, i, o, u)\n",
    "a.\tEx: name = Imran\n",
    "b.\tOutput = [‘m’, ‘r’, ‘n’]\n"
   ]
  },
  {
   "cell_type": "code",
   "execution_count": 80,
   "id": "1bf93930",
   "metadata": {},
   "outputs": [],
   "source": [
    "name=\"Naganathavanthian Chellam\""
   ]
  },
  {
   "cell_type": "code",
   "execution_count": 81,
   "id": "fe016398",
   "metadata": {},
   "outputs": [],
   "source": [
    "name_out=[a for a in name if a not in ('a','e','i','o','u')]"
   ]
  },
  {
   "cell_type": "code",
   "execution_count": 82,
   "id": "90985b80",
   "metadata": {},
   "outputs": [
    {
     "data": {
      "text/plain": [
       "['N',\n",
       " 'g',\n",
       " 'n',\n",
       " 't',\n",
       " 'h',\n",
       " 'v',\n",
       " 'n',\n",
       " 't',\n",
       " 'h',\n",
       " 'n',\n",
       " ' ',\n",
       " 'C',\n",
       " 'h',\n",
       " 'l',\n",
       " 'l',\n",
       " 'm']"
      ]
     },
     "execution_count": 82,
     "metadata": {},
     "output_type": "execute_result"
    }
   ],
   "source": [
    "name_out"
   ]
  },
  {
   "cell_type": "code",
   "execution_count": null,
   "id": "7fdac494",
   "metadata": {},
   "outputs": [],
   "source": []
  },
  {
   "cell_type": "code",
   "execution_count": null,
   "id": "d64d729d",
   "metadata": {},
   "outputs": [],
   "source": []
  }
 ],
 "metadata": {
  "kernelspec": {
   "display_name": "Python 3 (ipykernel)",
   "language": "python",
   "name": "python3"
  },
  "language_info": {
   "codemirror_mode": {
    "name": "ipython",
    "version": 3
   },
   "file_extension": ".py",
   "mimetype": "text/x-python",
   "name": "python",
   "nbconvert_exporter": "python",
   "pygments_lexer": "ipython3",
   "version": "3.9.7"
  }
 },
 "nbformat": 4,
 "nbformat_minor": 5
}
