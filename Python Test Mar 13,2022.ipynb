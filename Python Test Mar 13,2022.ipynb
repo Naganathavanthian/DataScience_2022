{
 "cells": [
  {
   "cell_type": "markdown",
   "id": "7368ba11",
   "metadata": {},
   "source": [
    "1.\tCreate a program that asks the user to enter their name and their age. Print out a message that tells them the year that they will turn 100 years old"
   ]
  },
  {
   "cell_type": "code",
   "execution_count": 1,
   "id": "6c303446",
   "metadata": {},
   "outputs": [],
   "source": [
    "import pandas as pd\n",
    "import numpy as np"
   ]
  },
  {
   "cell_type": "code",
   "execution_count": 5,
   "id": "831e8eb6",
   "metadata": {},
   "outputs": [
    {
     "name": "stdout",
     "output_type": "stream",
     "text": [
      "Enter the Name:Naga\n",
      "Enter the Age:36\n",
      "Naga: will be 100 years old in 64 years\n"
     ]
    },
    {
     "data": {
      "text/plain": [
       "64"
      ]
     },
     "execution_count": 5,
     "metadata": {},
     "output_type": "execute_result"
    }
   ],
   "source": [
    "# Get the user input using the input function\n",
    "# create a funtion to calculate the years for 100\n",
    "name=input(\"Enter the Name:\")\n",
    "age=int(input(\"Enter the Age:\"))\n",
    "\n",
    "def years_for_100(name,age):\n",
    "    age_for_100=100-age\n",
    "    print(f\"{name}: will be 100 years old in {age_for_100} years\")\n",
    "    return age_for_100\n",
    "\n",
    "years_for_100(name,age)"
   ]
  },
  {
   "cell_type": "markdown",
   "id": "cacc63f0",
   "metadata": {},
   "source": [
    "2.\tWhat is pandas groupby? Demonstrate with your own example"
   ]
  },
  {
   "cell_type": "code",
   "execution_count": 6,
   "id": "9b6ca67a",
   "metadata": {},
   "outputs": [],
   "source": [
    "# We will load the sample excel data using the auto sample file\n",
    "# let us first read the file\n",
    "df=pd.read_csv(r\"C:\\Users\\ADMIN\\Desktop\\auto1.csv\")"
   ]
  },
  {
   "cell_type": "code",
   "execution_count": 7,
   "id": "58e6f8a1",
   "metadata": {},
   "outputs": [
    {
     "data": {
      "text/plain": [
       "(205, 27)"
      ]
     },
     "execution_count": 7,
     "metadata": {},
     "output_type": "execute_result"
    }
   ],
   "source": [
    "df.shape"
   ]
  },
  {
   "cell_type": "code",
   "execution_count": 15,
   "id": "a7692f3d",
   "metadata": {},
   "outputs": [
    {
     "data": {
      "text/plain": [
       "gas       185\n",
       "diesel     20\n",
       "Name: fuel_type, dtype: int64"
      ]
     },
     "execution_count": 15,
     "metadata": {},
     "output_type": "execute_result"
    }
   ],
   "source": [
    "df[\"fuel_type\"].value_counts()"
   ]
  },
  {
   "cell_type": "code",
   "execution_count": 18,
   "id": "451dfe30",
   "metadata": {},
   "outputs": [
    {
     "data": {
      "text/plain": [
       "make           fuel_type\n",
       "alfa-romero    gas           3\n",
       "audi           gas           6\n",
       "bmw            gas           8\n",
       "chevrolet      gas           3\n",
       "dodge          gas           9\n",
       "honda          gas          13\n",
       "isuzu          gas           2\n",
       "jaguar         gas           3\n",
       "mazda          diesel        2\n",
       "               gas          15\n",
       "mercedes-benz  diesel        4\n",
       "               gas           4\n",
       "mercury        gas           1\n",
       "mitsubishi     gas          13\n",
       "nissan         diesel        1\n",
       "               gas          17\n",
       "peugot         diesel        5\n",
       "               gas           6\n",
       "plymouth       gas           7\n",
       "porsche        gas           4\n",
       "renault        gas           2\n",
       "saab           gas           6\n",
       "subaru         gas          12\n",
       "toyota         diesel        3\n",
       "               gas          29\n",
       "volkswagen     diesel        4\n",
       "               gas           8\n",
       "volvo          diesel        1\n",
       "               gas          10\n",
       "Name: price, dtype: int64"
      ]
     },
     "execution_count": 18,
     "metadata": {},
     "output_type": "execute_result"
    }
   ],
   "source": [
    "df.groupby(['make','fuel_type'])['price'].count()"
   ]
  },
  {
   "cell_type": "code",
   "execution_count": 26,
   "id": "66748e5b",
   "metadata": {},
   "outputs": [
    {
     "name": "stderr",
     "output_type": "stream",
     "text": [
      "C:\\Users\\ADMIN\\AppData\\Local\\Temp/ipykernel_9860/528917835.py:1: FutureWarning: Indexing with multiple keys (implicitly converted to a tuple of keys) will be deprecated, use a list instead.\n",
      "  df.groupby(['make','fuel_type'])['price','city_mpg'].mean()\n"
     ]
    },
    {
     "data": {
      "text/html": [
       "<div>\n",
       "<style scoped>\n",
       "    .dataframe tbody tr th:only-of-type {\n",
       "        vertical-align: middle;\n",
       "    }\n",
       "\n",
       "    .dataframe tbody tr th {\n",
       "        vertical-align: top;\n",
       "    }\n",
       "\n",
       "    .dataframe thead th {\n",
       "        text-align: right;\n",
       "    }\n",
       "</style>\n",
       "<table border=\"1\" class=\"dataframe\">\n",
       "  <thead>\n",
       "    <tr style=\"text-align: right;\">\n",
       "      <th></th>\n",
       "      <th></th>\n",
       "      <th>price</th>\n",
       "      <th>city_mpg</th>\n",
       "    </tr>\n",
       "    <tr>\n",
       "      <th>make</th>\n",
       "      <th>fuel_type</th>\n",
       "      <th></th>\n",
       "      <th></th>\n",
       "    </tr>\n",
       "  </thead>\n",
       "  <tbody>\n",
       "    <tr>\n",
       "      <th>alfa-romero</th>\n",
       "      <th>gas</th>\n",
       "      <td>15498.333333</td>\n",
       "      <td>20.333333</td>\n",
       "    </tr>\n",
       "    <tr>\n",
       "      <th>audi</th>\n",
       "      <th>gas</th>\n",
       "      <td>17859.166667</td>\n",
       "      <td>18.857143</td>\n",
       "    </tr>\n",
       "    <tr>\n",
       "      <th>bmw</th>\n",
       "      <th>gas</th>\n",
       "      <td>26118.750000</td>\n",
       "      <td>19.375000</td>\n",
       "    </tr>\n",
       "    <tr>\n",
       "      <th>chevrolet</th>\n",
       "      <th>gas</th>\n",
       "      <td>6007.000000</td>\n",
       "      <td>41.000000</td>\n",
       "    </tr>\n",
       "    <tr>\n",
       "      <th>dodge</th>\n",
       "      <th>gas</th>\n",
       "      <td>7875.444444</td>\n",
       "      <td>28.000000</td>\n",
       "    </tr>\n",
       "    <tr>\n",
       "      <th>honda</th>\n",
       "      <th>gas</th>\n",
       "      <td>8184.692308</td>\n",
       "      <td>30.384615</td>\n",
       "    </tr>\n",
       "    <tr>\n",
       "      <th>isuzu</th>\n",
       "      <th>gas</th>\n",
       "      <td>8916.500000</td>\n",
       "      <td>31.000000</td>\n",
       "    </tr>\n",
       "    <tr>\n",
       "      <th>jaguar</th>\n",
       "      <th>gas</th>\n",
       "      <td>34600.000000</td>\n",
       "      <td>14.333333</td>\n",
       "    </tr>\n",
       "    <tr>\n",
       "      <th rowspan=\"2\" valign=\"top\">mazda</th>\n",
       "      <th>diesel</th>\n",
       "      <td>14569.500000</td>\n",
       "      <td>33.500000</td>\n",
       "    </tr>\n",
       "    <tr>\n",
       "      <th>gas</th>\n",
       "      <td>10130.666667</td>\n",
       "      <td>24.666667</td>\n",
       "    </tr>\n",
       "    <tr>\n",
       "      <th rowspan=\"2\" valign=\"top\">mercedes-benz</th>\n",
       "      <th>diesel</th>\n",
       "      <td>28394.000000</td>\n",
       "      <td>22.000000</td>\n",
       "    </tr>\n",
       "    <tr>\n",
       "      <th>gas</th>\n",
       "      <td>38900.000000</td>\n",
       "      <td>15.000000</td>\n",
       "    </tr>\n",
       "    <tr>\n",
       "      <th>mercury</th>\n",
       "      <th>gas</th>\n",
       "      <td>16503.000000</td>\n",
       "      <td>19.000000</td>\n",
       "    </tr>\n",
       "    <tr>\n",
       "      <th>mitsubishi</th>\n",
       "      <th>gas</th>\n",
       "      <td>9239.769231</td>\n",
       "      <td>24.923077</td>\n",
       "    </tr>\n",
       "    <tr>\n",
       "      <th rowspan=\"2\" valign=\"top\">nissan</th>\n",
       "      <th>diesel</th>\n",
       "      <td>7099.000000</td>\n",
       "      <td>45.000000</td>\n",
       "    </tr>\n",
       "    <tr>\n",
       "      <th>gas</th>\n",
       "      <td>10610.764706</td>\n",
       "      <td>25.941176</td>\n",
       "    </tr>\n",
       "    <tr>\n",
       "      <th rowspan=\"2\" valign=\"top\">peugot</th>\n",
       "      <th>diesel</th>\n",
       "      <td>15797.000000</td>\n",
       "      <td>26.800000</td>\n",
       "    </tr>\n",
       "    <tr>\n",
       "      <th>gas</th>\n",
       "      <td>15232.500000</td>\n",
       "      <td>18.833333</td>\n",
       "    </tr>\n",
       "    <tr>\n",
       "      <th>plymouth</th>\n",
       "      <th>gas</th>\n",
       "      <td>7963.428571</td>\n",
       "      <td>28.142857</td>\n",
       "    </tr>\n",
       "    <tr>\n",
       "      <th>porsche</th>\n",
       "      <th>gas</th>\n",
       "      <td>31400.500000</td>\n",
       "      <td>17.400000</td>\n",
       "    </tr>\n",
       "    <tr>\n",
       "      <th>renault</th>\n",
       "      <th>gas</th>\n",
       "      <td>9595.000000</td>\n",
       "      <td>23.000000</td>\n",
       "    </tr>\n",
       "    <tr>\n",
       "      <th>saab</th>\n",
       "      <th>gas</th>\n",
       "      <td>15223.333333</td>\n",
       "      <td>20.333333</td>\n",
       "    </tr>\n",
       "    <tr>\n",
       "      <th>subaru</th>\n",
       "      <th>gas</th>\n",
       "      <td>8541.250000</td>\n",
       "      <td>26.333333</td>\n",
       "    </tr>\n",
       "    <tr>\n",
       "      <th rowspan=\"2\" valign=\"top\">toyota</th>\n",
       "      <th>diesel</th>\n",
       "      <td>8794.666667</td>\n",
       "      <td>34.000000</td>\n",
       "    </tr>\n",
       "    <tr>\n",
       "      <th>gas</th>\n",
       "      <td>9998.689655</td>\n",
       "      <td>26.827586</td>\n",
       "    </tr>\n",
       "    <tr>\n",
       "      <th rowspan=\"2\" valign=\"top\">volkswagen</th>\n",
       "      <th>diesel</th>\n",
       "      <td>9777.500000</td>\n",
       "      <td>36.000000</td>\n",
       "    </tr>\n",
       "    <tr>\n",
       "      <th>gas</th>\n",
       "      <td>10227.500000</td>\n",
       "      <td>24.875000</td>\n",
       "    </tr>\n",
       "    <tr>\n",
       "      <th rowspan=\"2\" valign=\"top\">volvo</th>\n",
       "      <th>diesel</th>\n",
       "      <td>22470.000000</td>\n",
       "      <td>26.000000</td>\n",
       "    </tr>\n",
       "    <tr>\n",
       "      <th>gas</th>\n",
       "      <td>17622.500000</td>\n",
       "      <td>20.700000</td>\n",
       "    </tr>\n",
       "  </tbody>\n",
       "</table>\n",
       "</div>"
      ],
      "text/plain": [
       "                                price   city_mpg\n",
       "make          fuel_type                         \n",
       "alfa-romero   gas        15498.333333  20.333333\n",
       "audi          gas        17859.166667  18.857143\n",
       "bmw           gas        26118.750000  19.375000\n",
       "chevrolet     gas         6007.000000  41.000000\n",
       "dodge         gas         7875.444444  28.000000\n",
       "honda         gas         8184.692308  30.384615\n",
       "isuzu         gas         8916.500000  31.000000\n",
       "jaguar        gas        34600.000000  14.333333\n",
       "mazda         diesel     14569.500000  33.500000\n",
       "              gas        10130.666667  24.666667\n",
       "mercedes-benz diesel     28394.000000  22.000000\n",
       "              gas        38900.000000  15.000000\n",
       "mercury       gas        16503.000000  19.000000\n",
       "mitsubishi    gas         9239.769231  24.923077\n",
       "nissan        diesel      7099.000000  45.000000\n",
       "              gas        10610.764706  25.941176\n",
       "peugot        diesel     15797.000000  26.800000\n",
       "              gas        15232.500000  18.833333\n",
       "plymouth      gas         7963.428571  28.142857\n",
       "porsche       gas        31400.500000  17.400000\n",
       "renault       gas         9595.000000  23.000000\n",
       "saab          gas        15223.333333  20.333333\n",
       "subaru        gas         8541.250000  26.333333\n",
       "toyota        diesel      8794.666667  34.000000\n",
       "              gas         9998.689655  26.827586\n",
       "volkswagen    diesel      9777.500000  36.000000\n",
       "              gas        10227.500000  24.875000\n",
       "volvo         diesel     22470.000000  26.000000\n",
       "              gas        17622.500000  20.700000"
      ]
     },
     "execution_count": 26,
     "metadata": {},
     "output_type": "execute_result"
    }
   ],
   "source": [
    "df.groupby(['make','fuel_type'])['price','city_mpg'].mean()"
   ]
  },
  {
   "cell_type": "markdown",
   "id": "efac4d54",
   "metadata": {},
   "source": [
    "3.\tHow to create a dataframe from list?"
   ]
  },
  {
   "cell_type": "code",
   "execution_count": 28,
   "id": "97318157",
   "metadata": {},
   "outputs": [],
   "source": [
    "# Let us create a list \n",
    "list1=[[\"Naga\",36,\"Chennai\"],[\"Alex\",32,\"Chennai\"],[\"Balu\",28,'Cochin']]"
   ]
  },
  {
   "cell_type": "code",
   "execution_count": 31,
   "id": "384bd461",
   "metadata": {},
   "outputs": [],
   "source": [
    "# we can create a dataframe from the list using the pandas Dataframe function, define the c\n",
    "df_list=pd.DataFrame(list1,columns=[\"Name\",\"Age\",\"Location\"])"
   ]
  },
  {
   "cell_type": "code",
   "execution_count": 32,
   "id": "1c101e1a",
   "metadata": {},
   "outputs": [
    {
     "data": {
      "text/html": [
       "<div>\n",
       "<style scoped>\n",
       "    .dataframe tbody tr th:only-of-type {\n",
       "        vertical-align: middle;\n",
       "    }\n",
       "\n",
       "    .dataframe tbody tr th {\n",
       "        vertical-align: top;\n",
       "    }\n",
       "\n",
       "    .dataframe thead th {\n",
       "        text-align: right;\n",
       "    }\n",
       "</style>\n",
       "<table border=\"1\" class=\"dataframe\">\n",
       "  <thead>\n",
       "    <tr style=\"text-align: right;\">\n",
       "      <th></th>\n",
       "      <th>Name</th>\n",
       "      <th>Age</th>\n",
       "      <th>Location</th>\n",
       "    </tr>\n",
       "  </thead>\n",
       "  <tbody>\n",
       "    <tr>\n",
       "      <th>0</th>\n",
       "      <td>Naga</td>\n",
       "      <td>36</td>\n",
       "      <td>Chennai</td>\n",
       "    </tr>\n",
       "    <tr>\n",
       "      <th>1</th>\n",
       "      <td>Alex</td>\n",
       "      <td>32</td>\n",
       "      <td>Chennai</td>\n",
       "    </tr>\n",
       "    <tr>\n",
       "      <th>2</th>\n",
       "      <td>Balu</td>\n",
       "      <td>28</td>\n",
       "      <td>Cochin</td>\n",
       "    </tr>\n",
       "  </tbody>\n",
       "</table>\n",
       "</div>"
      ],
      "text/plain": [
       "   Name  Age Location\n",
       "0  Naga   36  Chennai\n",
       "1  Alex   32  Chennai\n",
       "2  Balu   28   Cochin"
      ]
     },
     "execution_count": 32,
     "metadata": {},
     "output_type": "execute_result"
    }
   ],
   "source": [
    "df_list"
   ]
  },
  {
   "cell_type": "markdown",
   "id": "0d52960e",
   "metadata": {},
   "source": [
    "4.\tWhat are the ways to combine the dataframe in pandas. Give an example for each"
   ]
  },
  {
   "cell_type": "code",
   "execution_count": 33,
   "id": "06985a6e",
   "metadata": {},
   "outputs": [
    {
     "data": {
      "text/plain": [
       "(205, 27)"
      ]
     },
     "execution_count": 33,
     "metadata": {},
     "output_type": "execute_result"
    }
   ],
   "source": [
    "df.shape"
   ]
  },
  {
   "cell_type": "code",
   "execution_count": 34,
   "id": "f30da2c6",
   "metadata": {},
   "outputs": [],
   "source": [
    "df1=df[:100]"
   ]
  },
  {
   "cell_type": "code",
   "execution_count": 35,
   "id": "9a6d37df",
   "metadata": {},
   "outputs": [],
   "source": [
    "df2=df[101:]"
   ]
  },
  {
   "cell_type": "code",
   "execution_count": 36,
   "id": "ff791d7e",
   "metadata": {},
   "outputs": [
    {
     "data": {
      "text/plain": [
       "(100, 27)"
      ]
     },
     "execution_count": 36,
     "metadata": {},
     "output_type": "execute_result"
    }
   ],
   "source": [
    "df1.shape"
   ]
  },
  {
   "cell_type": "code",
   "execution_count": 37,
   "id": "e9570337",
   "metadata": {},
   "outputs": [
    {
     "data": {
      "text/plain": [
       "(104, 27)"
      ]
     },
     "execution_count": 37,
     "metadata": {},
     "output_type": "execute_result"
    }
   ],
   "source": [
    "df2.shape"
   ]
  },
  {
   "cell_type": "code",
   "execution_count": 45,
   "id": "93639fd8",
   "metadata": {},
   "outputs": [],
   "source": [
    "# we can combine using the append function\n",
    "df3=df1.append(df2,ignore_index=True)"
   ]
  },
  {
   "cell_type": "code",
   "execution_count": 46,
   "id": "47a8104e",
   "metadata": {},
   "outputs": [
    {
     "data": {
      "text/plain": [
       "(204, 27)"
      ]
     },
     "execution_count": 46,
     "metadata": {},
     "output_type": "execute_result"
    }
   ],
   "source": [
    "df3.shape"
   ]
  },
  {
   "cell_type": "markdown",
   "id": "d0ef62cd",
   "metadata": {},
   "source": [
    "#### Using the Concat Function"
   ]
  },
  {
   "cell_type": "code",
   "execution_count": 49,
   "id": "959ff97d",
   "metadata": {},
   "outputs": [
    {
     "data": {
      "text/plain": [
       "(204, 27)"
      ]
     },
     "execution_count": 49,
     "metadata": {},
     "output_type": "execute_result"
    }
   ],
   "source": [
    "pd.concat([df1,df2],ignore_index=True,axis=0).shape"
   ]
  },
  {
   "cell_type": "code",
   "execution_count": 51,
   "id": "dbdab9b9",
   "metadata": {},
   "outputs": [
    {
     "data": {
      "text/plain": [
       "(204, 54)"
      ]
     },
     "execution_count": 51,
     "metadata": {},
     "output_type": "execute_result"
    }
   ],
   "source": [
    "pd.concat([df1,df2],ignore_index=True,axis=1).shape"
   ]
  },
  {
   "cell_type": "markdown",
   "id": "d78a6c3a",
   "metadata": {},
   "source": [
    "#### Using the Merge Function"
   ]
  },
  {
   "cell_type": "code",
   "execution_count": 54,
   "id": "0a1d97ee",
   "metadata": {},
   "outputs": [
    {
     "data": {
      "text/plain": [
       "(66, 53)"
      ]
     },
     "execution_count": 54,
     "metadata": {},
     "output_type": "execute_result"
    }
   ],
   "source": [
    "df1.merge(df2,on='make').shape"
   ]
  },
  {
   "cell_type": "code",
   "execution_count": 55,
   "id": "ebc9c156",
   "metadata": {},
   "outputs": [
    {
     "data": {
      "text/plain": [
       "(155, 53)"
      ]
     },
     "execution_count": 55,
     "metadata": {},
     "output_type": "execute_result"
    }
   ],
   "source": [
    "df1.merge(df2,on='make',how='left').shape"
   ]
  },
  {
   "cell_type": "markdown",
   "id": "962bc59f",
   "metadata": {},
   "source": [
    "5.\tWhat is the difference between list and tuples in Python?"
   ]
  },
  {
   "cell_type": "raw",
   "id": "911d0d99",
   "metadata": {},
   "source": [
    "list is \n",
    "1.mutable\n",
    "2.hashable(callable through index)\n",
    "3.unordered\n",
    "4.contains duplicates\n",
    "5.Homogeneous/Heterogeneous(contains same datatype or diff data type)\n",
    "6.List is referred by [] brackets"
   ]
  },
  {
   "cell_type": "raw",
   "id": "0869ec5c",
   "metadata": {},
   "source": [
    "Tuple is \n",
    "1.immutable **** (The Only diff between List & Tuple is it is immutable) ***\n",
    "2.hashable(callable through index)\n",
    "3.unordered\n",
    "4.contains duplicates\n",
    "5.Homogeneous/Heterogeneous(contains same datatype or diff data type)\n",
    "6.List is referred by () brackets"
   ]
  },
  {
   "cell_type": "code",
   "execution_count": 57,
   "id": "5ebc1c2d",
   "metadata": {},
   "outputs": [],
   "source": [
    "list1=[1,2,4,5,\"abc\",[55,44,77,88],True]"
   ]
  },
  {
   "cell_type": "code",
   "execution_count": 58,
   "id": "01887c56",
   "metadata": {},
   "outputs": [
    {
     "data": {
      "text/plain": [
       "4"
      ]
     },
     "execution_count": 58,
     "metadata": {},
     "output_type": "execute_result"
    }
   ],
   "source": [
    "# Hashable\n",
    "list1[2]"
   ]
  },
  {
   "cell_type": "code",
   "execution_count": 59,
   "id": "85a441fa",
   "metadata": {},
   "outputs": [],
   "source": [
    "# mutable\n",
    "list1[4]='def'"
   ]
  },
  {
   "cell_type": "code",
   "execution_count": 60,
   "id": "33f2d46e",
   "metadata": {},
   "outputs": [
    {
     "data": {
      "text/plain": [
       "[1, 2, 4, 5, 'def', [55, 44, 77, 88], True]"
      ]
     },
     "execution_count": 60,
     "metadata": {},
     "output_type": "execute_result"
    }
   ],
   "source": [
    "list1"
   ]
  },
  {
   "cell_type": "code",
   "execution_count": 66,
   "id": "1d968873",
   "metadata": {},
   "outputs": [],
   "source": [
    "list1.append(77)"
   ]
  },
  {
   "cell_type": "code",
   "execution_count": 67,
   "id": "23126329",
   "metadata": {},
   "outputs": [
    {
     "data": {
      "text/plain": [
       "[1, 2, 4, 5, 'def', [55, 44, 77, 88], True, 77]"
      ]
     },
     "execution_count": 67,
     "metadata": {},
     "output_type": "execute_result"
    }
   ],
   "source": [
    "list1"
   ]
  },
  {
   "cell_type": "code",
   "execution_count": 68,
   "id": "89c12048",
   "metadata": {},
   "outputs": [],
   "source": [
    "# Now we will create a tuple\n",
    "tuple1=(1,3,5,7,8,9,[1,2,3])"
   ]
  },
  {
   "cell_type": "code",
   "execution_count": 69,
   "id": "9941b21e",
   "metadata": {},
   "outputs": [
    {
     "data": {
      "text/plain": [
       "(1, 3, 5, 7, 8, 9, [1, 2, 3])"
      ]
     },
     "execution_count": 69,
     "metadata": {},
     "output_type": "execute_result"
    }
   ],
   "source": [
    "tuple1"
   ]
  },
  {
   "cell_type": "code",
   "execution_count": 72,
   "id": "b12f5cf4",
   "metadata": {},
   "outputs": [
    {
     "ename": "TypeError",
     "evalue": "'tuple' object does not support item assignment",
     "output_type": "error",
     "traceback": [
      "\u001b[1;31m---------------------------------------------------------------------------\u001b[0m",
      "\u001b[1;31mTypeError\u001b[0m                                 Traceback (most recent call last)",
      "\u001b[1;32m~\\AppData\\Local\\Temp/ipykernel_9860/3656412311.py\u001b[0m in \u001b[0;36m<module>\u001b[1;34m\u001b[0m\n\u001b[0;32m      1\u001b[0m \u001b[1;31m# Please note that when we try to extend the list, it is throwing errors\u001b[0m\u001b[1;33m\u001b[0m\u001b[1;33m\u001b[0m\u001b[0m\n\u001b[1;32m----> 2\u001b[1;33m \u001b[0mtuple1\u001b[0m\u001b[1;33m[\u001b[0m\u001b[1;36m2\u001b[0m\u001b[1;33m]\u001b[0m\u001b[1;33m=\u001b[0m\u001b[1;36m55\u001b[0m\u001b[1;33m\u001b[0m\u001b[1;33m\u001b[0m\u001b[0m\n\u001b[0m",
      "\u001b[1;31mTypeError\u001b[0m: 'tuple' object does not support item assignment"
     ]
    }
   ],
   "source": [
    "# Please note that when we try to extend the list, it is throwing errors\n",
    "tuple1[2]=55"
   ]
  },
  {
   "cell_type": "markdown",
   "id": "88a55905",
   "metadata": {},
   "source": [
    "6.\tFind out the mean, median and standard deviation of this numpy array -> np.array([1,5,3,100,4,48])"
   ]
  },
  {
   "cell_type": "code",
   "execution_count": 78,
   "id": "4a296db4",
   "metadata": {},
   "outputs": [],
   "source": [
    "array1=np.array([1,5,3,100,4,48])"
   ]
  },
  {
   "cell_type": "code",
   "execution_count": 76,
   "id": "2946a39e",
   "metadata": {},
   "outputs": [
    {
     "data": {
      "text/plain": [
       "26.833333333333332"
      ]
     },
     "execution_count": 76,
     "metadata": {},
     "output_type": "execute_result"
    }
   ],
   "source": [
    "array1.mean()"
   ]
  },
  {
   "cell_type": "code",
   "execution_count": 82,
   "id": "b4fcfe6e",
   "metadata": {},
   "outputs": [
    {
     "data": {
      "text/plain": [
       "4.5"
      ]
     },
     "execution_count": 82,
     "metadata": {},
     "output_type": "execute_result"
    }
   ],
   "source": [
    "np.median(array1)"
   ]
  },
  {
   "cell_type": "code",
   "execution_count": 83,
   "id": "bb438c28",
   "metadata": {},
   "outputs": [
    {
     "data": {
      "text/plain": [
       "36.59424666377065"
      ]
     },
     "execution_count": 83,
     "metadata": {},
     "output_type": "execute_result"
    }
   ],
   "source": [
    "np.std(array1)"
   ]
  },
  {
   "cell_type": "markdown",
   "id": "833b8857",
   "metadata": {},
   "source": [
    "7.\tHow will you remove duplicate elements from a list?"
   ]
  },
  {
   "cell_type": "code",
   "execution_count": 93,
   "id": "1c9f599e",
   "metadata": {},
   "outputs": [],
   "source": [
    "list1=[1,1,2,3,5,5,5,7,7]"
   ]
  },
  {
   "cell_type": "code",
   "execution_count": 87,
   "id": "d85dfe01",
   "metadata": {},
   "outputs": [
    {
     "data": {
      "text/plain": [
       "[1, 2, 3, 5, 7]"
      ]
     },
     "execution_count": 87,
     "metadata": {},
     "output_type": "execute_result"
    }
   ],
   "source": [
    "# we can convert the list to a set which will remove the duplicates in a list and we can again reconvert it to a list.\n",
    "list2=list(set(list1))\n",
    "list2"
   ]
  },
  {
   "cell_type": "code",
   "execution_count": 89,
   "id": "accb5365",
   "metadata": {},
   "outputs": [],
   "source": [
    "# There are multiple other ways to remove duplicates from list\n",
    "# we can use dict.fromkeys approach, as fromkeys will take only distinct keys\n",
    "\n",
    "list3=list(dict.fromkeys(list1))"
   ]
  },
  {
   "cell_type": "code",
   "execution_count": 119,
   "id": "d49ffa5e",
   "metadata": {},
   "outputs": [],
   "source": [
    "temp = []\n"
   ]
  },
  {
   "cell_type": "code",
   "execution_count": 120,
   "id": "3c3bab37",
   "metadata": {},
   "outputs": [
    {
     "data": {
      "text/plain": [
       "[]"
      ]
     },
     "execution_count": 120,
     "metadata": {},
     "output_type": "execute_result"
    }
   ],
   "source": [
    "temp"
   ]
  },
  {
   "cell_type": "code",
   "execution_count": 121,
   "id": "497be398",
   "metadata": {},
   "outputs": [
    {
     "data": {
      "text/plain": [
       "[None, None, None, None, None]"
      ]
     },
     "execution_count": 121,
     "metadata": {},
     "output_type": "execute_result"
    }
   ],
   "source": [
    "[temp.append(i) for i in list1 if i not in temp ]"
   ]
  },
  {
   "cell_type": "code",
   "execution_count": 122,
   "id": "4e76ba64",
   "metadata": {},
   "outputs": [
    {
     "data": {
      "text/plain": [
       "[1, 2, 3, 5, 7]"
      ]
     },
     "execution_count": 122,
     "metadata": {},
     "output_type": "execute_result"
    }
   ],
   "source": [
    "temp"
   ]
  },
  {
   "cell_type": "code",
   "execution_count": 123,
   "id": "b0e972eb",
   "metadata": {},
   "outputs": [
    {
     "data": {
      "text/plain": [
       "list"
      ]
     },
     "execution_count": 123,
     "metadata": {},
     "output_type": "execute_result"
    }
   ],
   "source": [
    "type(temp)"
   ]
  },
  {
   "cell_type": "markdown",
   "id": "4f29ed97",
   "metadata": {},
   "source": [
    "#### 8.\tWhat is a map() function in Python? Give an example"
   ]
  },
  {
   "cell_type": "code",
   "execution_count": null,
   "id": "97ac3b44",
   "metadata": {},
   "outputs": [],
   "source": [
    "#### Map function is used to apply a expression to all the values in the List/Tuple"
   ]
  },
  {
   "cell_type": "code",
   "execution_count": 12,
   "id": "42b0e50d",
   "metadata": {},
   "outputs": [],
   "source": [
    "list12 = [1,2,3,4,5,6,7,8,9,10]\n",
    "tuple2 = (5,6,7,8,9)\n",
    "set2={10,20,30,40,50}"
   ]
  },
  {
   "cell_type": "code",
   "execution_count": 9,
   "id": "e000769f",
   "metadata": {},
   "outputs": [
    {
     "data": {
      "text/plain": [
       "[15, 16, 17, 18, 19]"
      ]
     },
     "execution_count": 9,
     "metadata": {},
     "output_type": "execute_result"
    }
   ],
   "source": [
    "# Example 1 : Map function to increment all the values in the tuple by 10\n",
    "list(map(lambda x:x+10 , tuple2))"
   ]
  },
  {
   "cell_type": "code",
   "execution_count": 15,
   "id": "fd8db7b1",
   "metadata": {},
   "outputs": [
    {
     "data": {
      "text/plain": [
       "[500, 200, 400, 100, 300]"
      ]
     },
     "execution_count": 15,
     "metadata": {},
     "output_type": "execute_result"
    }
   ],
   "source": [
    "# Example 2 : Map function to increment all the values in the set by multiplying by 10\n",
    "list(map(lambda x:x*10 , set2))"
   ]
  },
  {
   "cell_type": "code",
   "execution_count": 16,
   "id": "edec7b58",
   "metadata": {},
   "outputs": [
    {
     "data": {
      "text/plain": [
       "[7, 8, 9]"
      ]
     },
     "execution_count": 16,
     "metadata": {},
     "output_type": "execute_result"
    }
   ],
   "source": [
    "# Example 3: The Filter function will filters the list/tuple elements based on the filter criteria\n",
    "list(filter(lambda x:x>6 , tuple2))"
   ]
  },
  {
   "cell_type": "markdown",
   "id": "9f2603f9",
   "metadata": {},
   "source": [
    "#### 9.\tWhat is pass in Python?"
   ]
  },
  {
   "cell_type": "code",
   "execution_count": 18,
   "id": "bc91b73d",
   "metadata": {},
   "outputs": [
    {
     "name": "stdout",
     "output_type": "stream",
     "text": [
      "The \"pass\" statement\n",
      "********************\n",
      "\n",
      "   pass_stmt ::= \"pass\"\n",
      "\n",
      "\"pass\" is a null operation — when it is executed, nothing happens. It\n",
      "is useful as a placeholder when a statement is required syntactically,\n",
      "but no code needs to be executed, for example:\n",
      "\n",
      "   def f(arg): pass    # a function that does nothing (yet)\n",
      "\n",
      "   class C: pass       # a class with no methods (yet)\n",
      "\n"
     ]
    }
   ],
   "source": [
    "# Pass is a placeholder in Python\n",
    "help(\"pass\")"
   ]
  },
  {
   "cell_type": "code",
   "execution_count": 24,
   "id": "0926ffc9",
   "metadata": {},
   "outputs": [],
   "source": [
    "# we can define a function with a placeholder, so when executed it just allocates a memory space for the function but no action takes place\n",
    "def func1():\n",
    "    pass\n"
   ]
  },
  {
   "cell_type": "code",
   "execution_count": 23,
   "id": "f3ea76e3",
   "metadata": {},
   "outputs": [
    {
     "data": {
      "text/plain": [
       "<function __main__.func1()>"
      ]
     },
     "execution_count": 23,
     "metadata": {},
     "output_type": "execute_result"
    }
   ],
   "source": [
    "# when you execute func1, it just returns the placeholder\n",
    "func1"
   ]
  },
  {
   "cell_type": "markdown",
   "id": "da032cc3",
   "metadata": {},
   "source": [
    "10.\tWhat is vstack() in numpy? Give an example"
   ]
  },
  {
   "cell_type": "markdown",
   "id": "ae2919e1",
   "metadata": {},
   "source": [
    "#### vstack is used to vertically stack an array && hstack is used to horizontally stack an array"
   ]
  },
  {
   "cell_type": "code",
   "execution_count": 30,
   "id": "5e95303e",
   "metadata": {},
   "outputs": [],
   "source": [
    "import numpy as np\n",
    "arr1 = np.array([[10,20,30],[40,50,60]])\n",
    "arr2 = np.array([[110,120,130],[140,150,160]])"
   ]
  },
  {
   "cell_type": "code",
   "execution_count": 31,
   "id": "1d6ba02a",
   "metadata": {},
   "outputs": [
    {
     "data": {
      "text/plain": [
       "array([[ 10,  20,  30],\n",
       "       [ 40,  50,  60],\n",
       "       [110, 120, 130],\n",
       "       [140, 150, 160]])"
      ]
     },
     "execution_count": 31,
     "metadata": {},
     "output_type": "execute_result"
    }
   ],
   "source": [
    "np.vstack((arr1,arr2))"
   ]
  },
  {
   "cell_type": "code",
   "execution_count": 32,
   "id": "ad04a27c",
   "metadata": {},
   "outputs": [
    {
     "data": {
      "text/plain": [
       "array([[ 10,  20,  30, 110, 120, 130],\n",
       "       [ 40,  50,  60, 140, 150, 160]])"
      ]
     },
     "execution_count": 32,
     "metadata": {},
     "output_type": "execute_result"
    }
   ],
   "source": [
    "np.hstack((arr1,arr2))"
   ]
  },
  {
   "cell_type": "code",
   "execution_count": 33,
   "id": "5d9f17c5",
   "metadata": {},
   "outputs": [
    {
     "data": {
      "text/plain": [
       "array([[110, 120, 130],\n",
       "       [140, 150, 160],\n",
       "       [ 10,  20,  30],\n",
       "       [ 40,  50,  60]])"
      ]
     },
     "execution_count": 33,
     "metadata": {},
     "output_type": "execute_result"
    }
   ],
   "source": [
    "np.vstack((arr2,arr1))"
   ]
  },
  {
   "cell_type": "code",
   "execution_count": null,
   "id": "4552f3c3",
   "metadata": {},
   "outputs": [],
   "source": []
  }
 ],
 "metadata": {
  "kernelspec": {
   "display_name": "Python 3 (ipykernel)",
   "language": "python",
   "name": "python3"
  },
  "language_info": {
   "codemirror_mode": {
    "name": "ipython",
    "version": 3
   },
   "file_extension": ".py",
   "mimetype": "text/x-python",
   "name": "python",
   "nbconvert_exporter": "python",
   "pygments_lexer": "ipython3",
   "version": "3.9.7"
  }
 },
 "nbformat": 4,
 "nbformat_minor": 5
}
