{
 "cells": [
  {
   "cell_type": "markdown",
   "id": "f8e43c54",
   "metadata": {},
   "source": [
    "1.\tGet the input for 2 variables though “input” function and pass them to a function to return the addition of two variables"
   ]
  },
  {
   "cell_type": "code",
   "execution_count": 4,
   "id": "308ff45b",
   "metadata": {},
   "outputs": [
    {
     "name": "stdout",
     "output_type": "stream",
     "text": [
      "Enter the number 1: 10\n",
      "Enter the number 2: 100.5\n",
      "The sum of 10.0 and 100.5 is 110.5\n"
     ]
    }
   ],
   "source": [
    "var1= float(input(\"Enter the number 1: \"))\n",
    "var2 = float(input(\"Enter the number 2: \"))\n",
    "\n",
    "def addition1(a,b):\n",
    "    var_sum = a + b\n",
    "    return var_sum\n",
    "\n",
    "print(f\"The sum of {var1} and {var2} is\",addition1(var1,var2) )"
   ]
  },
  {
   "cell_type": "markdown",
   "id": "0f99ff0d",
   "metadata": {},
   "source": [
    "2.\tWhat happens if we try to add an int with str and vice versa. Please print out the error"
   ]
  },
  {
   "cell_type": "code",
   "execution_count": 5,
   "id": "7f737254",
   "metadata": {},
   "outputs": [
    {
     "ename": "TypeError",
     "evalue": "unsupported operand type(s) for +: 'int' and 'str'",
     "output_type": "error",
     "traceback": [
      "\u001b[1;31m---------------------------------------------------------------------------\u001b[0m",
      "\u001b[1;31mTypeError\u001b[0m                                 Traceback (most recent call last)",
      "\u001b[1;32m~\\AppData\\Local\\Temp/ipykernel_11308/1757188908.py\u001b[0m in \u001b[0;36m<module>\u001b[1;34m\u001b[0m\n\u001b[0;32m      2\u001b[0m \u001b[0my\u001b[0m \u001b[1;33m=\u001b[0m \u001b[1;34m\"20\"\u001b[0m\u001b[1;33m\u001b[0m\u001b[1;33m\u001b[0m\u001b[0m\n\u001b[0;32m      3\u001b[0m \u001b[1;33m\u001b[0m\u001b[0m\n\u001b[1;32m----> 4\u001b[1;33m \u001b[0mz\u001b[0m \u001b[1;33m=\u001b[0m \u001b[0mx\u001b[0m \u001b[1;33m+\u001b[0m \u001b[0my\u001b[0m\u001b[1;33m\u001b[0m\u001b[1;33m\u001b[0m\u001b[0m\n\u001b[0m\u001b[0;32m      5\u001b[0m \u001b[1;33m\u001b[0m\u001b[0m\n",
      "\u001b[1;31mTypeError\u001b[0m: unsupported operand type(s) for +: 'int' and 'str'"
     ]
    }
   ],
   "source": [
    "x = 10\n",
    "y = \"20\"\n",
    "\n",
    "z = x + y\n",
    "\n"
   ]
  },
  {
   "cell_type": "code",
   "execution_count": 6,
   "id": "f7d5be94",
   "metadata": {},
   "outputs": [
    {
     "ename": "TypeError",
     "evalue": "can only concatenate str (not \"int\") to str",
     "output_type": "error",
     "traceback": [
      "\u001b[1;31m---------------------------------------------------------------------------\u001b[0m",
      "\u001b[1;31mTypeError\u001b[0m                                 Traceback (most recent call last)",
      "\u001b[1;32m~\\AppData\\Local\\Temp/ipykernel_11308/3557280381.py\u001b[0m in \u001b[0;36m<module>\u001b[1;34m\u001b[0m\n\u001b[1;32m----> 1\u001b[1;33m \u001b[0mz\u001b[0m \u001b[1;33m=\u001b[0m \u001b[0my\u001b[0m \u001b[1;33m+\u001b[0m \u001b[0mx\u001b[0m\u001b[1;33m\u001b[0m\u001b[1;33m\u001b[0m\u001b[0m\n\u001b[0m",
      "\u001b[1;31mTypeError\u001b[0m: can only concatenate str (not \"int\") to str"
     ]
    }
   ],
   "source": [
    "z = y + x"
   ]
  },
  {
   "cell_type": "markdown",
   "id": "b1d3120e",
   "metadata": {},
   "source": [
    "3.\tCreate a string variable for the word “Data Science” and see if the letter “s” is present in it using membership operators"
   ]
  },
  {
   "cell_type": "code",
   "execution_count": 9,
   "id": "b88f7f70",
   "metadata": {},
   "outputs": [
    {
     "name": "stdout",
     "output_type": "stream",
     "text": [
      "False\n"
     ]
    }
   ],
   "source": [
    "word = \"Data Science\"\n",
    "\n",
    "print ('s' in word)\n",
    "\n",
    "# Membership Operators \"in\" & \"not in\" etc."
   ]
  },
  {
   "cell_type": "markdown",
   "id": "7521ce0d",
   "metadata": {},
   "source": [
    "4.\tWrite a function and pass a number list as an argument to the function. And return True if the first and last number of a given list is same. If numbers are different then return False"
   ]
  },
  {
   "cell_type": "code",
   "execution_count": 16,
   "id": "04b35f51",
   "metadata": {},
   "outputs": [
    {
     "name": "stdout",
     "output_type": "stream",
     "text": [
      "The First number in list1:10 and last number in list1:50 is Same : False\n"
     ]
    }
   ],
   "source": [
    "list1 = [10,20,30,40,50]\n",
    "\n",
    "def check_list(list_1):\n",
    "    if list_1[0] == list_1[-1]:\n",
    "        return True\n",
    "    else:\n",
    "        return False\n",
    "    \n",
    "print(f\"The First number in list1:{list1[0]} and last number in list1:{list1[-1]} is Same :\", check_list(list1))"
   ]
  },
  {
   "cell_type": "markdown",
   "id": "d5a8d9f9",
   "metadata": {},
   "source": [
    "5.\tIterate the given list of numbers (l1) and print only those numbers which are divisible by 5. (l1 = [10, 20, 33, 46, 55])"
   ]
  },
  {
   "cell_type": "code",
   "execution_count": 20,
   "id": "0344e512",
   "metadata": {},
   "outputs": [
    {
     "data": {
      "text/plain": [
       "[10, 20, 55]"
      ]
     },
     "execution_count": 20,
     "metadata": {},
     "output_type": "execute_result"
    }
   ],
   "source": [
    "l1 = [10,20,33,44,55]\n",
    "\n",
    "[a for a in l1 if(a%5==0)]\n",
    "\n",
    "# Make use of the list comprehension to achieve the required result"
   ]
  },
  {
   "cell_type": "markdown",
   "id": "9b7ce2c6",
   "metadata": {},
   "source": [
    "6.\tWrite a program to create function calculation() such that it can accept two variables and calculate addition and subtraction. Also, it must return both addition and subtraction in a single return call.\n",
    "a.\tHint: Separate return values with a comma\n"
   ]
  },
  {
   "cell_type": "code",
   "execution_count": 26,
   "id": "0ed2e780",
   "metadata": {},
   "outputs": [
    {
     "name": "stdout",
     "output_type": "stream",
     "text": [
      "Enter the number1: 10\n",
      "Enter the number2: 20\n",
      "The addition and subtraction of numbers 10.0 & 20.0 is  addition: 30.0 Subtraction -10.0\n"
     ]
    }
   ],
   "source": [
    "var3 = float(input(\"Enter the number1: \"))\n",
    "var4 = float(input(\"Enter the number2: \"))\n",
    "\n",
    "def calculation(a,b):\n",
    "    return a+b,a-b\n",
    "\n",
    "print(f\"The addition and subtraction of numbers {var3} & {var4} is \" , \"addition:\" ,calculation(var3,var4)[0],\"Subtraction\" ,calculation(var3,var4)[1])"
   ]
  },
  {
   "cell_type": "markdown",
   "id": "79aabc04",
   "metadata": {},
   "source": [
    "7.\tWrite a program to demonstrate the following Syntax error\n",
    "a.\tSyntaxError: non-default argument follows default argument\n"
   ]
  },
  {
   "cell_type": "code",
   "execution_count": 27,
   "id": "be0a27a2",
   "metadata": {},
   "outputs": [
    {
     "ename": "SyntaxError",
     "evalue": "non-default argument follows default argument (Temp/ipykernel_11308/3372551090.py, line 1)",
     "output_type": "error",
     "traceback": [
      "\u001b[1;36m  File \u001b[1;32m\"C:\\Users\\ADMIN\\AppData\\Local\\Temp/ipykernel_11308/3372551090.py\"\u001b[1;36m, line \u001b[1;32m1\u001b[0m\n\u001b[1;33m    def hello_world(a=\"Inceptez\",b):\u001b[0m\n\u001b[1;37m                                  ^\u001b[0m\n\u001b[1;31mSyntaxError\u001b[0m\u001b[1;31m:\u001b[0m non-default argument follows default argument\n"
     ]
    }
   ],
   "source": [
    "def hello_world(a=\"Inceptez\",b):\n",
    "    print(f\"Hello {a}\",b)\n",
    "\n",
    "    \n",
    "hello_world(\"good morning\")"
   ]
  },
  {
   "cell_type": "code",
   "execution_count": 29,
   "id": "08720c4c",
   "metadata": {},
   "outputs": [
    {
     "name": "stdout",
     "output_type": "stream",
     "text": [
      "Hello, Good morning Inceptez\n"
     ]
    }
   ],
   "source": [
    "## Correct Version of the above requirement is \n",
    "def hello_world1(a,b=\"Inceptez\"):\n",
    "    print(f\"Hello, {a}\",b)    \n",
    "hello_world1(\"Good morning\")"
   ]
  },
  {
   "cell_type": "markdown",
   "id": "9d80b4e9",
   "metadata": {},
   "source": [
    "8.\tWhat’s recursion? Explain in your own words and write a program to create a recursive function to calculate the sum of numbers from 0 to 10"
   ]
  },
  {
   "cell_type": "code",
   "execution_count": 32,
   "id": "1d158cfd",
   "metadata": {},
   "outputs": [
    {
     "name": "stdout",
     "output_type": "stream",
     "text": [
      "The recursive addition of number 10 is 55\n"
     ]
    }
   ],
   "source": [
    "# A Function that calls itself in a loop is called Recursion. it can be used to iterate to calcuate factorials etc.\n",
    "\n",
    "num = 10\n",
    "\n",
    "def recursion_factorial(a):\n",
    "    if (a == 1):\n",
    "        return 1\n",
    "    elif (a == 0):\n",
    "        return 0\n",
    "    else:\n",
    "        return a + recursion_factorial(a-1)\n",
    "\n",
    "print(f\"The recursive addition of number {num} is\" ,recursion_factorial(num))"
   ]
  },
  {
   "cell_type": "markdown",
   "id": "d7bf8236",
   "metadata": {},
   "source": [
    "9.\tUse filter and lambda function to calculate square for below numbers only if they are odd number\n",
    "a.\t[12, 11, 53, 22, 21, 77, 87, 88, 98]\n"
   ]
  },
  {
   "cell_type": "code",
   "execution_count": 38,
   "id": "ecf9b0bb",
   "metadata": {},
   "outputs": [
    {
     "name": "stdout",
     "output_type": "stream",
     "text": [
      "Odd Number list is  [12, 22, 88, 98]\n",
      "Square of the Odd Number list is  [144, 484, 7744, 9604]\n"
     ]
    }
   ],
   "source": [
    "a = [12,11,53,22,21,77,87,88,98]\n",
    "\n",
    "# To filter out Odd numbers\n",
    "b=list(filter(lambda x:x%2==0,a))\n",
    "print(\"Odd Number list is \", b)\n",
    "print(\"Square of the Odd Number list is \", list(map(lambda x : x**2,b)))"
   ]
  },
  {
   "cell_type": "markdown",
   "id": "a164093e",
   "metadata": {},
   "source": [
    "Write a function (not a lambda function) and use it to demonstrate an example for map function (any logical function of your choice)"
   ]
  },
  {
   "cell_type": "code",
   "execution_count": 53,
   "id": "b5f95cbb",
   "metadata": {},
   "outputs": [
    {
     "data": {
      "text/plain": [
       "[55, 65, 75, 85]"
      ]
     },
     "execution_count": 53,
     "metadata": {},
     "output_type": "execute_result"
    }
   ],
   "source": [
    "# This function will add 5 to all the values in the list \n",
    "a = [50,60,70,80]\n",
    "add = 5\n",
    "def list_add_5(list_1):\n",
    "    for i in range(len(list_1)):\n",
    "        list_1[i]=list_1[i]+add\n",
    "    return list_1\n",
    "    \n",
    "list_add_5(a)"
   ]
  },
  {
   "cell_type": "code",
   "execution_count": 54,
   "id": "1681f5b8",
   "metadata": {},
   "outputs": [
    {
     "data": {
      "text/plain": [
       "[55, 65, 75, 85]"
      ]
     },
     "execution_count": 54,
     "metadata": {},
     "output_type": "execute_result"
    }
   ],
   "source": [
    "# the equivalent Map function for this requirement is \n",
    "\n",
    "a = [50,60,70,80]\n",
    "\n",
    "list(map(lambda x : x+5,a))"
   ]
  },
  {
   "cell_type": "code",
   "execution_count": null,
   "id": "1790654f",
   "metadata": {},
   "outputs": [],
   "source": []
  }
 ],
 "metadata": {
  "kernelspec": {
   "display_name": "Python 3 (ipykernel)",
   "language": "python",
   "name": "python3"
  },
  "language_info": {
   "codemirror_mode": {
    "name": "ipython",
    "version": 3
   },
   "file_extension": ".py",
   "mimetype": "text/x-python",
   "name": "python",
   "nbconvert_exporter": "python",
   "pygments_lexer": "ipython3",
   "version": "3.9.7"
  }
 },
 "nbformat": 4,
 "nbformat_minor": 5
}
