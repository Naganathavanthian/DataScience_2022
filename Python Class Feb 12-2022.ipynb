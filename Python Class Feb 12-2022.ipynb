{
 "cells": [
  {
   "cell_type": "markdown",
   "id": "756cf241",
   "metadata": {},
   "source": [
    "Data Type Conversion"
   ]
  },
  {
   "cell_type": "code",
   "execution_count": 1,
   "id": "3115d286",
   "metadata": {},
   "outputs": [
    {
     "data": {
      "text/plain": [
       "10.0"
      ]
     },
     "execution_count": 1,
     "metadata": {},
     "output_type": "execute_result"
    }
   ],
   "source": [
    "float(10)"
   ]
  },
  {
   "cell_type": "code",
   "execution_count": 2,
   "id": "6f188ea9",
   "metadata": {},
   "outputs": [
    {
     "data": {
      "text/plain": [
       "10"
      ]
     },
     "execution_count": 2,
     "metadata": {},
     "output_type": "execute_result"
    }
   ],
   "source": [
    "int(10.3)"
   ]
  },
  {
   "cell_type": "code",
   "execution_count": 3,
   "id": "75554c56",
   "metadata": {},
   "outputs": [
    {
     "data": {
      "text/plain": [
       "5.5"
      ]
     },
     "execution_count": 3,
     "metadata": {},
     "output_type": "execute_result"
    }
   ],
   "source": [
    "float('5.5')"
   ]
  },
  {
   "cell_type": "code",
   "execution_count": 4,
   "id": "1067e451",
   "metadata": {},
   "outputs": [
    {
     "data": {
      "text/plain": [
       "'20'"
      ]
     },
     "execution_count": 4,
     "metadata": {},
     "output_type": "execute_result"
    }
   ],
   "source": [
    "str(20)"
   ]
  },
  {
   "cell_type": "markdown",
   "id": "3a6dd520",
   "metadata": {},
   "source": [
    "Conversion of Sequence from one to another"
   ]
  },
  {
   "cell_type": "code",
   "execution_count": 5,
   "id": "7be84027",
   "metadata": {},
   "outputs": [
    {
     "data": {
      "text/plain": [
       "{1, 2, 7, 22}"
      ]
     },
     "execution_count": 5,
     "metadata": {},
     "output_type": "execute_result"
    }
   ],
   "source": [
    "# conversion of list to set\n",
    "set([1,2,22,7,7])"
   ]
  },
  {
   "cell_type": "code",
   "execution_count": 6,
   "id": "b9b3b111",
   "metadata": {},
   "outputs": [
    {
     "data": {
      "text/plain": [
       "(88, 1, 2, 5)"
      ]
     },
     "execution_count": 6,
     "metadata": {},
     "output_type": "execute_result"
    }
   ],
   "source": [
    "# conversion of set to tuple\n",
    "tuple({1,2,5,88})"
   ]
  },
  {
   "cell_type": "code",
   "execution_count": 7,
   "id": "04e73565",
   "metadata": {},
   "outputs": [
    {
     "data": {
      "text/plain": [
       "['LIST']"
      ]
     },
     "execution_count": 7,
     "metadata": {},
     "output_type": "execute_result"
    }
   ],
   "source": [
    "['LIST']"
   ]
  },
  {
   "cell_type": "code",
   "execution_count": 8,
   "id": "50698b4b",
   "metadata": {},
   "outputs": [
    {
     "data": {
      "text/plain": [
       "['L', 'I', 'S', 'T']"
      ]
     },
     "execution_count": 8,
     "metadata": {},
     "output_type": "execute_result"
    }
   ],
   "source": [
    "list('LIST')"
   ]
  },
  {
   "cell_type": "code",
   "execution_count": 9,
   "id": "6895ce17",
   "metadata": {},
   "outputs": [
    {
     "name": "stdout",
     "output_type": "stream",
     "text": [
      "{'Name': 'John', 10: 50}\n"
     ]
    }
   ],
   "source": [
    "# if we pass the info in the array of Lists and convert it to a dict, python can convert it\n",
    "print(dict([[\"Name\",\"John\"],[10,50]]))"
   ]
  },
  {
   "cell_type": "code",
   "execution_count": 10,
   "id": "e873ad6c",
   "metadata": {},
   "outputs": [],
   "source": [
    "dict1= {\"Name\":\"Naga\" , \"Value\":10}"
   ]
  },
  {
   "cell_type": "code",
   "execution_count": 11,
   "id": "3506195d",
   "metadata": {},
   "outputs": [
    {
     "data": {
      "text/plain": [
       "{'Name': 'Naga', 'Value': 10}"
      ]
     },
     "execution_count": 11,
     "metadata": {},
     "output_type": "execute_result"
    }
   ],
   "source": [
    "dict1"
   ]
  },
  {
   "cell_type": "markdown",
   "id": "360b6bbb",
   "metadata": {},
   "source": [
    "### Type Conversion"
   ]
  },
  {
   "cell_type": "markdown",
   "id": "ff2823b3",
   "metadata": {},
   "source": [
    "Implicit Conversion\n",
    "Explicit Conversion"
   ]
  },
  {
   "cell_type": "code",
   "execution_count": 12,
   "id": "23f7db5d",
   "metadata": {},
   "outputs": [
    {
     "name": "stdout",
     "output_type": "stream",
     "text": [
      "the value of conv is 555.5\n"
     ]
    },
    {
     "data": {
      "text/plain": [
       "float"
      ]
     },
     "execution_count": 12,
     "metadata": {},
     "output_type": "execute_result"
    }
   ],
   "source": [
    "# in Python when we try to add variables of\n",
    "# diff datatype then python will try to convert from lower order to higher order\n",
    "int1 = 500\n",
    "int2 = 55.5\n",
    "\n",
    "conv = int1+int2\n",
    "print(\"the value of conv is\" , conv)\n",
    "type(conv)"
   ]
  },
  {
   "cell_type": "code",
   "execution_count": 13,
   "id": "791dde6a",
   "metadata": {},
   "outputs": [
    {
     "ename": "TypeError",
     "evalue": "unsupported operand type(s) for +: 'int' and 'str'",
     "output_type": "error",
     "traceback": [
      "\u001b[1;31m---------------------------------------------------------------------------\u001b[0m",
      "\u001b[1;31mTypeError\u001b[0m                                 Traceback (most recent call last)",
      "\u001b[1;32m~\\AppData\\Local\\Temp/ipykernel_17148/499106807.py\u001b[0m in \u001b[0;36m<module>\u001b[1;34m\u001b[0m\n\u001b[0;32m      4\u001b[0m \u001b[0mstr1\u001b[0m \u001b[1;33m=\u001b[0m \u001b[1;34m\"55.5\"\u001b[0m\u001b[1;33m\u001b[0m\u001b[1;33m\u001b[0m\u001b[0m\n\u001b[0;32m      5\u001b[0m \u001b[1;33m\u001b[0m\u001b[0m\n\u001b[1;32m----> 6\u001b[1;33m \u001b[0mconv\u001b[0m \u001b[1;33m=\u001b[0m \u001b[0mint1\u001b[0m\u001b[1;33m+\u001b[0m\u001b[0mstr1\u001b[0m\u001b[1;33m\u001b[0m\u001b[1;33m\u001b[0m\u001b[0m\n\u001b[0m\u001b[0;32m      7\u001b[0m \u001b[0mprint\u001b[0m\u001b[1;33m(\u001b[0m\u001b[1;34m\"the value of conv is\"\u001b[0m \u001b[1;33m,\u001b[0m \u001b[0mconv\u001b[0m\u001b[1;33m)\u001b[0m\u001b[1;33m\u001b[0m\u001b[1;33m\u001b[0m\u001b[0m\n\u001b[0;32m      8\u001b[0m \u001b[0mtype\u001b[0m\u001b[1;33m(\u001b[0m\u001b[0mconv\u001b[0m\u001b[1;33m)\u001b[0m\u001b[1;33m\u001b[0m\u001b[1;33m\u001b[0m\u001b[0m\n",
      "\u001b[1;31mTypeError\u001b[0m: unsupported operand type(s) for +: 'int' and 'str'"
     ]
    }
   ],
   "source": [
    "# in Python when we try to add variables of\n",
    "# diff datatype then python will try to convert from lower order to higher order\n",
    "int1 = 500\n",
    "str1 = \"55.5\"\n",
    "\n",
    "conv = int1+str1\n",
    "print(\"the value of conv is\" , conv)\n",
    "type(conv)"
   ]
  },
  {
   "cell_type": "code",
   "execution_count": 16,
   "id": "caadadf9",
   "metadata": {},
   "outputs": [
    {
     "name": "stdout",
     "output_type": "stream",
     "text": [
      "the value of conv is 555.5\n"
     ]
    },
    {
     "data": {
      "text/plain": [
       "float"
      ]
     },
     "execution_count": 16,
     "metadata": {},
     "output_type": "execute_result"
    }
   ],
   "source": [
    "# if we convert string to Float then if we try to add then it will work\n",
    "\n",
    "int1 = 500\n",
    "str1_conv = float(\"55.5\")\n",
    "\n",
    "conv = int1+str1_conv\n",
    "print(\"the value of conv is\" , conv)\n",
    "type(conv)"
   ]
  },
  {
   "cell_type": "markdown",
   "id": "a8b58787",
   "metadata": {},
   "source": [
    "### Input"
   ]
  },
  {
   "cell_type": "code",
   "execution_count": 17,
   "id": "a17ec076",
   "metadata": {},
   "outputs": [
    {
     "name": "stdout",
     "output_type": "stream",
     "text": [
      "Enter the number: 10\n",
      "<class 'float'>\n"
     ]
    },
    {
     "data": {
      "text/plain": [
       "60.0"
      ]
     },
     "execution_count": 17,
     "metadata": {},
     "output_type": "execute_result"
    }
   ],
   "source": [
    "## Python will consider all the input values as STRING by default as it is Higher Order\n",
    "num = input(\"Enter the number: \")\n",
    "num1=float(num)\n",
    "print(type(num1))\n",
    "add = num1 + 50\n",
    "add"
   ]
  },
  {
   "cell_type": "code",
   "execution_count": 18,
   "id": "ae5cadc6",
   "metadata": {},
   "outputs": [
    {
     "name": "stdout",
     "output_type": "stream",
     "text": [
      "65\n"
     ]
    }
   ],
   "source": [
    "a = eval('10+55')\n",
    "print(a)"
   ]
  },
  {
   "cell_type": "markdown",
   "id": "db2c151d",
   "metadata": {},
   "source": [
    "###Operators"
   ]
  },
  {
   "cell_type": "code",
   "execution_count": 19,
   "id": "c026d021",
   "metadata": {},
   "outputs": [
    {
     "name": "stdout",
     "output_type": "stream",
     "text": [
      "76\n",
      "28\n",
      "1248\n",
      "2.1666666666666665\n",
      "2\n",
      "152784834199652075368661148843397208866816\n"
     ]
    }
   ],
   "source": [
    "x = 52\n",
    "y = 24\n",
    "\n",
    "print (x + y)\n",
    "print (x - y)\n",
    "print (x * y)\n",
    "print (x/y)\n",
    "# x//y will display the quotient values only without rouding\n",
    "print (x//y)\n",
    "print(x**y)"
   ]
  },
  {
   "cell_type": "markdown",
   "id": "29d13aa4",
   "metadata": {},
   "source": [
    "### Logical Operators"
   ]
  },
  {
   "cell_type": "code",
   "execution_count": 20,
   "id": "4c577930",
   "metadata": {},
   "outputs": [
    {
     "name": "stdout",
     "output_type": "stream",
     "text": [
      "False\n",
      "True\n",
      "False\n"
     ]
    }
   ],
   "source": [
    "# And is Multiplication\n",
    "# Or is Addition\n",
    "# True is boolean 1 and False is Boolean 0\n",
    "# so x and y means ( 1 * 0) which is 0 thats why it is False\n",
    "# x or y means (1 + 0) which is 1 thats why it is True\n",
    "x = True\n",
    "y = False\n",
    "\n",
    "print ( x and y)\n",
    "print (x or y)\n",
    "print (not x)"
   ]
  },
  {
   "cell_type": "markdown",
   "id": "9e92906c",
   "metadata": {},
   "source": [
    "### Assigment Operators"
   ]
  },
  {
   "cell_type": "code",
   "execution_count": 21,
   "id": "6f04a76c",
   "metadata": {},
   "outputs": [],
   "source": [
    "x1 = 15\n",
    "y1 = 15\n",
    "\n",
    "x2 = \"Hello\"\n",
    "y2 = \"Hello\"\n",
    "\n",
    "x3= [1,2,3]\n",
    "y3= [1,2,3]\n",
    "\n",
    "x4 = (1,2,3)\n",
    "y4 = (1,2,3)\n",
    "\n",
    "x5 = 10.5\n",
    "y5 = 10.5"
   ]
  },
  {
   "cell_type": "code",
   "execution_count": null,
   "id": "0ff82b06",
   "metadata": {},
   "outputs": [],
   "source": [
    "print(x1 is y1)"
   ]
  },
  {
   "cell_type": "code",
   "execution_count": null,
   "id": "b67bfe2e",
   "metadata": {},
   "outputs": [],
   "source": [
    "print(x2 is y2)"
   ]
  },
  {
   "cell_type": "code",
   "execution_count": null,
   "id": "0dc4fa11",
   "metadata": {},
   "outputs": [],
   "source": [
    "print(x3 is y3)"
   ]
  },
  {
   "cell_type": "code",
   "execution_count": null,
   "id": "4b9c4045",
   "metadata": {},
   "outputs": [],
   "source": [
    "print(x4 is y4)"
   ]
  },
  {
   "cell_type": "code",
   "execution_count": null,
   "id": "77542916",
   "metadata": {},
   "outputs": [],
   "source": [
    "# id() will display the memory reference for the variable\n",
    "id(x1),id(y1)"
   ]
  },
  {
   "cell_type": "code",
   "execution_count": null,
   "id": "1044f8b5",
   "metadata": {},
   "outputs": [],
   "source": [
    "id(x2),id(y2)"
   ]
  },
  {
   "cell_type": "code",
   "execution_count": null,
   "id": "409aae3a",
   "metadata": {},
   "outputs": [],
   "source": [
    "# The Memory reference for the List and Tuple will be different\n",
    "id(x3),id(y3)"
   ]
  },
  {
   "cell_type": "code",
   "execution_count": null,
   "id": "3f88f771",
   "metadata": {},
   "outputs": [],
   "source": [
    "print(x5 is y5)"
   ]
  },
  {
   "cell_type": "markdown",
   "id": "306deaf6",
   "metadata": {},
   "source": [
    "### Membership Operators"
   ]
  },
  {
   "cell_type": "code",
   "execution_count": 84,
   "id": "9f6d2ade",
   "metadata": {},
   "outputs": [],
   "source": [
    "x = \"Hello World\"\n",
    "y = {10:'a' , 12:'b'}"
   ]
  },
  {
   "cell_type": "code",
   "execution_count": 85,
   "id": "5ca8855d",
   "metadata": {},
   "outputs": [
    {
     "name": "stdout",
     "output_type": "stream",
     "text": [
      "True\n"
     ]
    }
   ],
   "source": [
    "print ('H' in x)"
   ]
  },
  {
   "cell_type": "code",
   "execution_count": 86,
   "id": "37da9e58",
   "metadata": {},
   "outputs": [
    {
     "name": "stdout",
     "output_type": "stream",
     "text": [
      "True\n"
     ]
    }
   ],
   "source": [
    "# Python is case sensitive\n",
    "print('hello' not in x)"
   ]
  },
  {
   "cell_type": "code",
   "execution_count": 87,
   "id": "fee315db",
   "metadata": {},
   "outputs": [
    {
     "name": "stdout",
     "output_type": "stream",
     "text": [
      "False\n"
     ]
    }
   ],
   "source": [
    "# in a dictionary we can only refer to the Keys and not values\n",
    "print('10' in y)"
   ]
  },
  {
   "cell_type": "code",
   "execution_count": 88,
   "id": "4bd36771",
   "metadata": {},
   "outputs": [
    {
     "name": "stdout",
     "output_type": "stream",
     "text": [
      "False\n"
     ]
    }
   ],
   "source": [
    "print('a' in y)"
   ]
  },
  {
   "cell_type": "markdown",
   "id": "7ddf5241",
   "metadata": {},
   "source": [
    "### If Statement"
   ]
  },
  {
   "cell_type": "code",
   "execution_count": 89,
   "id": "360e9e95",
   "metadata": {},
   "outputs": [
    {
     "name": "stdout",
     "output_type": "stream",
     "text": [
      "Enter the value:5\n",
      "Positive\n"
     ]
    }
   ],
   "source": [
    "num = int(input(\"Enter the value:\"))\n",
    "\n",
    "if (num>0):\n",
    "    print('Positive')\n",
    "elif (num==0):\n",
    "    print('Zero')\n",
    "else:\n",
    "    print('Negative')"
   ]
  },
  {
   "cell_type": "markdown",
   "id": "83c75d95",
   "metadata": {},
   "source": [
    "### Nested If "
   ]
  },
  {
   "cell_type": "code",
   "execution_count": null,
   "id": "11ab0e61",
   "metadata": {},
   "outputs": [],
   "source": [
    "num1 = int(input(\"Enter the value:\"))\n",
    "\n",
    "if num1 >= 0:\n",
    "    if num1 == 0:\n",
    "        print('zero')\n",
    "    else:\n",
    "        print('Positive')\n",
    "else:\n",
    "    print('Negative')"
   ]
  },
  {
   "cell_type": "markdown",
   "id": "9bbb8244",
   "metadata": {},
   "source": [
    "### For Loop"
   ]
  },
  {
   "cell_type": "markdown",
   "id": "c8840ed7",
   "metadata": {},
   "source": [
    "#### we should not assign the values to the Keywords lke \"List\" it will cause errors in your programs\n"
   ]
  },
  {
   "cell_type": "code",
   "execution_count": 15,
   "id": "0bd08cee",
   "metadata": {},
   "outputs": [
    {
     "data": {
      "text/plain": [
       "['a', 'b', 'c']"
      ]
     },
     "execution_count": 15,
     "metadata": {},
     "output_type": "execute_result"
    }
   ],
   "source": [
    "list(['a','b','c'])"
   ]
  },
  {
   "cell_type": "code",
   "execution_count": 23,
   "id": "ce9dfd8a",
   "metadata": {},
   "outputs": [
    {
     "name": "stdout",
     "output_type": "stream",
     "text": [
      "12\n",
      "25\n",
      "39\n",
      "54\n",
      "The final value of add is 54\n"
     ]
    }
   ],
   "source": [
    "list1 = [12,13,14,15]\n",
    "add = 0\n",
    "\n",
    "for i in list1:\n",
    "    add = add + i\n",
    "    print(add)\n",
    "print(\"The final value of add is\" , add)"
   ]
  },
  {
   "cell_type": "code",
   "execution_count": 24,
   "id": "a391a603",
   "metadata": {},
   "outputs": [
    {
     "name": "stdout",
     "output_type": "stream",
     "text": [
      "\n",
      "Here is a list of the Python keywords.  Enter any keyword to get more help.\n",
      "\n",
      "False               break               for                 not\n",
      "None                class               from                or\n",
      "True                continue            global              pass\n",
      "__peg_parser__      def                 if                  raise\n",
      "and                 del                 import              return\n",
      "as                  elif                in                  try\n",
      "assert              else                is                  while\n",
      "async               except              lambda              with\n",
      "await               finally             nonlocal            yield\n",
      "\n"
     ]
    }
   ],
   "source": [
    "help(\"keywords\")"
   ]
  },
  {
   "cell_type": "code",
   "execution_count": 25,
   "id": "db966dee",
   "metadata": {},
   "outputs": [
    {
     "name": "stdout",
     "output_type": "stream",
     "text": [
      "Function definitions\n",
      "********************\n",
      "\n",
      "A function definition defines a user-defined function object (see\n",
      "section The standard type hierarchy):\n",
      "\n",
      "   funcdef                   ::= [decorators] \"def\" funcname \"(\" [parameter_list] \")\"\n",
      "               [\"->\" expression] \":\" suite\n",
      "   decorators                ::= decorator+\n",
      "   decorator                 ::= \"@\" assignment_expression NEWLINE\n",
      "   parameter_list            ::= defparameter (\",\" defparameter)* \",\" \"/\" [\",\" [parameter_list_no_posonly]]\n",
      "                        | parameter_list_no_posonly\n",
      "   parameter_list_no_posonly ::= defparameter (\",\" defparameter)* [\",\" [parameter_list_starargs]]\n",
      "                                 | parameter_list_starargs\n",
      "   parameter_list_starargs   ::= \"*\" [parameter] (\",\" defparameter)* [\",\" [\"**\" parameter [\",\"]]]\n",
      "                               | \"**\" parameter [\",\"]\n",
      "   parameter                 ::= identifier [\":\" expression]\n",
      "   defparameter              ::= parameter [\"=\" expression]\n",
      "   funcname                  ::= identifier\n",
      "\n",
      "A function definition is an executable statement.  Its execution binds\n",
      "the function name in the current local namespace to a function object\n",
      "(a wrapper around the executable code for the function).  This\n",
      "function object contains a reference to the current global namespace\n",
      "as the global namespace to be used when the function is called.\n",
      "\n",
      "The function definition does not execute the function body; this gets\n",
      "executed only when the function is called. [2]\n",
      "\n",
      "A function definition may be wrapped by one or more *decorator*\n",
      "expressions. Decorator expressions are evaluated when the function is\n",
      "defined, in the scope that contains the function definition.  The\n",
      "result must be a callable, which is invoked with the function object\n",
      "as the only argument. The returned value is bound to the function name\n",
      "instead of the function object.  Multiple decorators are applied in\n",
      "nested fashion. For example, the following code\n",
      "\n",
      "   @f1(arg)\n",
      "   @f2\n",
      "   def func(): pass\n",
      "\n",
      "is roughly equivalent to\n",
      "\n",
      "   def func(): pass\n",
      "   func = f1(arg)(f2(func))\n",
      "\n",
      "except that the original function is not temporarily bound to the name\n",
      "\"func\".\n",
      "\n",
      "Changed in version 3.9: Functions may be decorated with any valid\n",
      "\"assignment_expression\". Previously, the grammar was much more\n",
      "restrictive; see **PEP 614** for details.\n",
      "\n",
      "When one or more *parameters* have the form *parameter* \"=\"\n",
      "*expression*, the function is said to have “default parameter values.”\n",
      "For a parameter with a default value, the corresponding *argument* may\n",
      "be omitted from a call, in which case the parameter’s default value is\n",
      "substituted.  If a parameter has a default value, all following\n",
      "parameters up until the “\"*\"” must also have a default value — this is\n",
      "a syntactic restriction that is not expressed by the grammar.\n",
      "\n",
      "**Default parameter values are evaluated from left to right when the\n",
      "function definition is executed.** This means that the expression is\n",
      "evaluated once, when the function is defined, and that the same “pre-\n",
      "computed” value is used for each call.  This is especially important\n",
      "to understand when a default parameter is a mutable object, such as a\n",
      "list or a dictionary: if the function modifies the object (e.g. by\n",
      "appending an item to a list), the default value is in effect modified.\n",
      "This is generally not what was intended.  A way around this is to use\n",
      "\"None\" as the default, and explicitly test for it in the body of the\n",
      "function, e.g.:\n",
      "\n",
      "   def whats_on_the_telly(penguin=None):\n",
      "       if penguin is None:\n",
      "           penguin = []\n",
      "       penguin.append(\"property of the zoo\")\n",
      "       return penguin\n",
      "\n",
      "Function call semantics are described in more detail in section Calls.\n",
      "A function call always assigns values to all parameters mentioned in\n",
      "the parameter list, either from positional arguments, from keyword\n",
      "arguments, or from default values.  If the form “\"*identifier\"” is\n",
      "present, it is initialized to a tuple receiving any excess positional\n",
      "parameters, defaulting to the empty tuple. If the form\n",
      "“\"**identifier\"” is present, it is initialized to a new ordered\n",
      "mapping receiving any excess keyword arguments, defaulting to a new\n",
      "empty mapping of the same type.  Parameters after “\"*\"” or\n",
      "“\"*identifier\"” are keyword-only parameters and may only be passed by\n",
      "keyword arguments.  Parameters before “\"/\"” are positional-only\n",
      "parameters and may only be passed by positional arguments.\n",
      "\n",
      "Changed in version 3.8: The \"/\" function parameter syntax may be used\n",
      "to indicate positional-only parameters. See **PEP 570** for details.\n",
      "\n",
      "Parameters may have an *annotation* of the form “\": expression\"”\n",
      "following the parameter name.  Any parameter may have an annotation,\n",
      "even those of the form \"*identifier\" or \"**identifier\".  Functions may\n",
      "have “return” annotation of the form “\"-> expression\"” after the\n",
      "parameter list.  These annotations can be any valid Python expression.\n",
      "The presence of annotations does not change the semantics of a\n",
      "function.  The annotation values are available as values of a\n",
      "dictionary keyed by the parameters’ names in the \"__annotations__\"\n",
      "attribute of the function object.  If the \"annotations\" import from\n",
      "\"__future__\" is used, annotations are preserved as strings at runtime\n",
      "which enables postponed evaluation.  Otherwise, they are evaluated\n",
      "when the function definition is executed.  In this case annotations\n",
      "may be evaluated in a different order than they appear in the source\n",
      "code.\n",
      "\n",
      "It is also possible to create anonymous functions (functions not bound\n",
      "to a name), for immediate use in expressions.  This uses lambda\n",
      "expressions, described in section Lambdas.  Note that the lambda\n",
      "expression is merely a shorthand for a simplified function definition;\n",
      "a function defined in a “\"def\"” statement can be passed around or\n",
      "assigned to another name just like a function defined by a lambda\n",
      "expression.  The “\"def\"” form is actually more powerful since it\n",
      "allows the execution of multiple statements and annotations.\n",
      "\n",
      "**Programmer’s note:** Functions are first-class objects.  A “\"def\"”\n",
      "statement executed inside a function definition defines a local\n",
      "function that can be returned or passed around.  Free variables used\n",
      "in the nested function can access the local variables of the function\n",
      "containing the def.  See section Naming and binding for details.\n",
      "\n",
      "See also:\n",
      "\n",
      "  **PEP 3107** - Function Annotations\n",
      "     The original specification for function annotations.\n",
      "\n",
      "  **PEP 484** - Type Hints\n",
      "     Definition of a standard meaning for annotations: type hints.\n",
      "\n",
      "  **PEP 526** - Syntax for Variable Annotations\n",
      "     Ability to type hint variable declarations, including class\n",
      "     variables and instance variables\n",
      "\n",
      "  **PEP 563** - Postponed Evaluation of Annotations\n",
      "     Support for forward references within annotations by preserving\n",
      "     annotations in a string form at runtime instead of eager\n",
      "     evaluation.\n",
      "\n"
     ]
    }
   ],
   "source": [
    "help(\"def\")"
   ]
  },
  {
   "cell_type": "code",
   "execution_count": 33,
   "id": "c8ba3697",
   "metadata": {},
   "outputs": [
    {
     "name": "stdout",
     "output_type": "stream",
     "text": [
      "<class 'list'> ['list', 'list2']\n",
      "<class 'list'> ['l', 'i', 's', 't']\n"
     ]
    }
   ],
   "source": [
    "a1=['list','list2']\n",
    "a2=list('list')\n",
    "#a3=('tuple')\n",
    "#a4=tuple('tuple')\n",
    "\n",
    "print(type(a1),a1)\n",
    "print(type(a2),a2)\n",
    "#print(type(a3),a3)\n",
    "#print(type(a4),a4)"
   ]
  },
  {
   "cell_type": "markdown",
   "id": "c2613e10",
   "metadata": {},
   "source": [
    "### Feb 13 -2022"
   ]
  },
  {
   "cell_type": "code",
   "execution_count": 34,
   "id": "80429cd2",
   "metadata": {},
   "outputs": [],
   "source": [
    "city = ['Chennai','Hyd','Blore']\n",
    "len_city = len(city)"
   ]
  },
  {
   "cell_type": "code",
   "execution_count": 36,
   "id": "f338be38",
   "metadata": {},
   "outputs": [
    {
     "name": "stdout",
     "output_type": "stream",
     "text": [
      "I want to go to} Chennai\n",
      "I want to go to} Hyd\n",
      "I want to go to} Blore\n"
     ]
    }
   ],
   "source": [
    "for i in range(0,len_city):\n",
    "    print(\"I want to go to\",city[i])"
   ]
  },
  {
   "cell_type": "code",
   "execution_count": 45,
   "id": "2118b811",
   "metadata": {},
   "outputs": [
    {
     "name": "stdout",
     "output_type": "stream",
     "text": [
      "I want to go to Chennai\n",
      "I want to go to Hyd\n",
      "I want to go to Blore\n"
     ]
    }
   ],
   "source": [
    "for i in range(len(city)):\n",
    "    print(\"I want to go to\",city[i])"
   ]
  },
  {
   "cell_type": "code",
   "execution_count": 44,
   "id": "5abe028c",
   "metadata": {},
   "outputs": [
    {
     "name": "stdout",
     "output_type": "stream",
     "text": [
      "the number is  1\n"
     ]
    }
   ],
   "source": [
    "num = [1,10,100]\n",
    "\n",
    "for i in num:\n",
    "    if i==10:\n",
    "        break\n",
    "    print(\"the number is \" , i)\n",
    "else:\n",
    "    print(\"i have \",i ,'days')"
   ]
  },
  {
   "cell_type": "markdown",
   "id": "eddad561",
   "metadata": {},
   "source": [
    "### While loop"
   ]
  },
  {
   "cell_type": "code",
   "execution_count": 41,
   "id": "d7ca9e86",
   "metadata": {},
   "outputs": [
    {
     "name": "stdout",
     "output_type": "stream",
     "text": [
      "enter the number:8\n",
      "The sum_var in iteration  0\n",
      "The sum_var in iteration  1\n",
      "The sum_var in iteration  3\n",
      "The sum_var in iteration  6\n",
      "The sum_var in iteration  10\n",
      "The sum_var in iteration  15\n",
      "The sum_var in iteration  21\n",
      "The sum_var in iteration  28\n",
      "28\n"
     ]
    }
   ],
   "source": [
    "num= int(input(\"enter the number:\"))\n",
    "\n",
    "i = 0\n",
    "sum_var=0\n",
    "\n",
    "while i < num:\n",
    "    sum_var=sum_var+i\n",
    "    i =i+1\n",
    "    print(\"The sum_var in iteration \",sum_var)\n",
    "print(sum_var)"
   ]
  },
  {
   "cell_type": "code",
   "execution_count": 47,
   "id": "df57c06b",
   "metadata": {},
   "outputs": [
    {
     "name": "stdout",
     "output_type": "stream",
     "text": [
      "enter the number:5\n",
      "5\n"
     ]
    }
   ],
   "source": [
    "num1= int(input(\"enter the number:\"))\n",
    "\n",
    "i = 0\n",
    "sum1=0\n",
    "\n",
    "while i < num1:\n",
    "    sum1 = sum1 + 1\n",
    "    i = i + 1\n",
    "else:\n",
    "    print(i)"
   ]
  },
  {
   "cell_type": "code",
   "execution_count": 50,
   "id": "74009fb2",
   "metadata": {},
   "outputs": [
    {
     "name": "stdout",
     "output_type": "stream",
     "text": [
      "C\n",
      "o\n",
      "u\n",
      "n\n",
      "t\n"
     ]
    }
   ],
   "source": [
    "for i in 'Country':\n",
    "    if i == 'r':\n",
    "        break\n",
    "    print(i)"
   ]
  },
  {
   "cell_type": "code",
   "execution_count": 51,
   "id": "7219b36f",
   "metadata": {},
   "outputs": [
    {
     "name": "stdout",
     "output_type": "stream",
     "text": [
      "C\n",
      "o\n",
      "u\n",
      "n\n",
      "t\n",
      "y\n"
     ]
    }
   ],
   "source": [
    "for i in 'Country':\n",
    "    if i == 'r':\n",
    "        continue\n",
    "    print(i)"
   ]
  },
  {
   "cell_type": "code",
   "execution_count": 53,
   "id": "ad2016bf",
   "metadata": {},
   "outputs": [],
   "source": [
    "list3 = list('Pass')\n",
    "list3\n",
    "for i in list3:\n",
    "    pass # add the logic later\n"
   ]
  },
  {
   "cell_type": "markdown",
   "id": "2a836cbe",
   "metadata": {},
   "source": [
    "### Functions "
   ]
  },
  {
   "cell_type": "code",
   "execution_count": 54,
   "id": "634996ae",
   "metadata": {},
   "outputs": [],
   "source": [
    "def greetings(name):\n",
    "    \"\"\"Function to greet someone\"\"\"\n",
    "    print(\"hello\", name , \"how are you\")"
   ]
  },
  {
   "cell_type": "code",
   "execution_count": 55,
   "id": "1acde307",
   "metadata": {},
   "outputs": [
    {
     "name": "stdout",
     "output_type": "stream",
     "text": [
      "hello naga how are you\n"
     ]
    }
   ],
   "source": [
    "greetings('naga')"
   ]
  },
  {
   "cell_type": "code",
   "execution_count": 62,
   "id": "31d5333c",
   "metadata": {},
   "outputs": [],
   "source": [
    "def abs_conv(num):    \n",
    "    if num < 0:\n",
    "        num1 = num * -1\n",
    "    else:\n",
    "        num1 = num\n",
    "    return num1"
   ]
  },
  {
   "cell_type": "code",
   "execution_count": 63,
   "id": "e96dd920",
   "metadata": {},
   "outputs": [
    {
     "data": {
      "text/plain": [
       "9"
      ]
     },
     "execution_count": 63,
     "metadata": {},
     "output_type": "execute_result"
    }
   ],
   "source": [
    "abs_conv(-9)"
   ]
  },
  {
   "cell_type": "code",
   "execution_count": 64,
   "id": "dafb7156",
   "metadata": {},
   "outputs": [],
   "source": [
    "def abs_conv1(num):    \n",
    "    if num < 0:\n",
    "        num1 = -num\n",
    "    else:\n",
    "        num1 = num\n",
    "    return num1"
   ]
  },
  {
   "cell_type": "code",
   "execution_count": 65,
   "id": "dd621262",
   "metadata": {},
   "outputs": [
    {
     "data": {
      "text/plain": [
       "100"
      ]
     },
     "execution_count": 65,
     "metadata": {},
     "output_type": "execute_result"
    }
   ],
   "source": [
    "abs_conv1(-100)"
   ]
  },
  {
   "cell_type": "code",
   "execution_count": 66,
   "id": "736e9ca9",
   "metadata": {},
   "outputs": [
    {
     "name": "stdout",
     "output_type": "stream",
     "text": [
      "Inside the function 10\n",
      "Outside the function 20\n"
     ]
    }
   ],
   "source": [
    "def func1():\n",
    "    a = 10 # this is local variable\n",
    "    print(\"Inside the function\", a)\n",
    "a = 20 # global variable\n",
    "func1()\n",
    "print(\"Outside the function\" , a)\n"
   ]
  },
  {
   "cell_type": "markdown",
   "id": "b61139af",
   "metadata": {},
   "source": [
    "### Function arguments"
   ]
  },
  {
   "cell_type": "code",
   "execution_count": 67,
   "id": "3a16625e",
   "metadata": {},
   "outputs": [],
   "source": [
    "def greet(arg1,arg2):\n",
    "    \"\"\"Function with arguments\"\"\"\n",
    "    print(arg1,arg2, \"everyone\")\n"
   ]
  },
  {
   "cell_type": "code",
   "execution_count": 70,
   "id": "4f376463",
   "metadata": {},
   "outputs": [
    {
     "name": "stdout",
     "output_type": "stream",
     "text": [
      "naga chellam everyone\n"
     ]
    }
   ],
   "source": [
    "greet(\"naga\",\"chellam\")"
   ]
  },
  {
   "cell_type": "markdown",
   "id": "15f24b7b",
   "metadata": {},
   "source": [
    "### Default arguments"
   ]
  },
  {
   "cell_type": "code",
   "execution_count": 71,
   "id": "4e77e6c5",
   "metadata": {},
   "outputs": [],
   "source": [
    "def greet1(arg1,arg2=\"Good Morning\"):\n",
    "    print(\"Hello\",arg1,arg2)"
   ]
  },
  {
   "cell_type": "code",
   "execution_count": 73,
   "id": "66bb68bb",
   "metadata": {},
   "outputs": [
    {
     "name": "stdout",
     "output_type": "stream",
     "text": [
      "Hello 10 Good Morning\n"
     ]
    }
   ],
   "source": [
    "greet1(10)"
   ]
  },
  {
   "cell_type": "code",
   "execution_count": 74,
   "id": "6dc0e484",
   "metadata": {},
   "outputs": [
    {
     "name": "stdout",
     "output_type": "stream",
     "text": [
      "Hello hi good evening\n"
     ]
    }
   ],
   "source": [
    "greet1(\"hi\",\"good evening\")"
   ]
  },
  {
   "cell_type": "code",
   "execution_count": 75,
   "id": "33ee1743",
   "metadata": {},
   "outputs": [
    {
     "ename": "SyntaxError",
     "evalue": "non-default argument follows default argument (Temp/ipykernel_17148/1575686714.py, line 1)",
     "output_type": "error",
     "traceback": [
      "\u001b[1;36m  File \u001b[1;32m\"C:\\Users\\ADMIN\\AppData\\Local\\Temp/ipykernel_17148/1575686714.py\"\u001b[1;36m, line \u001b[1;32m1\u001b[0m\n\u001b[1;33m    def greet2(arg2 = \"Good Morning\" , arg1):\u001b[0m\n\u001b[1;37m                                           ^\u001b[0m\n\u001b[1;31mSyntaxError\u001b[0m\u001b[1;31m:\u001b[0m non-default argument follows default argument\n"
     ]
    }
   ],
   "source": [
    "def greet2(arg2 = \"Good Morning\" , arg1):\n",
    "    print(\"hello\",arg1,arg2)"
   ]
  },
  {
   "cell_type": "markdown",
   "id": "37a0d880",
   "metadata": {},
   "source": [
    "### default arguments should not be followed by non-default arguments"
   ]
  },
  {
   "cell_type": "markdown",
   "id": "71020eaa",
   "metadata": {},
   "source": [
    "### Keyword Arguments"
   ]
  },
  {
   "cell_type": "code",
   "execution_count": 77,
   "id": "0c19f110",
   "metadata": {},
   "outputs": [
    {
     "name": "stdout",
     "output_type": "stream",
     "text": [
      "Hello Hi Everyone\n",
      "Hello Hi Everyone\n",
      "Hello HI Everyone\n"
     ]
    }
   ],
   "source": [
    "greet1(arg1 = \"Hi\",arg2 = \"Everyone\")\n",
    "\n",
    "greet1(arg2 = \"Everyone\",arg1 = \"Hi\")\n",
    "\n",
    "greet1 (\"HI\",arg2=\"Everyone\")"
   ]
  },
  {
   "cell_type": "code",
   "execution_count": 82,
   "id": "ad422005",
   "metadata": {},
   "outputs": [
    {
     "name": "stdout",
     "output_type": "stream",
     "text": [
      "Hello Hi Everyone\n"
     ]
    }
   ],
   "source": [
    "greet1(arg2 = \"Everyone\",arg1 = \"Hi\")"
   ]
  },
  {
   "cell_type": "code",
   "execution_count": 83,
   "id": "7ca99b30",
   "metadata": {},
   "outputs": [
    {
     "name": "stdout",
     "output_type": "stream",
     "text": [
      "Hello HI Good Morning\n"
     ]
    }
   ],
   "source": [
    "greet1(\"HI\")"
   ]
  },
  {
   "cell_type": "markdown",
   "id": "1000272e",
   "metadata": {},
   "source": [
    "### Recursion "
   ]
  },
  {
   "cell_type": "code",
   "execution_count": 90,
   "id": "b993fc05",
   "metadata": {},
   "outputs": [],
   "source": [
    "def fn1():\n",
    "    print(\"the function name is :\")\n",
    "    fn1()\n",
    "# This is recursion and it will create infinite loop here"
   ]
  },
  {
   "cell_type": "code",
   "execution_count": 1,
   "id": "40033537",
   "metadata": {},
   "outputs": [],
   "source": [
    "# Factorial of a number\n",
    "# 5 is 5 * 4 * 3 * 2 * 1\n",
    "# Factorial of 5 is 120"
   ]
  },
  {
   "cell_type": "code",
   "execution_count": 3,
   "id": "3cf9610f",
   "metadata": {},
   "outputs": [
    {
     "name": "stdout",
     "output_type": "stream",
     "text": [
      "Factorial of  5 is 120\n"
     ]
    }
   ],
   "source": [
    "# Factorial using the Recursion is the Important Interview Question\n",
    "def recursion1(x):\n",
    "    if x==1:\n",
    "        return x\n",
    "    else:\n",
    "        return (x * recursion1(x-1))\n",
    "\n",
    "num = 5\n",
    "print(\"Factorial of \" ,num , 'is' , recursion1(num))"
   ]
  },
  {
   "cell_type": "markdown",
   "id": "e37590f5",
   "metadata": {},
   "source": [
    "### Lambda Function - Anonymous Function"
   ]
  },
  {
   "cell_type": "code",
   "execution_count": 4,
   "id": "2050ab40",
   "metadata": {},
   "outputs": [
    {
     "data": {
      "text/plain": [
       "125"
      ]
     },
     "execution_count": 4,
     "metadata": {},
     "output_type": "execute_result"
    }
   ],
   "source": [
    "# all the variables defined in lambda function should be instantiated\n",
    "\n",
    "cube = lambda x:x*x*x\n",
    "cube(5)"
   ]
  },
  {
   "cell_type": "markdown",
   "id": "2b30c8d0",
   "metadata": {},
   "source": [
    "### %%%% Filter %%%"
   ]
  },
  {
   "cell_type": "markdown",
   "id": "422dec8e",
   "metadata": {},
   "source": [
    "#### - Filter takes in a function and a list of arguments\n",
    "#### - The function is called with the items in the list, and the new list is returned containing the items for which the function evaluates to True"
   ]
  },
  {
   "cell_type": "code",
   "execution_count": 5,
   "id": "7b8ba05c",
   "metadata": {},
   "outputs": [],
   "source": [
    "my_list = list(range(20))"
   ]
  },
  {
   "cell_type": "code",
   "execution_count": 6,
   "id": "db9123a2",
   "metadata": {},
   "outputs": [
    {
     "data": {
      "text/plain": [
       "[0, 1, 2, 3, 4, 5, 6, 7, 8, 9, 10, 11, 12, 13, 14, 15, 16, 17, 18, 19]"
      ]
     },
     "execution_count": 6,
     "metadata": {},
     "output_type": "execute_result"
    }
   ],
   "source": [
    "my_list"
   ]
  },
  {
   "cell_type": "code",
   "execution_count": 17,
   "id": "e4ce9586",
   "metadata": {},
   "outputs": [],
   "source": [
    "fil = list(filter(lambda x : x % 2==0 and x < 11  , my_list))"
   ]
  },
  {
   "cell_type": "code",
   "execution_count": 16,
   "id": "0b7563b1",
   "metadata": {},
   "outputs": [
    {
     "data": {
      "text/plain": [
       "[0, 1, 2, 3, 4, 5, 6, 7, 8, 9, 10, 12, 14, 16, 18]"
      ]
     },
     "execution_count": 16,
     "metadata": {},
     "output_type": "execute_result"
    }
   ],
   "source": [
    "fil"
   ]
  },
  {
   "cell_type": "markdown",
   "id": "346d255f",
   "metadata": {},
   "source": [
    "### Map "
   ]
  },
  {
   "cell_type": "markdown",
   "id": "e90b20fa",
   "metadata": {},
   "source": [
    "#### Map applies a expression to all the values in the list"
   ]
  },
  {
   "cell_type": "code",
   "execution_count": 21,
   "id": "4939ca5d",
   "metadata": {},
   "outputs": [
    {
     "data": {
      "text/plain": [
       "[2, 6, 12, 18, 20, 2]"
      ]
     },
     "execution_count": 21,
     "metadata": {},
     "output_type": "execute_result"
    }
   ],
   "source": [
    "my_list1 = [1,3,6,9,10,1]\n",
    "\n",
    "new_list = list(map(lambda x: x * 2,my_list1))\n",
    "new_list"
   ]
  },
  {
   "cell_type": "code",
   "execution_count": 22,
   "id": "f62c689f",
   "metadata": {},
   "outputs": [
    {
     "data": {
      "text/plain": [
       "['A', 'B', 'C', 'D']"
      ]
     },
     "execution_count": 22,
     "metadata": {},
     "output_type": "execute_result"
    }
   ],
   "source": [
    "fil12 = list(map(lambda x:x.upper(),['a','b','c','d']))\n",
    "fil12"
   ]
  },
  {
   "cell_type": "code",
   "execution_count": null,
   "id": "9478bec6",
   "metadata": {},
   "outputs": [],
   "source": []
  }
 ],
 "metadata": {
  "kernelspec": {
   "display_name": "Python 3 (ipykernel)",
   "language": "python",
   "name": "python3"
  },
  "language_info": {
   "codemirror_mode": {
    "name": "ipython",
    "version": 3
   },
   "file_extension": ".py",
   "mimetype": "text/x-python",
   "name": "python",
   "nbconvert_exporter": "python",
   "pygments_lexer": "ipython3",
   "version": "3.9.7"
  }
 },
 "nbformat": 4,
 "nbformat_minor": 5
}
