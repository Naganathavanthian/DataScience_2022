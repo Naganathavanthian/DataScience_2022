{
 "cells": [
  {
   "cell_type": "markdown",
   "id": "13dc2c23",
   "metadata": {},
   "source": [
    "### Keyword"
   ]
  },
  {
   "cell_type": "code",
   "execution_count": 25,
   "id": "2702452a",
   "metadata": {},
   "outputs": [
    {
     "name": "stdout",
     "output_type": "stream",
     "text": [
      "Sai Ram\n"
     ]
    }
   ],
   "source": [
    "print(\"Sai Ram\")"
   ]
  },
  {
   "cell_type": "code",
   "execution_count": 26,
   "id": "aafffbf5",
   "metadata": {},
   "outputs": [
    {
     "ename": "SyntaxError",
     "evalue": "cannot assign to True (Temp/ipykernel_23948/3034689392.py, line 1)",
     "output_type": "error",
     "traceback": [
      "\u001b[1;36m  File \u001b[1;32m\"C:\\Users\\ADMIN\\AppData\\Local\\Temp/ipykernel_23948/3034689392.py\"\u001b[1;36m, line \u001b[1;32m1\u001b[0m\n\u001b[1;33m    True = 10\u001b[0m\n\u001b[1;37m    ^\u001b[0m\n\u001b[1;31mSyntaxError\u001b[0m\u001b[1;31m:\u001b[0m cannot assign to True\n"
     ]
    }
   ],
   "source": [
    "True = 10\n",
    "\n",
    "print (True)\n"
   ]
  },
  {
   "cell_type": "code",
   "execution_count": null,
   "id": "da8f4fef",
   "metadata": {},
   "outputs": [],
   "source": [
    "5 < 3"
   ]
  },
  {
   "cell_type": "markdown",
   "id": "1e6cea11",
   "metadata": {},
   "source": [
    "## Identifier "
   ]
  },
  {
   "cell_type": "code",
   "execution_count": null,
   "id": "9dbc5bdb",
   "metadata": {},
   "outputs": [],
   "source": [
    "a1 = \"true value\""
   ]
  },
  {
   "cell_type": "code",
   "execution_count": null,
   "id": "58c9b61e",
   "metadata": {},
   "outputs": [],
   "source": [
    "_a='abc'\n",
    "print(_a)"
   ]
  },
  {
   "cell_type": "markdown",
   "id": "052cd601",
   "metadata": {},
   "source": [
    "### Python Statement "
   ]
  },
  {
   "cell_type": "code",
   "execution_count": null,
   "id": "a1ed14d3",
   "metadata": {},
   "outputs": [],
   "source": [
    "digit = 1+ 2+3+\n",
    "4+5"
   ]
  },
  {
   "cell_type": "code",
   "execution_count": null,
   "id": "50911d2f",
   "metadata": {},
   "outputs": [],
   "source": [
    "digit = 1+ 2+3+ \\\n",
    "4+5\n",
    "\n",
    "print (digit)"
   ]
  },
  {
   "cell_type": "markdown",
   "id": "995c9628",
   "metadata": {},
   "source": [
    "### we can use \\ or () for multiline statements"
   ]
  },
  {
   "cell_type": "code",
   "execution_count": null,
   "id": "66c129d2",
   "metadata": {},
   "outputs": [],
   "source": [
    "digit1 = ((1+ 2+3+6+\n",
    "4+5))\n",
    "\n",
    "print (digit1)"
   ]
  },
  {
   "cell_type": "code",
   "execution_count": null,
   "id": "0a440322",
   "metadata": {},
   "outputs": [],
   "source": [
    "a = 1\n",
    "b = 2\n",
    "c = 3\n",
    "\n",
    "print (a,b,c)"
   ]
  },
  {
   "cell_type": "markdown",
   "id": "1525216d",
   "metadata": {},
   "source": [
    "### Indentation "
   ]
  },
  {
   "cell_type": "code",
   "execution_count": null,
   "id": "effc489f",
   "metadata": {},
   "outputs": [],
   "source": [
    "range(1 , 5)"
   ]
  },
  {
   "cell_type": "code",
   "execution_count": null,
   "id": "37c5fc6e",
   "metadata": {},
   "outputs": [],
   "source": [
    "list(range(1,5,2)) ## end point is (n - 1 )\n",
    "\n",
    "## last value is step size which is optional"
   ]
  },
  {
   "cell_type": "code",
   "execution_count": null,
   "id": "2711f9d6",
   "metadata": {},
   "outputs": [],
   "source": [
    "for i in range(1,8):\n",
    "    print(i)\n",
    "    if (i==5):\n",
    "        print(i)\n",
    "        break"
   ]
  },
  {
   "cell_type": "code",
   "execution_count": null,
   "id": "38d91b1d",
   "metadata": {},
   "outputs": [],
   "source": [
    "for i in range (1,6):print(\" the value of i is \" , i)"
   ]
  },
  {
   "cell_type": "code",
   "execution_count": null,
   "id": "2f8e09c9",
   "metadata": {},
   "outputs": [],
   "source": [
    "if True : print(\"True\")"
   ]
  },
  {
   "cell_type": "code",
   "execution_count": null,
   "id": "887d65ab",
   "metadata": {},
   "outputs": [],
   "source": [
    "if False : print(\"True\")"
   ]
  },
  {
   "cell_type": "markdown",
   "id": "5126473b",
   "metadata": {},
   "source": [
    "### Comment "
   ]
  },
  {
   "cell_type": "code",
   "execution_count": 45,
   "id": "559bfd17",
   "metadata": {},
   "outputs": [
    {
     "name": "stdout",
     "output_type": "stream",
     "text": [
      "First Line\n",
      "Second  Line\n",
      "Third Line\n"
     ]
    }
   ],
   "source": [
    "# My first comment\n",
    "\n",
    "print(\"First Line\")\n",
    "print (\"Second  Line\")\n",
    "print(\"Third Line\")\n",
    "\n",
    "## use ctrl + / to comment easily"
   ]
  },
  {
   "cell_type": "code",
   "execution_count": null,
   "id": "6103d2f9",
   "metadata": {},
   "outputs": [],
   "source": [
    "### Multiline comments\n",
    "\n",
    "\"\"\"print(\"First Line\")\n",
    "print (\"Second  Line\")\n",
    "print(\"Third Line\")\"\"\"\n",
    "\n",
    "### for multiline comments we can also use \"\"\""
   ]
  },
  {
   "cell_type": "markdown",
   "id": "9d656455",
   "metadata": {},
   "source": [
    "### Doc String "
   ]
  },
  {
   "cell_type": "code",
   "execution_count": null,
   "id": "cda9cc69",
   "metadata": {},
   "outputs": [],
   "source": [
    "def function1():\n",
    "    \"\"\"This is my first function\"\"\"\n",
    "    print(\"Print the value of function1\")"
   ]
  },
  {
   "cell_type": "code",
   "execution_count": null,
   "id": "892c931b",
   "metadata": {},
   "outputs": [],
   "source": [
    "function1()"
   ]
  },
  {
   "cell_type": "code",
   "execution_count": null,
   "id": "f70b4d04",
   "metadata": {},
   "outputs": [],
   "source": [
    "print(function1.__doc__)\n",
    "## <function_name>.__doc__  syntax will display the doc string added in the function definition"
   ]
  },
  {
   "cell_type": "code",
   "execution_count": null,
   "id": "06996b25",
   "metadata": {},
   "outputs": [],
   "source": [
    "def addition_function(a,b):\n",
    "    \"\"\"This is the doc string for addition_function\"\"\"\n",
    "    return a + b\n"
   ]
  },
  {
   "cell_type": "code",
   "execution_count": null,
   "id": "7dd8db06",
   "metadata": {},
   "outputs": [],
   "source": [
    "addition_function(20,30)"
   ]
  },
  {
   "cell_type": "code",
   "execution_count": null,
   "id": "99dec09d",
   "metadata": {},
   "outputs": [],
   "source": [
    "import keyword"
   ]
  },
  {
   "cell_type": "code",
   "execution_count": null,
   "id": "6589137f",
   "metadata": {},
   "outputs": [],
   "source": [
    "keyword.kwlist"
   ]
  },
  {
   "cell_type": "markdown",
   "id": "f7094341",
   "metadata": {},
   "source": [
    "### 06-Feb-2022"
   ]
  },
  {
   "cell_type": "code",
   "execution_count": null,
   "id": "17188ec0",
   "metadata": {},
   "outputs": [],
   "source": [
    "from my_package import test_package1 as tp"
   ]
  },
  {
   "cell_type": "code",
   "execution_count": null,
   "id": "e2c61dc3",
   "metadata": {},
   "outputs": [],
   "source": [
    "abc= tp.name\n",
    "abc"
   ]
  },
  {
   "cell_type": "markdown",
   "id": "5a9e6a56",
   "metadata": {},
   "source": [
    "### LIST"
   ]
  },
  {
   "cell_type": "code",
   "execution_count": 27,
   "id": "46ddcd89",
   "metadata": {},
   "outputs": [],
   "source": [
    "list1 = [1,\"two\",3.0]\n",
    "# list can have different datatypes"
   ]
  },
  {
   "cell_type": "code",
   "execution_count": 28,
   "id": "be42828f",
   "metadata": {},
   "outputs": [
    {
     "name": "stdout",
     "output_type": "stream",
     "text": [
      "1\n",
      "two\n",
      "3.0\n"
     ]
    }
   ],
   "source": [
    "for i in list1:\n",
    "    print(i)"
   ]
  },
  {
   "cell_type": "markdown",
   "id": "c199f3b7",
   "metadata": {},
   "source": [
    "### LIst comprehension"
   ]
  },
  {
   "cell_type": "code",
   "execution_count": 29,
   "id": "a2a02629",
   "metadata": {},
   "outputs": [],
   "source": [
    "list2 = [22,25,28,19]"
   ]
  },
  {
   "cell_type": "code",
   "execution_count": 30,
   "id": "b0df4ec6",
   "metadata": {},
   "outputs": [
    {
     "name": "stdout",
     "output_type": "stream",
     "text": [
      " the value of i is 19\n"
     ]
    }
   ],
   "source": [
    "for i in list2:\n",
    "    if (i < 20):\n",
    "        print (\" the value of i is\" ,i)\n",
    "        break\n",
    "    "
   ]
  },
  {
   "cell_type": "code",
   "execution_count": 31,
   "id": "ba90d198",
   "metadata": {},
   "outputs": [
    {
     "data": {
      "text/plain": [
       "[19.5]"
      ]
     },
     "execution_count": 31,
     "metadata": {},
     "output_type": "execute_result"
    }
   ],
   "source": [
    "[a+.5 for a in list2 if a < 20]\n",
    "# List comprehension syntax [Expression  For Loop  Condition{optional} ]\n",
    "# so in this example Expression is \"a+.5\" Loop is \"for a in list2\"  Condition is \" if a < 20 \"\n",
    "# the list compression  will process in following order Loop --> Condition -- > Expression"
   ]
  },
  {
   "cell_type": "code",
   "execution_count": 32,
   "id": "8c5a073b",
   "metadata": {},
   "outputs": [],
   "source": [
    "power = [a**2 for a in range(11) if a%2 ==0]"
   ]
  },
  {
   "cell_type": "code",
   "execution_count": 33,
   "id": "947f033a",
   "metadata": {},
   "outputs": [
    {
     "data": {
      "text/plain": [
       "[0, 4, 16, 36, 64, 100]"
      ]
     },
     "execution_count": 33,
     "metadata": {},
     "output_type": "execute_result"
    }
   ],
   "source": [
    "power"
   ]
  },
  {
   "cell_type": "code",
   "execution_count": 34,
   "id": "0c25282e",
   "metadata": {},
   "outputs": [],
   "source": [
    "# range will always start from 0 "
   ]
  },
  {
   "cell_type": "code",
   "execution_count": 35,
   "id": "0fb8443a",
   "metadata": {},
   "outputs": [],
   "source": [
    "list3 = [1,2,3,4,5,6,7,8,9,10]"
   ]
  },
  {
   "cell_type": "code",
   "execution_count": 36,
   "id": "4596ebe9",
   "metadata": {},
   "outputs": [
    {
     "data": {
      "text/plain": [
       "1"
      ]
     },
     "execution_count": 36,
     "metadata": {},
     "output_type": "execute_result"
    }
   ],
   "source": [
    "list3[0]"
   ]
  },
  {
   "cell_type": "code",
   "execution_count": 37,
   "id": "a2a94551",
   "metadata": {},
   "outputs": [
    {
     "data": {
      "text/plain": [
       "[3, 4, 5]"
      ]
     },
     "execution_count": 37,
     "metadata": {},
     "output_type": "execute_result"
    }
   ],
   "source": [
    "list3[2:5]"
   ]
  },
  {
   "cell_type": "code",
   "execution_count": 38,
   "id": "67b9569f",
   "metadata": {},
   "outputs": [
    {
     "data": {
      "text/plain": [
       "10"
      ]
     },
     "execution_count": 38,
     "metadata": {},
     "output_type": "execute_result"
    }
   ],
   "source": [
    "list3[-1]"
   ]
  },
  {
   "cell_type": "markdown",
   "id": "703adda0",
   "metadata": {},
   "source": [
    "#### list is mutable"
   ]
  },
  {
   "cell_type": "code",
   "execution_count": 39,
   "id": "8aa1f464",
   "metadata": {},
   "outputs": [],
   "source": [
    "list3[3]=23"
   ]
  },
  {
   "cell_type": "code",
   "execution_count": 40,
   "id": "2be314ad",
   "metadata": {},
   "outputs": [
    {
     "data": {
      "text/plain": [
       "[1, 2, 3, 23, 5, 6, 7, 8, 9, 10]"
      ]
     },
     "execution_count": 40,
     "metadata": {},
     "output_type": "execute_result"
    }
   ],
   "source": [
    "list3"
   ]
  },
  {
   "cell_type": "code",
   "execution_count": 41,
   "id": "d850b915",
   "metadata": {},
   "outputs": [],
   "source": [
    "#  We can able to change the value of the list"
   ]
  },
  {
   "cell_type": "markdown",
   "id": "089c3a3d",
   "metadata": {},
   "source": [
    "#### List is Mutable, Indexing, Slicing\n",
    "#### Tuple is Immutable , Indexing , Slicing "
   ]
  },
  {
   "cell_type": "markdown",
   "id": "967e5ff1",
   "metadata": {},
   "source": [
    "### Tuple is Immutable "
   ]
  },
  {
   "cell_type": "code",
   "execution_count": 42,
   "id": "f86fb019",
   "metadata": {},
   "outputs": [],
   "source": [
    "a = (1,2,3,4,5)\n",
    "b = (1,0.5,\"three\")"
   ]
  },
  {
   "cell_type": "code",
   "execution_count": 43,
   "id": "b9b34e6f",
   "metadata": {},
   "outputs": [
    {
     "data": {
      "text/plain": [
       "(2, 3)"
      ]
     },
     "execution_count": 43,
     "metadata": {},
     "output_type": "execute_result"
    }
   ],
   "source": [
    "a[1:3]"
   ]
  },
  {
   "cell_type": "code",
   "execution_count": 44,
   "id": "b43aad95",
   "metadata": {},
   "outputs": [
    {
     "ename": "TypeError",
     "evalue": "'tuple' object does not support item assignment",
     "output_type": "error",
     "traceback": [
      "\u001b[1;31m---------------------------------------------------------------------------\u001b[0m",
      "\u001b[1;31mTypeError\u001b[0m                                 Traceback (most recent call last)",
      "\u001b[1;32m~\\AppData\\Local\\Temp/ipykernel_23948/3465964976.py\u001b[0m in \u001b[0;36m<module>\u001b[1;34m\u001b[0m\n\u001b[1;32m----> 1\u001b[1;33m \u001b[0ma\u001b[0m\u001b[1;33m[\u001b[0m\u001b[1;36m1\u001b[0m\u001b[1;33m]\u001b[0m \u001b[1;33m=\u001b[0m \u001b[1;36m5\u001b[0m\u001b[1;33m\u001b[0m\u001b[1;33m\u001b[0m\u001b[0m\n\u001b[0m\u001b[0;32m      2\u001b[0m \u001b[1;31m# tuple is immutable and it is a important property of tuple.\u001b[0m\u001b[1;33m\u001b[0m\u001b[1;33m\u001b[0m\u001b[0m\n\u001b[0;32m      3\u001b[0m \u001b[1;31m# List is mutable\u001b[0m\u001b[1;33m\u001b[0m\u001b[1;33m\u001b[0m\u001b[0m\n\u001b[0;32m      4\u001b[0m \u001b[1;31m# Indexing and Slcing is allowed in Tuple & list\u001b[0m\u001b[1;33m\u001b[0m\u001b[1;33m\u001b[0m\u001b[0m\n",
      "\u001b[1;31mTypeError\u001b[0m: 'tuple' object does not support item assignment"
     ]
    }
   ],
   "source": [
    "a[1] = 5\n",
    "# tuple is immutable and it is a important property of tuple.\n",
    "# List is mutable\n",
    "# Indexing and Slcing is allowed in Tuple & list"
   ]
  },
  {
   "cell_type": "markdown",
   "id": "1a778f36",
   "metadata": {},
   "source": [
    "### String - Immutable"
   ]
  },
  {
   "cell_type": "code",
   "execution_count": 46,
   "id": "65d4e8a6",
   "metadata": {},
   "outputs": [
    {
     "name": "stdout",
     "output_type": "stream",
     "text": [
      "Hello World\n"
     ]
    },
    {
     "data": {
      "text/plain": [
       "str"
      ]
     },
     "execution_count": 46,
     "metadata": {},
     "output_type": "execute_result"
    }
   ],
   "source": [
    "s = \"Hello World\"\n",
    "print(s)\n",
    "type(s)\n",
    "\n",
    "## String datatype is immutable"
   ]
  },
  {
   "cell_type": "code",
   "execution_count": 47,
   "id": "51838b7f",
   "metadata": {},
   "outputs": [
    {
     "data": {
      "text/plain": [
       "'H'"
      ]
     },
     "execution_count": 47,
     "metadata": {},
     "output_type": "execute_result"
    }
   ],
   "source": [
    "s[0]"
   ]
  },
  {
   "cell_type": "code",
   "execution_count": 48,
   "id": "5569e3ff",
   "metadata": {},
   "outputs": [
    {
     "data": {
      "text/plain": [
       "' World'"
      ]
     },
     "execution_count": 48,
     "metadata": {},
     "output_type": "execute_result"
    }
   ],
   "source": [
    "s[-6:]"
   ]
  },
  {
   "cell_type": "code",
   "execution_count": 49,
   "id": "a818661e",
   "metadata": {
    "scrolled": true
   },
   "outputs": [
    {
     "ename": "TypeError",
     "evalue": "'str' object does not support item assignment",
     "output_type": "error",
     "traceback": [
      "\u001b[1;31m---------------------------------------------------------------------------\u001b[0m",
      "\u001b[1;31mTypeError\u001b[0m                                 Traceback (most recent call last)",
      "\u001b[1;32m~\\AppData\\Local\\Temp/ipykernel_23948/1529794431.py\u001b[0m in \u001b[0;36m<module>\u001b[1;34m\u001b[0m\n\u001b[1;32m----> 1\u001b[1;33m \u001b[0ms\u001b[0m\u001b[1;33m[\u001b[0m\u001b[1;36m0\u001b[0m\u001b[1;33m]\u001b[0m \u001b[1;33m=\u001b[0m \u001b[1;34m\"B\"\u001b[0m\u001b[1;33m\u001b[0m\u001b[1;33m\u001b[0m\u001b[0m\n\u001b[0m",
      "\u001b[1;31mTypeError\u001b[0m: 'str' object does not support item assignment"
     ]
    }
   ],
   "source": [
    "s[0] = \"B\""
   ]
  },
  {
   "cell_type": "markdown",
   "id": "d927ce5f",
   "metadata": {},
   "source": [
    "### Set  - Unordered , Immutable , No Duplicates , No Indexing , No Slicing"
   ]
  },
  {
   "cell_type": "code",
   "execution_count": 50,
   "id": "637eb716",
   "metadata": {},
   "outputs": [],
   "source": [
    "set1 = {1,2,3,4,5}"
   ]
  },
  {
   "cell_type": "code",
   "execution_count": 51,
   "id": "d9b4546b",
   "metadata": {},
   "outputs": [
    {
     "data": {
      "text/plain": [
       "set"
      ]
     },
     "execution_count": 51,
     "metadata": {},
     "output_type": "execute_result"
    }
   ],
   "source": [
    "type(set1)"
   ]
  },
  {
   "cell_type": "code",
   "execution_count": 52,
   "id": "3bd59eec",
   "metadata": {},
   "outputs": [
    {
     "ename": "TypeError",
     "evalue": "'set' object does not support item assignment",
     "output_type": "error",
     "traceback": [
      "\u001b[1;31m---------------------------------------------------------------------------\u001b[0m",
      "\u001b[1;31mTypeError\u001b[0m                                 Traceback (most recent call last)",
      "\u001b[1;32m~\\AppData\\Local\\Temp/ipykernel_23948/731242891.py\u001b[0m in \u001b[0;36m<module>\u001b[1;34m\u001b[0m\n\u001b[1;32m----> 1\u001b[1;33m \u001b[0mset1\u001b[0m\u001b[1;33m[\u001b[0m\u001b[1;36m1\u001b[0m\u001b[1;33m]\u001b[0m\u001b[1;33m=\u001b[0m \u001b[1;36m2\u001b[0m\u001b[1;33m\u001b[0m\u001b[1;33m\u001b[0m\u001b[0m\n\u001b[0m",
      "\u001b[1;31mTypeError\u001b[0m: 'set' object does not support item assignment"
     ]
    }
   ],
   "source": [
    "set1[1]= 2"
   ]
  },
  {
   "cell_type": "code",
   "execution_count": null,
   "id": "720fb485",
   "metadata": {},
   "outputs": [],
   "source": [
    "\n",
    "# Slicing and Indexing is not possible in set and it is immutable\n",
    "# Set will not allow duplicates"
   ]
  },
  {
   "cell_type": "code",
   "execution_count": 54,
   "id": "4ee13115",
   "metadata": {},
   "outputs": [
    {
     "data": {
      "text/plain": [
       "{1, 2, 3, 4}"
      ]
     },
     "execution_count": 54,
     "metadata": {},
     "output_type": "execute_result"
    }
   ],
   "source": [
    "set2 = {1,2,3,4,1,2,3,4}\n",
    "set2"
   ]
  },
  {
   "cell_type": "code",
   "execution_count": 55,
   "id": "292d6362",
   "metadata": {},
   "outputs": [],
   "source": [
    "set3 = {1,2,3,4,'string','string'}"
   ]
  },
  {
   "cell_type": "code",
   "execution_count": 56,
   "id": "70151b9b",
   "metadata": {},
   "outputs": [
    {
     "data": {
      "text/plain": [
       "{1, 2, 3, 4, 'string'}"
      ]
     },
     "execution_count": 56,
     "metadata": {},
     "output_type": "execute_result"
    }
   ],
   "source": [
    "set3"
   ]
  },
  {
   "cell_type": "code",
   "execution_count": 57,
   "id": "55346ae1",
   "metadata": {},
   "outputs": [
    {
     "name": "stdout",
     "output_type": "stream",
     "text": [
      "1\n",
      "2\n",
      "3\n",
      "4\n",
      "string\n"
     ]
    }
   ],
   "source": [
    "for i in set3:\n",
    "    print(i)"
   ]
  },
  {
   "cell_type": "markdown",
   "id": "9343c457",
   "metadata": {},
   "source": [
    "### Dictionary "
   ]
  },
  {
   "cell_type": "markdown",
   "id": "fb0e28cb",
   "metadata": {},
   "source": [
    "#### Unordered collection of Key - Value Pair"
   ]
  },
  {
   "cell_type": "code",
   "execution_count": 58,
   "id": "5c77b0d4",
   "metadata": {},
   "outputs": [],
   "source": [
    "dict1 = {1:'value1',2:'value2'}"
   ]
  },
  {
   "cell_type": "code",
   "execution_count": 59,
   "id": "98efa543",
   "metadata": {},
   "outputs": [
    {
     "data": {
      "text/plain": [
       "dict"
      ]
     },
     "execution_count": 59,
     "metadata": {},
     "output_type": "execute_result"
    }
   ],
   "source": [
    "type(dict1)"
   ]
  },
  {
   "cell_type": "code",
   "execution_count": 60,
   "id": "4509f3dd",
   "metadata": {},
   "outputs": [
    {
     "data": {
      "text/plain": [
       "('value1', 'value2')"
      ]
     },
     "execution_count": 60,
     "metadata": {},
     "output_type": "execute_result"
    }
   ],
   "source": [
    "dict1[1] , dict1[2]"
   ]
  },
  {
   "cell_type": "code",
   "execution_count": null,
   "id": "2ef22cbb",
   "metadata": {},
   "outputs": [],
   "source": []
  },
  {
   "cell_type": "code",
   "execution_count": null,
   "id": "7c724719",
   "metadata": {},
   "outputs": [],
   "source": []
  }
 ],
 "metadata": {
  "kernelspec": {
   "display_name": "Python 3 (ipykernel)",
   "language": "python",
   "name": "python3"
  },
  "language_info": {
   "codemirror_mode": {
    "name": "ipython",
    "version": 3
   },
   "file_extension": ".py",
   "mimetype": "text/x-python",
   "name": "python",
   "nbconvert_exporter": "python",
   "pygments_lexer": "ipython3",
   "version": "3.9.7"
  }
 },
 "nbformat": 4,
 "nbformat_minor": 5
}
