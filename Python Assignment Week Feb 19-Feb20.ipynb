{
 "cells": [
  {
   "cell_type": "markdown",
   "id": "09d16205",
   "metadata": {},
   "source": [
    "1.\tCreate a file calc.py which has following functions\n",
    "a.\tFunction to find the factorial of a number\n",
    "b.\tFunction to convert degree to Fahrenheit\n",
    "Write a new program in file “maths.py” such that you import functions of the file calc.py to your new program. Use from <module> import <functions> statement to import the functions from the calc module\n"
   ]
  },
  {
   "cell_type": "code",
   "execution_count": 1,
   "id": "073c3cf6",
   "metadata": {},
   "outputs": [
    {
     "name": "stdout",
     "output_type": "stream",
     "text": [
      "The Factorial for 0 is 1\n"
     ]
    },
    {
     "data": {
      "text/plain": [
       "1"
      ]
     },
     "execution_count": 1,
     "metadata": {},
     "output_type": "execute_result"
    }
   ],
   "source": [
    "# written the Factorial and degree to farenheit conversion functions below for reference\n",
    "# will add it to the calc.py\n",
    "def factorial(a):\n",
    "    if a == 0:\n",
    "        print(\"The Factorial for 0 is 1\")\n",
    "        return 1\n",
    "    elif a == 1:\n",
    "        print(\"The Factorial for 1 is 1\")\n",
    "        return 1\n",
    "    else :\n",
    "        fact = a*factorial(a-1)\n",
    "        return fact   \n",
    "\n",
    "factorial(0)"
   ]
  },
  {
   "cell_type": "code",
   "execution_count": 2,
   "id": "8b609f7c",
   "metadata": {},
   "outputs": [
    {
     "data": {
      "text/plain": [
       "95.0"
      ]
     },
     "execution_count": 2,
     "metadata": {},
     "output_type": "execute_result"
    }
   ],
   "source": [
    "def degree_to_farenheit(a):\n",
    "    faren=(a * (9/5))+32\n",
    "    return faren\n",
    "degree_to_farenheit(35)"
   ]
  },
  {
   "cell_type": "code",
   "execution_count": 3,
   "id": "55c18466",
   "metadata": {},
   "outputs": [],
   "source": [
    "from my_package import calc"
   ]
  },
  {
   "cell_type": "code",
   "execution_count": 4,
   "id": "adf622ab",
   "metadata": {},
   "outputs": [
    {
     "data": {
      "text/plain": [
       "120"
      ]
     },
     "execution_count": 4,
     "metadata": {},
     "output_type": "execute_result"
    }
   ],
   "source": [
    "calc.factorial(5)"
   ]
  },
  {
   "cell_type": "code",
   "execution_count": 5,
   "id": "fc3395c6",
   "metadata": {},
   "outputs": [
    {
     "data": {
      "text/plain": [
       "89.6"
      ]
     },
     "execution_count": 5,
     "metadata": {},
     "output_type": "execute_result"
    }
   ],
   "source": [
    "calc.degree_to_farenheit(32)"
   ]
  },
  {
   "cell_type": "markdown",
   "id": "ea9d5044",
   "metadata": {},
   "source": [
    "2.\tImplement a simple generator for Fibonacci series"
   ]
  },
  {
   "cell_type": "code",
   "execution_count": 92,
   "id": "a784ee3a",
   "metadata": {},
   "outputs": [],
   "source": [
    "def fibonacci(a):\n",
    "    b,c = 0,1\n",
    "    i = 0\n",
    "    while i < a:\n",
    "        yield b\n",
    "        i +=1\n",
    "        b,c = c , c + b \n",
    "    \n",
    "\n",
    "var10=fibonacci(8)"
   ]
  },
  {
   "cell_type": "code",
   "execution_count": 93,
   "id": "397a0289",
   "metadata": {},
   "outputs": [
    {
     "name": "stdout",
     "output_type": "stream",
     "text": [
      "0\n",
      "1\n",
      "1\n",
      "2\n",
      "3\n",
      "5\n",
      "8\n",
      "13\n"
     ]
    }
   ],
   "source": [
    "for i in range(8):\n",
    "    print(next(var10))\n"
   ]
  },
  {
   "cell_type": "markdown",
   "id": "36e47225",
   "metadata": {},
   "source": [
    "3.\tWrite an iterator class to iterate over a sequence of values in the reverse direction"
   ]
  },
  {
   "cell_type": "code",
   "execution_count": 98,
   "id": "3aac5ebc",
   "metadata": {},
   "outputs": [],
   "source": [
    "# A list iterator can be only iterated in forward direction, however we can make use of reversed function \n",
    "list1 = [10,20,30,40,50,60]\n",
    "iter1 = reversed(list1)"
   ]
  },
  {
   "cell_type": "code",
   "execution_count": 99,
   "id": "a13abfb3",
   "metadata": {},
   "outputs": [
    {
     "name": "stdout",
     "output_type": "stream",
     "text": [
      "60\n",
      "50\n",
      "40\n",
      "30\n",
      "20\n",
      "10\n"
     ]
    }
   ],
   "source": [
    "for i in range(len(list1)):\n",
    "    print(next(iter1))"
   ]
  },
  {
   "cell_type": "markdown",
   "id": "29f56330",
   "metadata": {},
   "source": [
    "4.\tWrite a function “salary” that takes in base pay, HRA and special allowance as arguments and returns the sum of all the 3 salary elements. Then create a decorator function to add an additional element “Tax” (30% of base pay) and assign it back to base pay variable, and return the function (i.e., the final calculation of salary also includes tax)"
   ]
  },
  {
   "cell_type": "code",
   "execution_count": 100,
   "id": "ab2277e9",
   "metadata": {},
   "outputs": [],
   "source": [
    "def decor_salary(func):\n",
    "    def tax(a,b,c):\n",
    "        tax_amt=a*.3\n",
    "        a = a+tax_amt\n",
    "        return func(a,b,c)\n",
    "    return tax\n",
    "        "
   ]
  },
  {
   "cell_type": "code",
   "execution_count": 101,
   "id": "b9592845",
   "metadata": {},
   "outputs": [
    {
     "data": {
      "text/plain": [
       "19000.0"
      ]
     },
     "execution_count": 101,
     "metadata": {},
     "output_type": "execute_result"
    }
   ],
   "source": [
    "@decor_salary\n",
    "def salary(base,hra,sp_allow):\n",
    "    return base+hra+sp_allow\n",
    "\n",
    "salary(10000,1000,5000)"
   ]
  },
  {
   "cell_type": "markdown",
   "id": "eed91e0f",
   "metadata": {},
   "source": [
    "5.\tWrite 3 examples on possible methods to changing a tuple"
   ]
  },
  {
   "cell_type": "markdown",
   "id": "4105cfdc",
   "metadata": {},
   "source": [
    "#### Option 1 : Is the tuple contains list, then we can modify the list in tuple using Insert, append, extend options"
   ]
  },
  {
   "cell_type": "code",
   "execution_count": 102,
   "id": "7118b82c",
   "metadata": {},
   "outputs": [],
   "source": [
    "tuple1 = (10,20,[30,40],60)"
   ]
  },
  {
   "cell_type": "code",
   "execution_count": 105,
   "id": "f3907568",
   "metadata": {},
   "outputs": [],
   "source": [
    "tuple1[2].append(50)"
   ]
  },
  {
   "cell_type": "code",
   "execution_count": 106,
   "id": "297e0499",
   "metadata": {},
   "outputs": [
    {
     "data": {
      "text/plain": [
       "(10, 20, [30, 40, 50], 60)"
      ]
     },
     "execution_count": 106,
     "metadata": {},
     "output_type": "execute_result"
    }
   ],
   "source": [
    "tuple1"
   ]
  },
  {
   "cell_type": "markdown",
   "id": "002008bd",
   "metadata": {},
   "source": [
    "#### Option 2 : we cannot modify a tuple but we can add a tuple to a tuple"
   ]
  },
  {
   "cell_type": "code",
   "execution_count": 108,
   "id": "62ef448d",
   "metadata": {},
   "outputs": [],
   "source": [
    "tuple2 = (10,20,30)\n",
    "tuple2 = tuple2 + (40,)"
   ]
  },
  {
   "cell_type": "code",
   "execution_count": 109,
   "id": "795e9ebf",
   "metadata": {},
   "outputs": [
    {
     "data": {
      "text/plain": [
       "(10, 20, 30, 40)"
      ]
     },
     "execution_count": 109,
     "metadata": {},
     "output_type": "execute_result"
    }
   ],
   "source": [
    "tuple2"
   ]
  },
  {
   "cell_type": "markdown",
   "id": "c593bc4e",
   "metadata": {},
   "source": [
    "#### Option 3 : we cannot modify a tuple but we can remove an items from the tuple by converting it to a list and removing an item and changing it back to tuple"
   ]
  },
  {
   "cell_type": "code",
   "execution_count": 15,
   "id": "bc41cd97",
   "metadata": {},
   "outputs": [],
   "source": [
    "tuple3 = (10,20,30,40,50,100)"
   ]
  },
  {
   "cell_type": "code",
   "execution_count": 12,
   "id": "67154490",
   "metadata": {},
   "outputs": [
    {
     "data": {
      "text/plain": [
       "[10, 20, 30, 40, 50, 100]"
      ]
     },
     "execution_count": 12,
     "metadata": {},
     "output_type": "execute_result"
    }
   ],
   "source": [
    "list3=list(tuple3)\n",
    "list3"
   ]
  },
  {
   "cell_type": "code",
   "execution_count": 13,
   "id": "9f6d22d0",
   "metadata": {},
   "outputs": [],
   "source": [
    "list3.remove(100)\n",
    "tuple3=tuple(list3)"
   ]
  },
  {
   "cell_type": "code",
   "execution_count": 14,
   "id": "c9fb805b",
   "metadata": {},
   "outputs": [
    {
     "data": {
      "text/plain": [
       "(10, 20, 30, 40, 50)"
      ]
     },
     "execution_count": 14,
     "metadata": {},
     "output_type": "execute_result"
    }
   ],
   "source": [
    "tuple3"
   ]
  },
  {
   "cell_type": "code",
   "execution_count": null,
   "id": "59c555f6",
   "metadata": {},
   "outputs": [],
   "source": []
  }
 ],
 "metadata": {
  "kernelspec": {
   "display_name": "Python 3 (ipykernel)",
   "language": "python",
   "name": "python3"
  },
  "language_info": {
   "codemirror_mode": {
    "name": "ipython",
    "version": 3
   },
   "file_extension": ".py",
   "mimetype": "text/x-python",
   "name": "python",
   "nbconvert_exporter": "python",
   "pygments_lexer": "ipython3",
   "version": "3.9.7"
  }
 },
 "nbformat": 4,
 "nbformat_minor": 5
}
